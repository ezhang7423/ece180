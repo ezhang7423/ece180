{
 "cells": [
  {
   "cell_type": "markdown",
   "metadata": {},
   "source": [
    "# K-nearest neighbors\n",
    "\n",
    "We are using the [CIFAR 10](http://www.cs.toronto.edu/~kriz/cifar.html) dataset.\n",
    "You can download with `wget http://www.cs.toronto.edu/~kriz/cifar-10-python.tar.gz`\n",
    "After downloading `cifar-10-python.tar.gz` to this folder run `tar -xvf cifar-100-python.tar.gz`\n"
   ]
  },
  {
   "cell_type": "code",
   "execution_count": 1,
   "metadata": {},
   "outputs": [],
   "source": [
    "import numpy as np\n",
    "\n",
    "def unpickle(file):\n",
    "    import pickle\n",
    "    with open(file, 'rb') as fo:\n",
    "        dict = pickle.load(fo, encoding='bytes')\n",
    "    return dict\n",
    "\n",
    "\n",
    "\n",
    "def distance(ndarr1, ndarr2):\n",
    "    return (np.sum((ndarr1 - ndarr2) ** 2)).item() ** .5\n",
    "\n"
   ]
  },
  {
   "cell_type": "code",
   "execution_count": 2,
   "metadata": {},
   "outputs": [],
   "source": [
    "train = unpickle('cifar-10-batches-py/data_batch_1')\n",
    "test = unpickle('cifar-10-batches-py/test_batch')\n",
    "\n",
    "train_data = train[b'data']\n",
    "train_labels = train[b'labels']\n",
    "\n",
    "test_data = test[b'data'][:1000]\n",
    "test_labels = test[b'labels'][:1000]"
   ]
  },
  {
   "cell_type": "code",
   "execution_count": 3,
   "metadata": {},
   "outputs": [
    {
     "data": {
      "text/plain": [
       "<matplotlib.image.AxesImage at 0x7fa3d91c7a60>"
      ]
     },
     "execution_count": 3,
     "metadata": {},
     "output_type": "execute_result"
    },
    {
     "data": {
      "image/png": "[encoded data removed]",
      "text/plain": [
       "<Figure size 432x288 with 1 Axes>"
      ]
     },
     "metadata": {
      "needs_background": "light"
     },
     "output_type": "display_data"
    }
   ],
   "source": [
    "# Output a sample image\n",
    "from matplotlib.pyplot import imshow\n",
    "\n",
    "sample = train_data[0]\n",
    "\n",
    "\n",
    "def convertTensor(sample):\n",
    "    size = 32 * 32\n",
    "    r = sample[:size].reshape((32, 32))\n",
    "    g = sample[size:2*size].reshape((32, 32))\n",
    "    b = sample[2*size:].reshape((32, 32))\n",
    "    \n",
    "    return np.dstack((r, g, b))\n",
    "\n",
    "    \n",
    "imshow(convertTensor(sample))"
   ]
  },
  {
   "cell_type": "code",
   "execution_count": 128,
   "metadata": {},
   "outputs": [],
   "source": [
    "# Define k nearest neighbors algorithm\n",
    "import heapq \n",
    "from collections import Counter\n",
    "from statistics import mode\n",
    "\n",
    "class LabeledDistance:  #https://stackoverflow.com/questions/2501457/what-do-i-use-for-a-max-heap-implementation-in-python\n",
    "  def __init__(self, distance, label): \n",
    "      self.distance = distance\n",
    "      self.label = label\n",
    "  def __lt__(self, other):\n",
    "      return self.distance > other.distance\n",
    "  def __eq__(self, other):\n",
    "      return self.distance == other.distance\n",
    "  def __str__(self): return f\"Label: {self.label} Distance: {self.distance}\"\n",
    "\n",
    "class MaxHeap:\n",
    "  def __init__(self): self.h = []\n",
    "  def heappush(self, d, l): heapq.heappush(self.h, LabeledDistance(d, l))\n",
    "  def heappop(self): return heapq.heappop(self.h)\n",
    "  def __len__(self): return len(self.h)      \n",
    "  def __getitem__(self, i): return self.h[i]\n",
    "\n",
    "  @staticmethod\n",
    "  def print_list(list_of_labeled):            \n",
    "        print([str(labeled) for labeled in list_of_labeled])\n",
    "  def get_majority(self):\n",
    "      sorted_by_distance = sorted(self.h, reverse=True)\n",
    "      return mode([ld.label for ld in sorted_by_distance])\n",
    "    \n",
    "\n",
    "\n",
    "\n",
    "\n",
    "def find_label(test_sample, train, k=1, silent=True):\n",
    "    smallest = MaxHeap()\n",
    "\n",
    "    for sample, label in zip(train[b'data'], train[b'labels']):\n",
    "        # Do not consider this sample if the distance is bigger than the biggest of the smallest        \n",
    "        # However, if the maxheap is not full yet, insert anyway\n",
    "        if len(smallest) != 0 and distance(test_sample, sample) >= smallest[0].distance and len(smallest) >= k:\n",
    "            continue\n",
    "        \n",
    "        if len(smallest) == k:\n",
    "            smallest.heappop() # remove the worst value\n",
    "\n",
    "        smallest.heappush(distance(test_sample, sample), label)\n",
    "    \n",
    "    if not silent:\n",
    "        print('Nearest neighbors (sorted by least distance):')\n",
    "        for ld in sorted(smallest.h, reverse=True):\n",
    "            print(f'Label: {ld.label}')\n",
    "        \n",
    "    return smallest.get_majority()\n",
    "    \n",
    "\n",
    "\n"
   ]
  },
  {
   "cell_type": "code",
   "execution_count": 119,
   "metadata": {
    "tags": []
   },
   "outputs": [],
   "source": [
    "# Define testing algorithm\n",
    "from IPython.display import clear_output\n",
    "\n",
    "DEBUG = True\n",
    "\n",
    "def test_classifier(k=1):\n",
    "    correct = 0\n",
    "    total = 0\n",
    "    for sample, label in zip(test_data, test_labels):\n",
    "        if total % 25 == 0:\n",
    "            clear_output(wait=True)\n",
    "        if DEBUG and (total + 1) % 10 == 0:\n",
    "            clear_output(wait=True)\n",
    "            return correct / total\n",
    "        \n",
    "        print(f'Testing no. {total + 1}')        \n",
    "        pred = find_label(sample, train, k=k)\n",
    "        if pred == label:   \n",
    "            correct += 1\n",
    "        total += 1\n",
    "        \n",
    "    clear_output(wait=True)\n",
    "    return correct / total\n"
   ]
  },
  {
   "cell_type": "code",
   "execution_count": 72,
   "metadata": {},
   "outputs": [
    {
     "data": {
      "text/plain": [
       "0.3333333333333333"
      ]
     },
     "execution_count": 72,
     "metadata": {},
     "output_type": "execute_result"
    }
   ],
   "source": [
    "# a) Error rate for k = 1\n",
    "test_classifier()"
   ]
  },
  {
   "cell_type": "code",
   "execution_count": 87,
   "metadata": {},
   "outputs": [
    {
     "data": {
      "text/plain": [
       "<AxesSubplot:>"
      ]
     },
     "execution_count": 87,
     "metadata": {},
     "output_type": "execute_result"
    },
    {
     "data": {
      "image/png": "[encoded data removed]",
      "text/plain": [
       "<Figure size 432x288 with 1 Axes>"
      ]
     },
     "metadata": {
      "needs_background": "light"
     },
     "output_type": "display_data"
    }
   ],
   "source": [
    "# b) Error rate = for k = [2, 5, 10, 20]\n",
    "import pandas as pd\n",
    "\n",
    "history = {'k_vals': [2, 5, 10, 20], 'error': []}\n",
    "\n",
    "for k in history['k_vals']:\n",
    "    history['error'].append(test_classifier(k=k))\n",
    "    \n"
   ]
  },
  {
   "cell_type": "code",
   "execution_count": 97,
   "metadata": {},
   "outputs": [
    {
     "data": {
      "image/png": "[encoded data removed]",
      "text/plain": [
       "<Figure size 432x288 with 1 Axes>"
      ]
     },
     "metadata": {
      "needs_background": "light"
     },
     "output_type": "display_data"
    }
   ],
   "source": [
    "# b) Plot for error rates\n",
    "import matplotlib.pyplot as plt\n",
    "history_pd = pd.DataFrame(history)\n",
    "history_pd.k_vals = history_pd.k_vals.astype(int)\n",
    "\n",
    "history_pd.plot.scatter(y='error', x='k_vals')\n",
    "plt.gca().set_xticks(history_pd[\"k_vals\"].unique())\n",
    "\n",
    "plt.show()"
   ]
  },
  {
   "cell_type": "code",
   "execution_count": 130,
   "metadata": {},
   "outputs": [
    {
     "name": "stdout",
     "output_type": "stream",
     "text": [
      "\n",
      "\n",
      "Class: 0\n",
      "Nearest neighbors (sorted by least distance):\n",
      "Label: 2\n",
      "Label: 4\n",
      "Label: 2\n",
      "Label: 2\n",
      "Label: 0\n",
      "Label: 2\n",
      "Label: 0\n",
      "Label: 0\n",
      "Label: 0\n",
      "Label: 2\n",
      "\n",
      "\n",
      "Class: 1\n",
      "Nearest neighbors (sorted by least distance):\n",
      "Label: 1\n",
      "Label: 1\n",
      "Label: 1\n",
      "Label: 1\n",
      "Label: 9\n",
      "Label: 0\n",
      "Label: 3\n",
      "Label: 1\n",
      "Label: 1\n",
      "Label: 1\n",
      "\n",
      "\n",
      "Class: 2\n",
      "Nearest neighbors (sorted by least distance):\n",
      "Label: 2\n",
      "Label: 2\n",
      "Label: 0\n",
      "Label: 1\n",
      "Label: 3\n",
      "Label: 8\n",
      "Label: 7\n",
      "Label: 6\n",
      "Label: 6\n",
      "Label: 8\n",
      "\n",
      "\n",
      "Class: 3\n",
      "Nearest neighbors (sorted by least distance):\n",
      "Label: 3\n",
      "Label: 3\n",
      "Label: 7\n",
      "Label: 6\n",
      "Label: 9\n",
      "Label: 2\n",
      "Label: 3\n",
      "Label: 1\n",
      "Label: 1\n",
      "Label: 7\n",
      "\n",
      "\n",
      "Class: 4\n",
      "Nearest neighbors (sorted by least distance):\n",
      "Label: 2\n",
      "Label: 0\n",
      "Label: 2\n",
      "Label: 2\n",
      "Label: 3\n",
      "Label: 2\n",
      "Label: 2\n",
      "Label: 0\n",
      "Label: 0\n",
      "Label: 7\n",
      "\n",
      "\n",
      "Class: 5\n",
      "Nearest neighbors (sorted by least distance):\n",
      "Label: 8\n",
      "Label: 8\n",
      "Label: 0\n",
      "Label: 2\n",
      "Label: 0\n",
      "Label: 0\n",
      "Label: 0\n",
      "Label: 8\n",
      "Label: 1\n",
      "Label: 1\n",
      "\n",
      "\n",
      "Class: 6\n",
      "Nearest neighbors (sorted by least distance):\n",
      "Label: 0\n",
      "Label: 6\n",
      "Label: 0\n",
      "Label: 0\n",
      "Label: 0\n",
      "Label: 2\n",
      "Label: 1\n",
      "Label: 0\n",
      "Label: 0\n",
      "Label: 0\n",
      "\n",
      "\n",
      "Class: 7\n",
      "Nearest neighbors (sorted by least distance):\n",
      "Label: 0\n",
      "Label: 0\n",
      "Label: 0\n",
      "Label: 0\n",
      "Label: 0\n",
      "Label: 0\n",
      "Label: 7\n",
      "Label: 7\n",
      "Label: 4\n",
      "Label: 2\n",
      "\n",
      "\n",
      "Class: 8\n",
      "Nearest neighbors (sorted by least distance):\n",
      "Label: 0\n",
      "Label: 0\n",
      "Label: 0\n",
      "Label: 0\n",
      "Label: 6\n",
      "Label: 2\n",
      "Label: 2\n",
      "Label: 0\n",
      "Label: 6\n",
      "Label: 8\n",
      "\n",
      "\n",
      "Class: 9\n",
      "Nearest neighbors (sorted by least distance):\n",
      "Label: 9\n",
      "Label: 0\n",
      "Label: 0\n",
      "Label: 0\n",
      "Label: 0\n",
      "Label: 0\n",
      "Label: 2\n",
      "Label: 3\n",
      "Label: 0\n",
      "Label: 6\n"
     ]
    }
   ],
   "source": [
    "# c) Pick a random image from test data and report its 10 nearest neighbors\n",
    "np.random.seed(42)\n",
    "labels = np.array(test_labels)\n",
    "\n",
    "for label_no in range(10):\n",
    "    print(f'\\n\\nClass: {label_no}')\n",
    "    index = np.random.choice(np.where(labels == label_no)[0])\n",
    "    find_label(test_data[index], train, k=10, silent=False)\n",
    "    \n"
   ]
  }
 ],
 "metadata": {
  "kernelspec": {
   "display_name": "Python 3",
   "language": "python",
   "name": "python3"
  },
  "language_info": {
   "codemirror_mode": {
    "name": "ipython",
    "version": 3
   },
   "file_extension": ".py",
   "mimetype": "text/x-python",
   "name": "python",
   "nbconvert_exporter": "python",
   "pygments_lexer": "ipython3",
   "version": "3.8.2"
  }
 },
 "nbformat": 4,
 "nbformat_minor": 4
}
