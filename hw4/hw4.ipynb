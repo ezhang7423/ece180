{
 "metadata": {
  "orig_nbformat": 2,
  "kernelspec": {
   "name": "python3",
   "display_name": "Python 3",
   "language": "python"
  }
 },
 "nbformat": 4,
 "nbformat_minor": 2,
 "cells": [
  {
   "source": [
    "# K-nearest neighbors\n",
    "\n",
    "We are using the [CIFAR 10](https://www.cs.toronto.edu/~kriz/cifar.html) dataset.\n",
    "After downloading `cifar-10-python.tar.gz` to this folder run `tar -xvf cifar-100-python.tar.gz`\n"
   ],
   "cell_type": "markdown",
   "metadata": {}
  },
  {
   "cell_type": "code",
   "execution_count": 3,
   "metadata": {},
   "outputs": [],
   "source": [
    "import numpy as np\n",
    "\n",
    "def unpickle(file):\n",
    "    import pickle\n",
    "    with open(file, 'rb') as fo:\n",
    "        dict = pickle.load(fo, encoding='bytes')\n",
    "    return dict\n",
    "\n",
    "\n",
    "\n",
    "def distance(ndarr1, ndarr2):\n",
    "    return (np.sum((ndarr1 - ndarr2) ** 2)).item() ** .5\n",
    "\n"
   ]
  },
  {
   "cell_type": "code",
   "execution_count": 4,
   "metadata": {},
   "outputs": [],
   "source": [
    "train = unpickle('cifar-10-batches-py/data_batch_1')\n",
    "test = unpickle('cifar-10-batches-py/test_batch')\n",
    "\n",
    "train_data = train[b'data']\n",
    "train_labels = train[b'labels']\n",
    "\n",
    "test_data = test[b'data'][:1000]\n",
    "test_labels = test[b'labels'][:1000]"
   ]
  },
  {
   "cell_type": "code",
   "execution_count": 5,
   "metadata": {},
   "outputs": [
    {
     "output_type": "execute_result",
     "data": {
      "text/plain": [
       "<matplotlib.image.AxesImage at 0x7f99f1fb9df0>"
      ]
     },
     "metadata": {},
     "execution_count": 5
    },
    {
     "output_type": "display_data",
     "data": {
      "text/plain": "<Figure size 432x288 with 1 Axes>",
      "image/svg+xml": "<?xml version=\"1.0\" encoding=\"utf-8\" standalone=\"no\"?>\n<!DOCTYPE svg PUBLIC \"-//W3C//DTD SVG 1.1//EN\"\n  \"http://www.w3.org/Graphics/SVG/1.1/DTD/svg11.dtd\">\n<svg height=\"248.919844pt\" version=\"1.1\" viewBox=\"0 0 251.565 248.919844\" width=\"251.565pt\" xmlns=\"http://www.w3.org/2000/svg\" xmlns:xlink=\"http://www.w3.org/1999/xlink\">\n <metadata>\n  <rdf:RDF xmlns:cc=\"http://creativecommons.org/ns#\" xmlns:dc=\"http://purl.org/dc/elements/1.1/\" xmlns:rdf=\"http://www.w3.org/1999/02/22-rdf-syntax-ns#\">\n   <cc:Work>\n    <dc:type rdf:resource=\"http://purl.org/dc/dcmitype/StillImage\"/>\n    <dc:date>2021-04-28T16:14:46.269772</dc:date>\n    <dc:format>image/svg+xml</dc:format>\n    <dc:creator>\n     <cc:Agent>\n      <dc:title>Matplotlib v3.4.1, https://matplotlib.org/</dc:title>\n     </cc:Agent>\n    </dc:creator>\n   </cc:Work>\n  </rdf:RDF>\n </metadata>\n <defs>\n  <style type=\"text/css\">*{stroke-linecap:butt;stroke-linejoin:round;}</style>\n </defs>\n <g id=\"figure_1\">\n  <g id=\"patch_1\">\n   <path d=\"M 0 248.919844 \nL 251.565 248.919844 \nL 251.565 0 \nL 0 0 \nz\n\" style=\"fill:none;\"/>\n  </g>\n  <g id=\"axes_1\">\n   <g id=\"patch_2\">\n    <path d=\"M 26.925 225.041719 \nL 244.365 225.041719 \nL 244.365 7.601719 \nL 26.925 7.601719 \nz\n\" style=\"fill:#ffffff;\"/>\n   </g>\n   <g clip-path=\"url(#pa85ca2b1ca)\">\n    <image height=\"218\" id=\"image4d830d418d\" transform=\"scale(1 -1)translate(0 -218)\" width=\"218\" x=\"26.925\" xlink:href=\"data:image/png;base64,\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\" y=\"-7.041719\"/>\n   </g>\n   <g id=\"matplotlib.axis_1\">\n    <g id=\"xtick_1\">\n     <g id=\"line2d_1\">\n      <defs>\n       <path d=\"M 0 0 \nL 0 3.5 \n\" id=\"mb57b4be11a\" style=\"stroke:#000000;stroke-width:0.8;\"/>\n      </defs>\n      <g>\n       <use style=\"stroke:#000000;stroke-width:0.8;\" x=\"30.3225\" xlink:href=\"#mb57b4be11a\" y=\"225.041719\"/>\n      </g>\n     </g>\n     <g id=\"text_1\">\n      <!-- 0 -->\n      <g transform=\"translate(27.14125 239.640156)scale(0.1 -0.1)\">\n       <defs>\n        <path d=\"M 2034 4250 \nQ 1547 4250 1301 3770 \nQ 1056 3291 1056 2328 \nQ 1056 1369 1301 889 \nQ 1547 409 2034 409 \nQ 2525 409 2770 889 \nQ 3016 1369 3016 2328 \nQ 3016 3291 2770 3770 \nQ 2525 4250 2034 4250 \nz\nM 2034 4750 \nQ 2819 4750 3233 4129 \nQ 3647 3509 3647 2328 \nQ 3647 1150 3233 529 \nQ 2819 -91 2034 -91 \nQ 1250 -91 836 529 \nQ 422 1150 422 2328 \nQ 422 3509 836 4129 \nQ 1250 4750 2034 4750 \nz\n\" id=\"DejaVuSans-30\" transform=\"scale(0.015625)\"/>\n       </defs>\n       <use xlink:href=\"#DejaVuSans-30\"/>\n      </g>\n     </g>\n    </g>\n    <g id=\"xtick_2\">\n     <g id=\"line2d_2\">\n      <g>\n       <use style=\"stroke:#000000;stroke-width:0.8;\" x=\"64.2975\" xlink:href=\"#mb57b4be11a\" y=\"225.041719\"/>\n      </g>\n     </g>\n     <g id=\"text_2\">\n      <!-- 5 -->\n      <g transform=\"translate(61.11625 239.640156)scale(0.1 -0.1)\">\n       <defs>\n        <path d=\"M 691 4666 \nL 3169 4666 \nL 3169 4134 \nL 1269 4134 \nL 1269 2991 \nQ 1406 3038 1543 3061 \nQ 1681 3084 1819 3084 \nQ 2600 3084 3056 2656 \nQ 3513 2228 3513 1497 \nQ 3513 744 3044 326 \nQ 2575 -91 1722 -91 \nQ 1428 -91 1123 -41 \nQ 819 9 494 109 \nL 494 744 \nQ 775 591 1075 516 \nQ 1375 441 1709 441 \nQ 2250 441 2565 725 \nQ 2881 1009 2881 1497 \nQ 2881 1984 2565 2268 \nQ 2250 2553 1709 2553 \nQ 1456 2553 1204 2497 \nQ 953 2441 691 2322 \nL 691 4666 \nz\n\" id=\"DejaVuSans-35\" transform=\"scale(0.015625)\"/>\n       </defs>\n       <use xlink:href=\"#DejaVuSans-35\"/>\n      </g>\n     </g>\n    </g>\n    <g id=\"xtick_3\">\n     <g id=\"line2d_3\">\n      <g>\n       <use style=\"stroke:#000000;stroke-width:0.8;\" x=\"98.2725\" xlink:href=\"#mb57b4be11a\" y=\"225.041719\"/>\n      </g>\n     </g>\n     <g id=\"text_3\">\n      <!-- 10 -->\n      <g transform=\"translate(91.91 239.640156)scale(0.1 -0.1)\">\n       <defs>\n        <path d=\"M 794 531 \nL 1825 531 \nL 1825 4091 \nL 703 3866 \nL 703 4441 \nL 1819 4666 \nL 2450 4666 \nL 2450 531 \nL 3481 531 \nL 3481 0 \nL 794 0 \nL 794 531 \nz\n\" id=\"DejaVuSans-31\" transform=\"scale(0.015625)\"/>\n       </defs>\n       <use xlink:href=\"#DejaVuSans-31\"/>\n       <use x=\"63.623047\" xlink:href=\"#DejaVuSans-30\"/>\n      </g>\n     </g>\n    </g>\n    <g id=\"xtick_4\">\n     <g id=\"line2d_4\">\n      <g>\n       <use style=\"stroke:#000000;stroke-width:0.8;\" x=\"132.2475\" xlink:href=\"#mb57b4be11a\" y=\"225.041719\"/>\n      </g>\n     </g>\n     <g id=\"text_4\">\n      <!-- 15 -->\n      <g transform=\"translate(125.885 239.640156)scale(0.1 -0.1)\">\n       <use xlink:href=\"#DejaVuSans-31\"/>\n       <use x=\"63.623047\" xlink:href=\"#DejaVuSans-35\"/>\n      </g>\n     </g>\n    </g>\n    <g id=\"xtick_5\">\n     <g id=\"line2d_5\">\n      <g>\n       <use style=\"stroke:#000000;stroke-width:0.8;\" x=\"166.2225\" xlink:href=\"#mb57b4be11a\" y=\"225.041719\"/>\n      </g>\n     </g>\n     <g id=\"text_5\">\n      <!-- 20 -->\n      <g transform=\"translate(159.86 239.640156)scale(0.1 -0.1)\">\n       <defs>\n        <path d=\"M 1228 531 \nL 3431 531 \nL 3431 0 \nL 469 0 \nL 469 531 \nQ 828 903 1448 1529 \nQ 2069 2156 2228 2338 \nQ 2531 2678 2651 2914 \nQ 2772 3150 2772 3378 \nQ 2772 3750 2511 3984 \nQ 2250 4219 1831 4219 \nQ 1534 4219 1204 4116 \nQ 875 4013 500 3803 \nL 500 4441 \nQ 881 4594 1212 4672 \nQ 1544 4750 1819 4750 \nQ 2544 4750 2975 4387 \nQ 3406 4025 3406 3419 \nQ 3406 3131 3298 2873 \nQ 3191 2616 2906 2266 \nQ 2828 2175 2409 1742 \nQ 1991 1309 1228 531 \nz\n\" id=\"DejaVuSans-32\" transform=\"scale(0.015625)\"/>\n       </defs>\n       <use xlink:href=\"#DejaVuSans-32\"/>\n       <use x=\"63.623047\" xlink:href=\"#DejaVuSans-30\"/>\n      </g>\n     </g>\n    </g>\n    <g id=\"xtick_6\">\n     <g id=\"line2d_6\">\n      <g>\n       <use style=\"stroke:#000000;stroke-width:0.8;\" x=\"200.1975\" xlink:href=\"#mb57b4be11a\" y=\"225.041719\"/>\n      </g>\n     </g>\n     <g id=\"text_6\">\n      <!-- 25 -->\n      <g transform=\"translate(193.835 239.640156)scale(0.1 -0.1)\">\n       <use xlink:href=\"#DejaVuSans-32\"/>\n       <use x=\"63.623047\" xlink:href=\"#DejaVuSans-35\"/>\n      </g>\n     </g>\n    </g>\n    <g id=\"xtick_7\">\n     <g id=\"line2d_7\">\n      <g>\n       <use style=\"stroke:#000000;stroke-width:0.8;\" x=\"234.1725\" xlink:href=\"#mb57b4be11a\" y=\"225.041719\"/>\n      </g>\n     </g>\n     <g id=\"text_7\">\n      <!-- 30 -->\n      <g transform=\"translate(227.81 239.640156)scale(0.1 -0.1)\">\n       <defs>\n        <path d=\"M 2597 2516 \nQ 3050 2419 3304 2112 \nQ 3559 1806 3559 1356 \nQ 3559 666 3084 287 \nQ 2609 -91 1734 -91 \nQ 1441 -91 1130 -33 \nQ 819 25 488 141 \nL 488 750 \nQ 750 597 1062 519 \nQ 1375 441 1716 441 \nQ 2309 441 2620 675 \nQ 2931 909 2931 1356 \nQ 2931 1769 2642 2001 \nQ 2353 2234 1838 2234 \nL 1294 2234 \nL 1294 2753 \nL 1863 2753 \nQ 2328 2753 2575 2939 \nQ 2822 3125 2822 3475 \nQ 2822 3834 2567 4026 \nQ 2313 4219 1838 4219 \nQ 1578 4219 1281 4162 \nQ 984 4106 628 3988 \nL 628 4550 \nQ 988 4650 1302 4700 \nQ 1616 4750 1894 4750 \nQ 2613 4750 3031 4423 \nQ 3450 4097 3450 3541 \nQ 3450 3153 3228 2886 \nQ 3006 2619 2597 2516 \nz\n\" id=\"DejaVuSans-33\" transform=\"scale(0.015625)\"/>\n       </defs>\n       <use xlink:href=\"#DejaVuSans-33\"/>\n       <use x=\"63.623047\" xlink:href=\"#DejaVuSans-30\"/>\n      </g>\n     </g>\n    </g>\n   </g>\n   <g id=\"matplotlib.axis_2\">\n    <g id=\"ytick_1\">\n     <g id=\"line2d_8\">\n      <defs>\n       <path d=\"M 0 0 \nL -3.5 0 \n\" id=\"mf45944670e\" style=\"stroke:#000000;stroke-width:0.8;\"/>\n      </defs>\n      <g>\n       <use style=\"stroke:#000000;stroke-width:0.8;\" x=\"26.925\" xlink:href=\"#mf45944670e\" y=\"10.999219\"/>\n      </g>\n     </g>\n     <g id=\"text_8\">\n      <!-- 0 -->\n      <g transform=\"translate(13.5625 14.798437)scale(0.1 -0.1)\">\n       <use xlink:href=\"#DejaVuSans-30\"/>\n      </g>\n     </g>\n    </g>\n    <g id=\"ytick_2\">\n     <g id=\"line2d_9\">\n      <g>\n       <use style=\"stroke:#000000;stroke-width:0.8;\" x=\"26.925\" xlink:href=\"#mf45944670e\" y=\"44.974219\"/>\n      </g>\n     </g>\n     <g id=\"text_9\">\n      <!-- 5 -->\n      <g transform=\"translate(13.5625 48.773437)scale(0.1 -0.1)\">\n       <use xlink:href=\"#DejaVuSans-35\"/>\n      </g>\n     </g>\n    </g>\n    <g id=\"ytick_3\">\n     <g id=\"line2d_10\">\n      <g>\n       <use style=\"stroke:#000000;stroke-width:0.8;\" x=\"26.925\" xlink:href=\"#mf45944670e\" y=\"78.949219\"/>\n      </g>\n     </g>\n     <g id=\"text_10\">\n      <!-- 10 -->\n      <g transform=\"translate(7.2 82.748437)scale(0.1 -0.1)\">\n       <use xlink:href=\"#DejaVuSans-31\"/>\n       <use x=\"63.623047\" xlink:href=\"#DejaVuSans-30\"/>\n      </g>\n     </g>\n    </g>\n    <g id=\"ytick_4\">\n     <g id=\"line2d_11\">\n      <g>\n       <use style=\"stroke:#000000;stroke-width:0.8;\" x=\"26.925\" xlink:href=\"#mf45944670e\" y=\"112.924219\"/>\n      </g>\n     </g>\n     <g id=\"text_11\">\n      <!-- 15 -->\n      <g transform=\"translate(7.2 116.723437)scale(0.1 -0.1)\">\n       <use xlink:href=\"#DejaVuSans-31\"/>\n       <use x=\"63.623047\" xlink:href=\"#DejaVuSans-35\"/>\n      </g>\n     </g>\n    </g>\n    <g id=\"ytick_5\">\n     <g id=\"line2d_12\">\n      <g>\n       <use style=\"stroke:#000000;stroke-width:0.8;\" x=\"26.925\" xlink:href=\"#mf45944670e\" y=\"146.899219\"/>\n      </g>\n     </g>\n     <g id=\"text_12\">\n      <!-- 20 -->\n      <g transform=\"translate(7.2 150.698437)scale(0.1 -0.1)\">\n       <use xlink:href=\"#DejaVuSans-32\"/>\n       <use x=\"63.623047\" xlink:href=\"#DejaVuSans-30\"/>\n      </g>\n     </g>\n    </g>\n    <g id=\"ytick_6\">\n     <g id=\"line2d_13\">\n      <g>\n       <use style=\"stroke:#000000;stroke-width:0.8;\" x=\"26.925\" xlink:href=\"#mf45944670e\" y=\"180.874219\"/>\n      </g>\n     </g>\n     <g id=\"text_13\">\n      <!-- 25 -->\n      <g transform=\"translate(7.2 184.673437)scale(0.1 -0.1)\">\n       <use xlink:href=\"#DejaVuSans-32\"/>\n       <use x=\"63.623047\" xlink:href=\"#DejaVuSans-35\"/>\n      </g>\n     </g>\n    </g>\n    <g id=\"ytick_7\">\n     <g id=\"line2d_14\">\n      <g>\n       <use style=\"stroke:#000000;stroke-width:0.8;\" x=\"26.925\" xlink:href=\"#mf45944670e\" y=\"214.849219\"/>\n      </g>\n     </g>\n     <g id=\"text_14\">\n      <!-- 30 -->\n      <g transform=\"translate(7.2 218.648437)scale(0.1 -0.1)\">\n       <use xlink:href=\"#DejaVuSans-33\"/>\n       <use x=\"63.623047\" xlink:href=\"#DejaVuSans-30\"/>\n      </g>\n     </g>\n    </g>\n   </g>\n   <g id=\"patch_3\">\n    <path d=\"M 26.925 225.041719 \nL 26.925 7.601719 \n\" style=\"fill:none;stroke:#000000;stroke-linecap:square;stroke-linejoin:miter;stroke-width:0.8;\"/>\n   </g>\n   <g id=\"patch_4\">\n    <path d=\"M 244.365 225.041719 \nL 244.365 7.601719 \n\" style=\"fill:none;stroke:#000000;stroke-linecap:square;stroke-linejoin:miter;stroke-width:0.8;\"/>\n   </g>\n   <g id=\"patch_5\">\n    <path d=\"M 26.925 225.041719 \nL 244.365 225.041719 \n\" style=\"fill:none;stroke:#000000;stroke-linecap:square;stroke-linejoin:miter;stroke-width:0.8;\"/>\n   </g>\n   <g id=\"patch_6\">\n    <path d=\"M 26.925 7.601719 \nL 244.365 7.601719 \n\" style=\"fill:none;stroke:#000000;stroke-linecap:square;stroke-linejoin:miter;stroke-width:0.8;\"/>\n   </g>\n  </g>\n </g>\n <defs>\n  <clipPath id=\"pa85ca2b1ca\">\n   <rect height=\"217.44\" width=\"217.44\" x=\"26.925\" y=\"7.601719\"/>\n  </clipPath>\n </defs>\n</svg>\n",
      "image/png": "[encoded data removed]"
     },
     "metadata": {
      "needs_background": "light"
     }
    }
   ],
   "source": [
    "# Output a sample image\n",
    "from matplotlib.pyplot import imshow\n",
    "\n",
    "sample = train_data[0]\n",
    "\n",
    "\n",
    "def convertTensor(sample):\n",
    "    size = 32 * 32\n",
    "    r = sample[:size].reshape((32, 32))\n",
    "    g = sample[size:2*size].reshape((32, 32))\n",
    "    b = sample[2*size:].reshape((32, 32))\n",
    "    \n",
    "    return np.dstack((r, g, b))\n",
    "\n",
    "    \n",
    "imshow(convertTensor(sample))"
   ]
  },
  {
   "cell_type": "code",
   "execution_count": 6,
   "metadata": {},
   "outputs": [],
   "source": [
    "# Define k nearest neighbors algorithm\n",
    "import heapq \n",
    "from collections import Counter\n",
    "\n",
    "class LabeledDistance:  #https://stackoverflow.com/questions/2501457/what-do-i-use-for-a-max-heap-implementation-in-python\n",
    "  def __init__(self, distance, label): \n",
    "      self.distance = distance\n",
    "      self.label = label\n",
    "  def __lt__(self, other):\n",
    "      return self.distance > other.distance\n",
    "  def __eq__(self, other):\n",
    "      return self.distance == other.distance\n",
    "  def __str__(self): return f\"Label: {self.label} Distance: {self.val}\"\n",
    "\n",
    "class MaxHeap:\n",
    "  def __init__(self): self.h = []\n",
    "  def heappush(self, d, l): heapq.heappush(self.h, LabeledDistance(d, l))\n",
    "  def heappop(self): return heapq.heappop(self.h)\n",
    "  def __len__(self): return len(self.h)      \n",
    "  def __getitem__(self, i): return self.h[i]\n",
    "  def get_majority(self):\n",
    "      return Counter([d.label for d in self.h]).most_common()[0][0]\n",
    "\n",
    "\n",
    "\n",
    "\n",
    "def find_label(test_sample, train, k=1):\n",
    "    smallest = MaxHeap()\n",
    "\n",
    "    for sample, label in zip(train[b'data'], train[b'labels']):\n",
    "        # Do not consider this sample if the distance is bigger than the biggest of the smallest        \n",
    "        # However, if the maxheap is not full yet, insert anyway\n",
    "        if len(smallest) != 0 and distance(test_sample, sample) >= smallest[0].distance and len(smallest) >= k:\n",
    "            continue\n",
    "        \n",
    "        if len(smallest) == k:\n",
    "            smallest.heappop() # remove the worst value\n",
    "\n",
    "        smallest.heappush(distance(test_sample, sample), label)\n",
    "    \n",
    "    return smallest.get_majority()\n",
    "    \n",
    "\n",
    "\n"
   ]
  },
  {
   "cell_type": "code",
   "execution_count": 18,
   "metadata": {
    "tags": []
   },
   "outputs": [],
   "source": [
    "# Define testing algorithm\n",
    "\n",
    "def test_classifier(k=1):\n",
    "    correct = 0\n",
    "    total = 0\n",
    "    for sample, label in zip(test_data, test_labels):\n",
    "        print(f'Testing no. {total + 1}', end='\\r')        \n",
    "        pred = find_label(sample, train, k=k)\n",
    "        if pred == label:\n",
    "            correct += 1\n",
    "        total += 1\n",
    "    \n",
    "    return correct / total\n"
   ]
  },
  {
   "cell_type": "code",
   "execution_count": 13,
   "metadata": {},
   "outputs": [
    {
     "output_type": "stream",
     "name": "stdout",
     "text": [
      "Testing no. 1\n",
      "\u001b[KTesting no. 2\n",
      "\u001b[KTesting no. 3\n",
      "\u001b[KTesting no. 4\n",
      "\u001b[KTesting no. 5\n",
      "\u001b[KTesting no. 6\n",
      "\u001b[KTesting no. 7\n",
      "\u001b[KTesting no. 8\n",
      "\u001b[KTesting no. 9\n",
      "\u001b[KTesting no. 10\n",
      "\u001b[KTesting no. 11\n",
      "\u001b[KTesting no. 12\n",
      "\u001b[KTesting no. 13\n",
      "\u001b[KTesting no. 14\n",
      "\u001b[KTesting no. 15\n",
      "\u001b[KTesting no. 16\n",
      "\u001b[KTesting no. 17\n",
      "\u001b[KTesting no. 18\n",
      "\u001b[KTesting no. 19\n",
      "\u001b[KTesting no. 20\n",
      "\u001b[KTesting no. 21\n",
      "\u001b[KTesting no. 22\n",
      "\u001b[KTesting no. 23\n",
      "\u001b[KTesting no. 24\n",
      "\u001b[KTesting no. 25\n",
      "\u001b[KTesting no. 26\n",
      "\u001b[KTesting no. 27\n",
      "\u001b[KTesting no. 28\n",
      "\u001b[KTesting no. 29\n",
      "\u001b[KTesting no. 30\n",
      "\u001b[KTesting no. 31\n",
      "\u001b[KTesting no. 32\n",
      "\u001b[KTesting no. 33\n",
      "\u001b[KTesting no. 34\n",
      "\u001b[KTesting no. 35\n",
      "\u001b[KTesting no. 36\n",
      "\u001b[KTesting no. 37\n"
     ]
    },
    {
     "output_type": "error",
     "ename": "KeyboardInterrupt",
     "evalue": "",
     "traceback": [
      "\u001b[0;31m---------------------------------------------------------------------------\u001b[0m",
      "\u001b[0;31mKeyboardInterrupt\u001b[0m                         Traceback (most recent call last)",
      "\u001b[0;32m<ipython-input-13-27e2f8991036>\u001b[0m in \u001b[0;36m<module>\u001b[0;34m\u001b[0m\n\u001b[0;32m----> 1\u001b[0;31m \u001b[0mtest_classifier\u001b[0m\u001b[0;34m(\u001b[0m\u001b[0mk\u001b[0m\u001b[0;34m=\u001b[0m\u001b[0;36m2\u001b[0m\u001b[0;34m)\u001b[0m\u001b[0;34m\u001b[0m\u001b[0;34m\u001b[0m\u001b[0m\n\u001b[0m",
      "\u001b[0;32m<ipython-input-12-c55319dcef57>\u001b[0m in \u001b[0;36mtest_classifier\u001b[0;34m(k)\u001b[0m\n\u001b[1;32m      6\u001b[0m     \u001b[0;32mfor\u001b[0m \u001b[0msample\u001b[0m\u001b[0;34m,\u001b[0m \u001b[0mlabel\u001b[0m \u001b[0;32min\u001b[0m \u001b[0mzip\u001b[0m\u001b[0;34m(\u001b[0m\u001b[0mtest_data\u001b[0m\u001b[0;34m,\u001b[0m \u001b[0mtest_labels\u001b[0m\u001b[0;34m)\u001b[0m\u001b[0;34m:\u001b[0m\u001b[0;34m\u001b[0m\u001b[0;34m\u001b[0m\u001b[0m\n\u001b[1;32m      7\u001b[0m         \u001b[0mprint\u001b[0m\u001b[0;34m(\u001b[0m\u001b[0;34mf'Testing no. {total + 1}'\u001b[0m\u001b[0;34m)\u001b[0m\u001b[0;34m\u001b[0m\u001b[0;34m\u001b[0m\u001b[0m\n\u001b[0;32m----> 8\u001b[0;31m         \u001b[0mpred\u001b[0m \u001b[0;34m=\u001b[0m \u001b[0mfind_label\u001b[0m\u001b[0;34m(\u001b[0m\u001b[0msample\u001b[0m\u001b[0;34m,\u001b[0m \u001b[0mtrain\u001b[0m\u001b[0;34m,\u001b[0m \u001b[0mk\u001b[0m\u001b[0;34m=\u001b[0m\u001b[0mk\u001b[0m\u001b[0;34m)\u001b[0m\u001b[0;34m\u001b[0m\u001b[0;34m\u001b[0m\u001b[0m\n\u001b[0m\u001b[1;32m      9\u001b[0m         \u001b[0;32mif\u001b[0m \u001b[0mpred\u001b[0m \u001b[0;34m==\u001b[0m \u001b[0mlabel\u001b[0m\u001b[0;34m:\u001b[0m\u001b[0;34m\u001b[0m\u001b[0;34m\u001b[0m\u001b[0m\n\u001b[1;32m     10\u001b[0m             \u001b[0mcorrect\u001b[0m \u001b[0;34m+=\u001b[0m \u001b[0;36m1\u001b[0m\u001b[0;34m\u001b[0m\u001b[0;34m\u001b[0m\u001b[0m\n",
      "\u001b[0;32m<ipython-input-6-2c470abbb527>\u001b[0m in \u001b[0;36mfind_label\u001b[0;34m(test_sample, train, k)\u001b[0m\n\u001b[1;32m     31\u001b[0m         \u001b[0;31m# Do not consider this sample if the distance is bigger than the biggest of the smallest\u001b[0m\u001b[0;34m\u001b[0m\u001b[0;34m\u001b[0m\u001b[0;34m\u001b[0m\u001b[0m\n\u001b[1;32m     32\u001b[0m         \u001b[0;31m# However, if the maxheap is not full yet, insert anyway\u001b[0m\u001b[0;34m\u001b[0m\u001b[0;34m\u001b[0m\u001b[0;34m\u001b[0m\u001b[0m\n\u001b[0;32m---> 33\u001b[0;31m         \u001b[0;32mif\u001b[0m \u001b[0mlen\u001b[0m\u001b[0;34m(\u001b[0m\u001b[0msmallest\u001b[0m\u001b[0;34m)\u001b[0m \u001b[0;34m!=\u001b[0m \u001b[0;36m0\u001b[0m \u001b[0;32mand\u001b[0m \u001b[0mdistance\u001b[0m\u001b[0;34m(\u001b[0m\u001b[0mtest_sample\u001b[0m\u001b[0;34m,\u001b[0m \u001b[0msample\u001b[0m\u001b[0;34m)\u001b[0m \u001b[0;34m>=\u001b[0m \u001b[0msmallest\u001b[0m\u001b[0;34m[\u001b[0m\u001b[0;36m0\u001b[0m\u001b[0;34m]\u001b[0m\u001b[0;34m.\u001b[0m\u001b[0mdistance\u001b[0m \u001b[0;32mand\u001b[0m \u001b[0mlen\u001b[0m\u001b[0;34m(\u001b[0m\u001b[0msmallest\u001b[0m\u001b[0;34m)\u001b[0m \u001b[0;34m>=\u001b[0m \u001b[0mk\u001b[0m\u001b[0;34m:\u001b[0m\u001b[0;34m\u001b[0m\u001b[0;34m\u001b[0m\u001b[0m\n\u001b[0m\u001b[1;32m     34\u001b[0m             \u001b[0;32mcontinue\u001b[0m\u001b[0;34m\u001b[0m\u001b[0;34m\u001b[0m\u001b[0m\n\u001b[1;32m     35\u001b[0m \u001b[0;34m\u001b[0m\u001b[0m\n",
      "\u001b[0;32m<ipython-input-3-546d8409eb55>\u001b[0m in \u001b[0;36mdistance\u001b[0;34m(ndarr1, ndarr2)\u001b[0m\n\u001b[1;32m     10\u001b[0m \u001b[0;34m\u001b[0m\u001b[0m\n\u001b[1;32m     11\u001b[0m \u001b[0;32mdef\u001b[0m \u001b[0mdistance\u001b[0m\u001b[0;34m(\u001b[0m\u001b[0mndarr1\u001b[0m\u001b[0;34m,\u001b[0m \u001b[0mndarr2\u001b[0m\u001b[0;34m)\u001b[0m\u001b[0;34m:\u001b[0m\u001b[0;34m\u001b[0m\u001b[0;34m\u001b[0m\u001b[0m\n\u001b[0;32m---> 12\u001b[0;31m     \u001b[0;32mreturn\u001b[0m \u001b[0;34m(\u001b[0m\u001b[0mnp\u001b[0m\u001b[0;34m.\u001b[0m\u001b[0msum\u001b[0m\u001b[0;34m(\u001b[0m\u001b[0;34m(\u001b[0m\u001b[0mndarr1\u001b[0m \u001b[0;34m-\u001b[0m \u001b[0mndarr2\u001b[0m\u001b[0;34m)\u001b[0m \u001b[0;34m**\u001b[0m \u001b[0;36m2\u001b[0m\u001b[0;34m)\u001b[0m\u001b[0;34m)\u001b[0m\u001b[0;34m.\u001b[0m\u001b[0mitem\u001b[0m\u001b[0;34m(\u001b[0m\u001b[0;34m)\u001b[0m \u001b[0;34m**\u001b[0m \u001b[0;36m.5\u001b[0m\u001b[0;34m\u001b[0m\u001b[0;34m\u001b[0m\u001b[0m\n\u001b[0m\u001b[1;32m     13\u001b[0m \u001b[0;34m\u001b[0m\u001b[0m\n",
      "\u001b[0;32m<__array_function__ internals>\u001b[0m in \u001b[0;36msum\u001b[0;34m(*args, **kwargs)\u001b[0m\n",
      "\u001b[0;32m~/.local/lib/python3.8/site-packages/numpy/core/fromnumeric.py\u001b[0m in \u001b[0;36msum\u001b[0;34m(a, axis, dtype, out, keepdims, initial, where)\u001b[0m\n\u001b[1;32m   2245\u001b[0m         \u001b[0;32mreturn\u001b[0m \u001b[0mres\u001b[0m\u001b[0;34m\u001b[0m\u001b[0;34m\u001b[0m\u001b[0m\n\u001b[1;32m   2246\u001b[0m \u001b[0;34m\u001b[0m\u001b[0m\n\u001b[0;32m-> 2247\u001b[0;31m     return _wrapreduction(a, np.add, 'sum', axis, dtype, out, keepdims=keepdims,\n\u001b[0m\u001b[1;32m   2248\u001b[0m                           initial=initial, where=where)\n\u001b[1;32m   2249\u001b[0m \u001b[0;34m\u001b[0m\u001b[0m\n",
      "\u001b[0;32m~/.local/lib/python3.8/site-packages/numpy/core/fromnumeric.py\u001b[0m in \u001b[0;36m_wrapreduction\u001b[0;34m(obj, ufunc, method, axis, dtype, out, **kwargs)\u001b[0m\n\u001b[1;32m     85\u001b[0m                 \u001b[0;32mreturn\u001b[0m \u001b[0mreduction\u001b[0m\u001b[0;34m(\u001b[0m\u001b[0maxis\u001b[0m\u001b[0;34m=\u001b[0m\u001b[0maxis\u001b[0m\u001b[0;34m,\u001b[0m \u001b[0mout\u001b[0m\u001b[0;34m=\u001b[0m\u001b[0mout\u001b[0m\u001b[0;34m,\u001b[0m \u001b[0;34m**\u001b[0m\u001b[0mpasskwargs\u001b[0m\u001b[0;34m)\u001b[0m\u001b[0;34m\u001b[0m\u001b[0;34m\u001b[0m\u001b[0m\n\u001b[1;32m     86\u001b[0m \u001b[0;34m\u001b[0m\u001b[0m\n\u001b[0;32m---> 87\u001b[0;31m     \u001b[0;32mreturn\u001b[0m \u001b[0mufunc\u001b[0m\u001b[0;34m.\u001b[0m\u001b[0mreduce\u001b[0m\u001b[0;34m(\u001b[0m\u001b[0mobj\u001b[0m\u001b[0;34m,\u001b[0m \u001b[0maxis\u001b[0m\u001b[0;34m,\u001b[0m \u001b[0mdtype\u001b[0m\u001b[0;34m,\u001b[0m \u001b[0mout\u001b[0m\u001b[0;34m,\u001b[0m \u001b[0;34m**\u001b[0m\u001b[0mpasskwargs\u001b[0m\u001b[0;34m)\u001b[0m\u001b[0;34m\u001b[0m\u001b[0;34m\u001b[0m\u001b[0m\n\u001b[0m\u001b[1;32m     88\u001b[0m \u001b[0;34m\u001b[0m\u001b[0m\n\u001b[1;32m     89\u001b[0m \u001b[0;34m\u001b[0m\u001b[0m\n",
      "\u001b[0;31mKeyboardInterrupt\u001b[0m: "
     ]
    }
   ],
   "source": [
    "test_classifier(k=2)"
   ]
  },
  {
   "cell_type": "code",
   "execution_count": 17,
   "metadata": {},
   "outputs": [
    {
     "output_type": "stream",
     "name": "stdout",
     "text": [
      "lmao\n"
     ]
    }
   ],
   "source": []
  },
  {
   "cell_type": "code",
   "execution_count": null,
   "metadata": {},
   "outputs": [],
   "source": []
  }
 ]
}