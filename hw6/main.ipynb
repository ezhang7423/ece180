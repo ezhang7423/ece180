{
  "nbformat": 4,
  "nbformat_minor": 0,
  "metadata": {
    "orig_nbformat": 2,
    "kernelspec": {
      "name": "python3",
      "display_name": "Python 3",
      "language": "python"
    },
    "metadata": {
      "interpreter": {
        "hash": "31f2aee4e71d21fbe5cf8b01ff0e069b9275f58929596ceb00d14d90e3e16cd6"
      }
    },
    "colab": {
      "name": "main.ipynb",
      "provenance": [],
      "collapsed_sections": []
    },
    "language_info": {
      "name": "python",
      "version": "3.8.6"
    },
    "accelerator": "GPU"
  },
  "cells": [
    {
      "cell_type": "code",
      "metadata": {
        "id": "Go1vxz_oxqZ9"
      },
      "source": [
        "import torch\n",
        "import torchvision\n",
        "import torch.nn as nn\n",
        "import torchvision.transforms as transforms\n",
        "import numpy as np\n",
        "import pandas as pd\n",
        "import matplotlib.pyplot as plt\n",
        "torch.manual_seed(4)\n",
        "np.random.seed(4)"
      ],
      "execution_count": 1,
      "outputs": []
    },
    {
      "cell_type": "code",
      "metadata": {
        "id": "lxQYAYqhxqaD"
      },
      "source": [
        "BATCH_SIZE = 128\n",
        "NUM_ITERS = int(2e4)\n",
        "CRITERION = nn.CrossEntropyLoss()  \n"
      ],
      "execution_count": 2,
      "outputs": []
    },
    {
      "cell_type": "code",
      "metadata": {
        "colab": {
          "base_uri": "https://localhost:8080/"
        },
        "id": "oyArAn3SxqaD",
        "outputId": "58e1d7a3-8586-4599-f7b3-52d9c2071340"
      },
      "source": [
        "\n",
        "transform = transforms.Compose(\n",
        "    [transforms.ToTensor(),\n",
        "     transforms.Normalize((0.5, 0.5, 0.5), (0.5, 0.5, 0.5))])\n",
        "\n",
        "\n",
        "trainset = torchvision.datasets.CIFAR10(root='./data', train=True,\n",
        "                                        download=True, transform=transform)\n",
        "\n",
        "\n",
        "testset = torchvision.datasets.CIFAR10(root='./data', train=False,\n",
        "                                       download=True,  transform=transform)\n",
        "\n",
        "\n",
        "train_loader = torch.utils.data.DataLoader(trainset, batch_size=BATCH_SIZE,\n",
        "                                        shuffle=True, num_workers=2)\n",
        "\n",
        "test_loader = torch.utils.data.DataLoader(testset, batch_size=BATCH_SIZE,\n",
        "                                        shuffle=False, num_workers=2)\n",
        "\n",
        "EPOCHS = int(NUM_ITERS / (len(trainset) / BATCH_SIZE))\n",
        "\n",
        "DEVICE = 'cuda' if torch.cuda.is_available() else 'cpu'\n",
        "print(DEVICE)"
      ],
      "execution_count": 3,
      "outputs": [
        {
          "output_type": "stream",
          "text": [
            "Files already downloaded and verified\n",
            "Files already downloaded and verified\n",
            "cuda\n"
          ],
          "name": "stdout"
        }
      ]
    },
    {
      "cell_type": "code",
      "metadata": {
        "id": "QXVV9QgLysUO"
      },
      "source": [
        ""
      ],
      "execution_count": 3,
      "outputs": []
    },
    {
      "cell_type": "code",
      "metadata": {
        "id": "JKd7Cc0JxqaE"
      },
      "source": [
        "\n",
        "# Block\n",
        "\n",
        "class ConvBlock(nn.Module):\n",
        "\n",
        "    def __init__(self, stride=1, padding=1, batch_norm=False):\n",
        "        super().__init__()\n",
        "        self.batch_norm = batch_norm\n",
        "        \n",
        "        self.conv1 = nn.Conv2d(in_channels=8, out_channels=8, kernel_size=3, stride=stride, padding=padding)\n",
        "\n",
        "        if batch_norm:\n",
        "            self.bn1 = nn.BatchNorm2d(8)\n",
        "\n",
        "        self.relu1 = nn.ReLU()        \n",
        "\n",
        "        self.conv2 = nn.Conv2d(in_channels=8, out_channels=8, kernel_size=3, stride=stride, padding=padding)\n",
        "\n",
        "        if batch_norm:\n",
        "            self.bn2 = nn.BatchNorm2d(8)\n",
        "\n",
        "        self.relu2 = nn.ReLU()       \n",
        "\n",
        "         \n",
        "\n",
        "\n",
        "    def forward(self, x):\n",
        "\n",
        "        out = self.conv1(x)\n",
        "\n",
        "        if self.batch_norm:\n",
        "            out = self.bn1(out)\n",
        "\n",
        "        out = self.relu1(out)\n",
        "\n",
        "        out = self.conv2(x)\n",
        "\n",
        "        if self.batch_norm:\n",
        "            out = self.bn2(out)\n",
        "\n",
        "        out = self.relu2(out)\n",
        "\n",
        "        return out\n",
        "\n",
        "# Model\n",
        "class CNNModel(nn.Module):\n",
        "    def __init__(self, batch_norm=False, N=10):\n",
        "\n",
        "        super().__init__()\n",
        "\n",
        "        self.conv1 = nn.Conv2d(in_channels=3, out_channels=8, kernel_size=5, stride=1, padding=0)\n",
        "        # Size: 28 x 28\n",
        "\n",
        "        self.conv2 = nn.Conv2d(in_channels=8, out_channels=8, kernel_size=5, stride=2, padding=0)\n",
        "        # Size: 12 x 12\n",
        "\n",
        "        # Dynamic block num\n",
        "        self.blocks = nn.Sequential(*[ConvBlock(batch_norm=batch_norm) for _ in range(N)])\n",
        "        # Size: 12 x 12\n",
        "\n",
        "        self.conv3 = nn.Conv2d(in_channels=8, out_channels=4, kernel_size=3, stride=2, padding=0)                    \n",
        "        # Size: 5 X 5\n",
        "\n",
        "        self.fc1 = nn.Linear(5 * 5 * 4, 100, bias=True) \n",
        "        self.relu1 = nn.ReLU()\n",
        "        self.fc2 = nn.Linear(100, 10, bias=False) \n",
        "\n",
        "\n",
        "    def forward(self, x):\n",
        "\n",
        "        out = self.conv1(x)\n",
        "        out = self.conv2(out)\n",
        "        \n",
        "        out = self.blocks(out)         # How is the shape the same after this???\n",
        "        out = self.conv3(out)\n",
        "        out = out.view(out.size(0), -1)\n",
        "        out = self.fc1(out)\n",
        "        out = self.relu1(out)\n",
        "        out = self.fc2(out)\n",
        "\n",
        "        return out"
      ],
      "execution_count": 4,
      "outputs": []
    },
    {
      "cell_type": "code",
      "metadata": {
        "id": "h4_F9ETdxqaF"
      },
      "source": [
        "\n",
        "def calc_accuracy(model, train=False): # add train param to calculate accuracy on both train and test\n",
        "    # Calculate Accuracy         \n",
        "    correct = 0\n",
        "    total = 0\n",
        "    \n",
        "    d_loader = train_loader if train else test_loader\n",
        "    # Iterate through test dataset\n",
        "    for images, labels in d_loader:\n",
        "        # Load images\n",
        "        images, labels = images.requires_grad_().to(DEVICE), labels.to(DEVICE)        \n",
        "\n",
        "        # Forward pass only to get logits/output\n",
        "        outputs = model(images)\n",
        "\n",
        "        # Get predictions from the maximum value\n",
        "        _, predicted = torch.max(outputs.data, 1)\n",
        "\n",
        "        # Total number of labels\n",
        "        total += labels.size(0)\n",
        "\n",
        "        # Total correct predictions\n",
        "        correct += (predicted == labels).sum()\n",
        "\n",
        "    return 100 * correct / total\n",
        "\n",
        "def train(model): \n",
        "    print(f'Training for {EPOCHS} epochs')\n",
        "    optimizer = torch.optim.SGD(model.parameters(), lr=.01)  \n",
        "    accuracy = {'train': [], 'test': []}\n",
        "\n",
        "    for epoch in range(EPOCHS):    \n",
        "        for i, (images, labels) in enumerate(train_loader): \n",
        "            # This will load batch_size amount of samples\n",
        "            images, labels = images.requires_grad_().to(DEVICE), labels.to(DEVICE)                     \n",
        "\n",
        "            # Clear gradients w.r.t. parameters\n",
        "            optimizer.zero_grad()\n",
        "\n",
        "            # Forward pass to get output/logits\n",
        "            outputs = model(images)\n",
        "\n",
        "            # Calculate Loss: softmax --> cross entropy loss\n",
        "            loss = CRITERION(outputs, labels)\n",
        "\n",
        "            # Getting gradients w.r.t. parameters\n",
        "            loss.backward()\n",
        "\n",
        "            # Updating parameters\n",
        "            optimizer.step()\n",
        "\n",
        "        train_accuracy = calc_accuracy(model, train=True) # abstract accuracy function away\n",
        "        test_accuracy = calc_accuracy(model) # abstract accuracy function away\n",
        "        # Print Loss\n",
        "        print('Epoch: {} Loss: {}. Train Accuracy: {}, Test Accuracy: {}'.format(epoch, loss.item(), train_accuracy, test_accuracy))\n",
        "\n",
        "        accuracy['train'].append(train_accuracy.item())\n",
        "        accuracy['test'].append(test_accuracy.item())\n",
        "        \n",
        "    return pd.DataFrame(accuracy)"
      ],
      "execution_count": 5,
      "outputs": []
    },
    {
      "cell_type": "markdown",
      "metadata": {
        "id": "5tDL5Ega77Z_"
      },
      "source": [
        "## a) Plot Train and Test accuracy"
      ]
    },
    {
      "cell_type": "code",
      "metadata": {
        "colab": {
          "base_uri": "https://localhost:8080/",
          "height": 1000
        },
        "id": "H41-2RjcxqaF",
        "outputId": "29a71838-f83f-4bf4-e365-d9042674a9cd"
      },
      "source": [
        "\n",
        "no_batch_norm = CNNModel().to(DEVICE)\n",
        "nbn_history = train(no_batch_norm)\n",
        "nbn_history.plot(y=['train', 'test'], use_index=True, xlabel='Epoch no.', ylabel='Accuracy (%)')"
      ],
      "execution_count": 6,
      "outputs": [
        {
          "output_type": "stream",
          "text": [
            "Training for 51 epochs\n",
            "Epoch: 0 Loss: 2.3027138710021973. Train Accuracy: 10.0, Test Accuracy: 10.0\n",
            "Epoch: 1 Loss: 2.3021628856658936. Train Accuracy: 10.0, Test Accuracy: 10.0\n",
            "Epoch: 2 Loss: 2.302372455596924. Train Accuracy: 10.0, Test Accuracy: 10.0\n",
            "Epoch: 3 Loss: 2.3020453453063965. Train Accuracy: 10.0, Test Accuracy: 10.0\n",
            "Epoch: 4 Loss: 2.302574872970581. Train Accuracy: 10.0, Test Accuracy: 10.0\n",
            "Epoch: 5 Loss: 2.302501916885376. Train Accuracy: 10.0, Test Accuracy: 10.0\n",
            "Epoch: 6 Loss: 2.3025786876678467. Train Accuracy: 10.0, Test Accuracy: 10.0\n",
            "Epoch: 7 Loss: 2.3028206825256348. Train Accuracy: 10.0, Test Accuracy: 10.0\n",
            "Epoch: 8 Loss: 2.3024020195007324. Train Accuracy: 10.0, Test Accuracy: 10.0\n",
            "Epoch: 9 Loss: 2.303006172180176. Train Accuracy: 10.0, Test Accuracy: 10.0\n",
            "Epoch: 10 Loss: 2.303027629852295. Train Accuracy: 10.0, Test Accuracy: 10.0\n",
            "Epoch: 11 Loss: 2.3028082847595215. Train Accuracy: 10.0, Test Accuracy: 10.0\n",
            "Epoch: 12 Loss: 2.3026418685913086. Train Accuracy: 10.0, Test Accuracy: 10.0\n",
            "Epoch: 13 Loss: 2.3026933670043945. Train Accuracy: 10.0, Test Accuracy: 10.0\n",
            "Epoch: 14 Loss: 2.3025729656219482. Train Accuracy: 10.0, Test Accuracy: 10.0\n",
            "Epoch: 15 Loss: 2.3025994300842285. Train Accuracy: 10.0, Test Accuracy: 10.0\n",
            "Epoch: 16 Loss: 2.3025965690612793. Train Accuracy: 10.0, Test Accuracy: 10.0\n",
            "Epoch: 17 Loss: 2.3027074337005615. Train Accuracy: 10.0, Test Accuracy: 10.0\n",
            "Epoch: 18 Loss: 2.302717924118042. Train Accuracy: 10.0, Test Accuracy: 10.0\n",
            "Epoch: 19 Loss: 2.302570104598999. Train Accuracy: 10.0, Test Accuracy: 10.0\n",
            "Epoch: 20 Loss: 2.302687168121338. Train Accuracy: 10.0, Test Accuracy: 10.0\n",
            "Epoch: 21 Loss: 2.3026816844940186. Train Accuracy: 10.0, Test Accuracy: 10.0\n",
            "Epoch: 22 Loss: 2.3026623725891113. Train Accuracy: 10.0, Test Accuracy: 10.0\n",
            "Epoch: 23 Loss: 2.3025944232940674. Train Accuracy: 10.0, Test Accuracy: 10.0\n",
            "Epoch: 24 Loss: 2.3026137351989746. Train Accuracy: 10.0, Test Accuracy: 10.0\n",
            "Epoch: 25 Loss: 2.3026132583618164. Train Accuracy: 10.0, Test Accuracy: 10.0\n",
            "Epoch: 26 Loss: 2.3026602268218994. Train Accuracy: 10.0, Test Accuracy: 10.0\n",
            "Epoch: 27 Loss: 2.3026368618011475. Train Accuracy: 10.0, Test Accuracy: 10.0\n",
            "Epoch: 28 Loss: 2.302680253982544. Train Accuracy: 10.0, Test Accuracy: 10.0\n",
            "Epoch: 29 Loss: 2.302621364593506. Train Accuracy: 10.0, Test Accuracy: 10.0\n",
            "Epoch: 30 Loss: 2.3026232719421387. Train Accuracy: 10.0, Test Accuracy: 10.0\n",
            "Epoch: 31 Loss: 2.3026058673858643. Train Accuracy: 10.0, Test Accuracy: 10.0\n",
            "Epoch: 32 Loss: 2.3025643825531006. Train Accuracy: 10.0, Test Accuracy: 10.0\n",
            "Epoch: 33 Loss: 2.3026018142700195. Train Accuracy: 10.0, Test Accuracy: 10.0\n",
            "Epoch: 34 Loss: 2.3026177883148193. Train Accuracy: 10.0, Test Accuracy: 10.0\n",
            "Epoch: 35 Loss: 2.3025670051574707. Train Accuracy: 10.0, Test Accuracy: 10.0\n",
            "Epoch: 36 Loss: 2.3026480674743652. Train Accuracy: 10.0, Test Accuracy: 10.0\n",
            "Epoch: 37 Loss: 2.3025758266448975. Train Accuracy: 10.0, Test Accuracy: 10.0\n",
            "Epoch: 38 Loss: 2.302602767944336. Train Accuracy: 10.0, Test Accuracy: 10.0\n",
            "Epoch: 39 Loss: 2.302590847015381. Train Accuracy: 10.0, Test Accuracy: 10.0\n",
            "Epoch: 40 Loss: 2.3026626110076904. Train Accuracy: 10.0, Test Accuracy: 10.0\n",
            "Epoch: 41 Loss: 2.3025999069213867. Train Accuracy: 10.0, Test Accuracy: 10.0\n",
            "Epoch: 42 Loss: 2.3026535511016846. Train Accuracy: 10.0, Test Accuracy: 10.0\n",
            "Epoch: 43 Loss: 2.302603244781494. Train Accuracy: 10.0, Test Accuracy: 10.0\n",
            "Epoch: 44 Loss: 2.3026206493377686. Train Accuracy: 10.0, Test Accuracy: 10.0\n",
            "Epoch: 45 Loss: 2.302605390548706. Train Accuracy: 10.0, Test Accuracy: 10.0\n",
            "Epoch: 46 Loss: 2.3025946617126465. Train Accuracy: 10.0, Test Accuracy: 10.0\n",
            "Epoch: 47 Loss: 2.3026371002197266. Train Accuracy: 10.0, Test Accuracy: 10.0\n",
            "Epoch: 48 Loss: 2.302678108215332. Train Accuracy: 10.0, Test Accuracy: 10.0\n",
            "Epoch: 49 Loss: 2.302589178085327. Train Accuracy: 10.0, Test Accuracy: 10.0\n",
            "Epoch: 50 Loss: 2.302631378173828. Train Accuracy: 10.0, Test Accuracy: 10.0\n"
          ],
          "name": "stdout"
        },
        {
          "output_type": "execute_result",
          "data": {
            "text/plain": [
              "<matplotlib.axes._subplots.AxesSubplot at 0x7f152c964f50>"
            ]
          },
          "metadata": {
            "tags": []
          },
          "execution_count": 6
        },
        {
          "output_type": "display_data",
          "data": {
            "image/png": "[encoded data removed]",
            "text/plain": [
              "<Figure size 432x288 with 1 Axes>"
            ]
          },
          "metadata": {
            "tags": [],
            "needs_background": "light"
          }
        }
      ]
    },
    {
      "cell_type": "code",
      "metadata": {
        "id": "CXtUVBUFy1ga",
        "colab": {
          "base_uri": "https://localhost:8080/",
          "height": 1000
        },
        "outputId": "ac6c42e4-320f-430b-b015-46bebfee0c3e"
      },
      "source": [
        "batch_norm = CNNModel(batch_norm=True).to(DEVICE)\n",
        "bn_history = train(batch_norm)\n",
        "bn_history.plot(y=['train', 'test'], use_index=True, xlabel='Epoch no.', ylabel='Accuracy (%)')    "
      ],
      "execution_count": 7,
      "outputs": [
        {
          "output_type": "stream",
          "text": [
            "Training for 51 epochs\n",
            "Epoch: 0 Loss: 1.9252649545669556. Train Accuracy: 27.035999298095703, Test Accuracy: 26.739999771118164\n",
            "Epoch: 1 Loss: 1.6570892333984375. Train Accuracy: 34.625999450683594, Test Accuracy: 34.540000915527344\n",
            "Epoch: 2 Loss: 1.4723645448684692. Train Accuracy: 38.26199722290039, Test Accuracy: 38.0\n",
            "Epoch: 3 Loss: 1.5483534336090088. Train Accuracy: 41.33799743652344, Test Accuracy: 40.619998931884766\n",
            "Epoch: 4 Loss: 1.5105412006378174. Train Accuracy: 42.31999969482422, Test Accuracy: 42.0\n",
            "Epoch: 5 Loss: 1.3452765941619873. Train Accuracy: 46.45800018310547, Test Accuracy: 45.90999984741211\n",
            "Epoch: 6 Loss: 1.5339981317520142. Train Accuracy: 47.5099983215332, Test Accuracy: 46.78999710083008\n",
            "Epoch: 7 Loss: 1.3911526203155518. Train Accuracy: 49.305999755859375, Test Accuracy: 48.11000061035156\n",
            "Epoch: 8 Loss: 1.36250901222229. Train Accuracy: 49.49799728393555, Test Accuracy: 48.28999710083008\n",
            "Epoch: 9 Loss: 1.3342885971069336. Train Accuracy: 50.49399948120117, Test Accuracy: 49.16999816894531\n",
            "Epoch: 10 Loss: 1.3103851079940796. Train Accuracy: 51.395999908447266, Test Accuracy: 49.31999969482422\n",
            "Epoch: 11 Loss: 1.422888159751892. Train Accuracy: 52.58199691772461, Test Accuracy: 51.23999786376953\n",
            "Epoch: 12 Loss: 1.3489525318145752. Train Accuracy: 52.4379997253418, Test Accuracy: 50.69999694824219\n",
            "Epoch: 13 Loss: 1.4685935974121094. Train Accuracy: 53.615997314453125, Test Accuracy: 51.52000045776367\n",
            "Epoch: 14 Loss: 1.4928051233291626. Train Accuracy: 54.402000427246094, Test Accuracy: 51.94999694824219\n",
            "Epoch: 15 Loss: 1.1601327657699585. Train Accuracy: 55.26199722290039, Test Accuracy: 52.54999923706055\n",
            "Epoch: 16 Loss: 1.2126343250274658. Train Accuracy: 53.163997650146484, Test Accuracy: 50.47999954223633\n",
            "Epoch: 17 Loss: 1.0343687534332275. Train Accuracy: 56.82600021362305, Test Accuracy: 53.87999725341797\n",
            "Epoch: 18 Loss: 1.3153719902038574. Train Accuracy: 56.59000015258789, Test Accuracy: 53.41999816894531\n",
            "Epoch: 19 Loss: 1.1744457483291626. Train Accuracy: 57.211997985839844, Test Accuracy: 53.65999984741211\n",
            "Epoch: 20 Loss: 1.048018455505371. Train Accuracy: 57.263999938964844, Test Accuracy: 53.78999710083008\n",
            "Epoch: 21 Loss: 1.0553146600723267. Train Accuracy: 58.37399673461914, Test Accuracy: 54.82999801635742\n",
            "Epoch: 22 Loss: 1.200201392173767. Train Accuracy: 58.06399917602539, Test Accuracy: 54.459999084472656\n",
            "Epoch: 23 Loss: 1.1229193210601807. Train Accuracy: 58.29800033569336, Test Accuracy: 54.62999725341797\n",
            "Epoch: 24 Loss: 1.2030816078186035. Train Accuracy: 57.86199951171875, Test Accuracy: 53.599998474121094\n",
            "Epoch: 25 Loss: 1.2744295597076416. Train Accuracy: 58.1719970703125, Test Accuracy: 53.98999786376953\n",
            "Epoch: 26 Loss: 1.2430760860443115. Train Accuracy: 58.65399932861328, Test Accuracy: 54.69999694824219\n",
            "Epoch: 27 Loss: 0.9595179557800293. Train Accuracy: 59.854000091552734, Test Accuracy: 55.46999740600586\n",
            "Epoch: 28 Loss: 1.0304298400878906. Train Accuracy: 58.95800018310547, Test Accuracy: 54.93000030517578\n",
            "Epoch: 29 Loss: 1.4779729843139648. Train Accuracy: 59.323997497558594, Test Accuracy: 54.65999984741211\n",
            "Epoch: 30 Loss: 0.9450236558914185. Train Accuracy: 59.917999267578125, Test Accuracy: 55.5099983215332\n",
            "Epoch: 31 Loss: 0.951587975025177. Train Accuracy: 60.54199981689453, Test Accuracy: 55.6099967956543\n",
            "Epoch: 32 Loss: 1.218802571296692. Train Accuracy: 60.455997467041016, Test Accuracy: 55.93000030517578\n",
            "Epoch: 33 Loss: 1.1212432384490967. Train Accuracy: 60.86800003051758, Test Accuracy: 56.29999923706055\n",
            "Epoch: 34 Loss: 0.9918946027755737. Train Accuracy: 60.41999816894531, Test Accuracy: 55.7599983215332\n",
            "Epoch: 35 Loss: 0.8627572059631348. Train Accuracy: 61.1099967956543, Test Accuracy: 56.48999786376953\n",
            "Epoch: 36 Loss: 1.2054063081741333. Train Accuracy: 61.63999938964844, Test Accuracy: 56.0099983215332\n",
            "Epoch: 37 Loss: 1.098017930984497. Train Accuracy: 60.78399658203125, Test Accuracy: 55.75\n",
            "Epoch: 38 Loss: 1.2898859977722168. Train Accuracy: 61.94599914550781, Test Accuracy: 56.39999771118164\n",
            "Epoch: 39 Loss: 0.9437919855117798. Train Accuracy: 61.85199737548828, Test Accuracy: 56.73999786376953\n",
            "Epoch: 40 Loss: 0.975104808807373. Train Accuracy: 61.76599884033203, Test Accuracy: 56.93000030517578\n",
            "Epoch: 41 Loss: 1.0761713981628418. Train Accuracy: 61.97200012207031, Test Accuracy: 56.43000030517578\n",
            "Epoch: 42 Loss: 1.006551742553711. Train Accuracy: 61.99799728393555, Test Accuracy: 56.39999771118164\n",
            "Epoch: 43 Loss: 1.0766682624816895. Train Accuracy: 62.387996673583984, Test Accuracy: 56.66999816894531\n",
            "Epoch: 44 Loss: 1.0494905710220337. Train Accuracy: 62.91999816894531, Test Accuracy: 56.6099967956543\n",
            "Epoch: 45 Loss: 1.1018704175949097. Train Accuracy: 62.935997009277344, Test Accuracy: 56.81999969482422\n",
            "Epoch: 46 Loss: 1.1373378038406372. Train Accuracy: 60.9839973449707, Test Accuracy: 55.279998779296875\n",
            "Epoch: 47 Loss: 1.0193160772323608. Train Accuracy: 62.99799728393555, Test Accuracy: 56.56999969482422\n",
            "Epoch: 48 Loss: 0.9584763646125793. Train Accuracy: 62.90199661254883, Test Accuracy: 57.27000045776367\n",
            "Epoch: 49 Loss: 1.0195789337158203. Train Accuracy: 61.89799880981445, Test Accuracy: 55.90999984741211\n",
            "Epoch: 50 Loss: 1.0368473529815674. Train Accuracy: 63.38399887084961, Test Accuracy: 56.34000015258789\n"
          ],
          "name": "stdout"
        },
        {
          "output_type": "execute_result",
          "data": {
            "text/plain": [
              "<matplotlib.axes._subplots.AxesSubplot at 0x7f15245599d0>"
            ]
          },
          "metadata": {
            "tags": []
          },
          "execution_count": 7
        },
        {
          "output_type": "display_data",
          "data": {
            "image/png": "[encoded data removed]",
            "text/plain": [
              "<Figure size 432x288 with 1 Axes>"
            ]
          },
          "metadata": {
            "tags": [],
            "needs_background": "light"
          }
        }
      ]
    },
    {
      "cell_type": "markdown",
      "metadata": {
        "id": "M8YJLQAD77aA"
      },
      "source": [
        "## b) Optimal value of N w/o batch normalization"
      ]
    },
    {
      "cell_type": "code",
      "metadata": {
        "colab": {
          "base_uri": "https://localhost:8080/",
          "height": 1000
        },
        "id": "hZ7tXBl577aB",
        "outputId": "85fdaa4c-b88d-4eea-9be4-356b83305ae9"
      },
      "source": [
        "nbn_models = []\n",
        "nbn_histories = []\n",
        "for test_n in range(2, 10):\n",
        "    if test_n % 2 == 0: # if it's even\n",
        "        model = CNNModel(N=test_n).to(DEVICE)\n",
        "        nbn_models.append(model)\n",
        "        history = train(model)\n",
        "        nbn_histories.append(history)\n",
        "        history.plot(y=['train', 'test'], use_index=True, xlabel='Epoch no.', ylabel='Accuracy (%)')    \n",
        "        plt.title(f'Accuracy plot with {test_n} blocks')\n",
        "    \n"
      ],
      "execution_count": 8,
      "outputs": [
        {
          "output_type": "stream",
          "text": [
            "Training for 51 epochs\n",
            "Epoch: 0 Loss: 2.307652473449707. Train Accuracy: 10.0, Test Accuracy: 10.0\n",
            "Epoch: 1 Loss: 2.300196409225464. Train Accuracy: 10.0, Test Accuracy: 10.0\n",
            "Epoch: 2 Loss: 2.275211811065674. Train Accuracy: 16.219999313354492, Test Accuracy: 16.10999870300293\n",
            "Epoch: 3 Loss: 2.046011447906494. Train Accuracy: 22.917999267578125, Test Accuracy: 23.75\n",
            "Epoch: 4 Loss: 1.9568980932235718. Train Accuracy: 27.52199935913086, Test Accuracy: 28.469999313354492\n",
            "Epoch: 5 Loss: 2.0499563217163086. Train Accuracy: 29.12799835205078, Test Accuracy: 29.579999923706055\n",
            "Epoch: 6 Loss: 1.9133882522583008. Train Accuracy: 31.24599838256836, Test Accuracy: 32.16999816894531\n",
            "Epoch: 7 Loss: 1.9294506311416626. Train Accuracy: 30.74799919128418, Test Accuracy: 31.51999855041504\n",
            "Epoch: 8 Loss: 1.7494490146636963. Train Accuracy: 33.74599838256836, Test Accuracy: 33.97999954223633\n",
            "Epoch: 9 Loss: 1.7453018426895142. Train Accuracy: 34.961997985839844, Test Accuracy: 35.05999755859375\n",
            "Epoch: 10 Loss: 1.6037940979003906. Train Accuracy: 37.18199920654297, Test Accuracy: 37.52000045776367\n",
            "Epoch: 11 Loss: 1.6134748458862305. Train Accuracy: 38.99599838256836, Test Accuracy: 39.349998474121094\n",
            "Epoch: 12 Loss: 1.615952730178833. Train Accuracy: 39.827999114990234, Test Accuracy: 39.87999725341797\n",
            "Epoch: 13 Loss: 1.847426176071167. Train Accuracy: 40.94599914550781, Test Accuracy: 41.099998474121094\n",
            "Epoch: 14 Loss: 1.9176620244979858. Train Accuracy: 42.013999938964844, Test Accuracy: 41.599998474121094\n",
            "Epoch: 15 Loss: 1.6923134326934814. Train Accuracy: 43.06599807739258, Test Accuracy: 42.779998779296875\n",
            "Epoch: 16 Loss: 1.5941014289855957. Train Accuracy: 44.36399841308594, Test Accuracy: 43.91999816894531\n",
            "Epoch: 17 Loss: 1.4405314922332764. Train Accuracy: 44.486000061035156, Test Accuracy: 44.32999801635742\n",
            "Epoch: 18 Loss: 1.3393795490264893. Train Accuracy: 45.78799819946289, Test Accuracy: 45.54999923706055\n",
            "Epoch: 19 Loss: 1.5096416473388672. Train Accuracy: 46.87199783325195, Test Accuracy: 46.59000015258789\n",
            "Epoch: 20 Loss: 1.484992265701294. Train Accuracy: 46.89399719238281, Test Accuracy: 46.32999801635742\n",
            "Epoch: 21 Loss: 1.3427945375442505. Train Accuracy: 47.663997650146484, Test Accuracy: 47.189998626708984\n",
            "Epoch: 22 Loss: 1.5501830577850342. Train Accuracy: 47.72999954223633, Test Accuracy: 46.79999923706055\n",
            "Epoch: 23 Loss: 1.3586066961288452. Train Accuracy: 49.04199981689453, Test Accuracy: 47.93000030517578\n",
            "Epoch: 24 Loss: 1.4434376955032349. Train Accuracy: 50.41999816894531, Test Accuracy: 49.279998779296875\n",
            "Epoch: 25 Loss: 1.3857425451278687. Train Accuracy: 50.237998962402344, Test Accuracy: 49.28999710083008\n",
            "Epoch: 26 Loss: 1.4643323421478271. Train Accuracy: 47.40999984741211, Test Accuracy: 46.439998626708984\n",
            "Epoch: 27 Loss: 1.5305795669555664. Train Accuracy: 49.736000061035156, Test Accuracy: 48.369998931884766\n",
            "Epoch: 28 Loss: 1.276660442352295. Train Accuracy: 51.317996978759766, Test Accuracy: 49.62999725341797\n",
            "Epoch: 29 Loss: 1.3517541885375977. Train Accuracy: 52.124000549316406, Test Accuracy: 50.72999954223633\n",
            "Epoch: 30 Loss: 1.2449309825897217. Train Accuracy: 52.486000061035156, Test Accuracy: 50.72999954223633\n",
            "Epoch: 31 Loss: 1.5374813079833984. Train Accuracy: 52.52799987792969, Test Accuracy: 50.689998626708984\n",
            "Epoch: 32 Loss: 1.5417636632919312. Train Accuracy: 53.48999786376953, Test Accuracy: 51.47999954223633\n",
            "Epoch: 33 Loss: 1.3875713348388672. Train Accuracy: 53.374000549316406, Test Accuracy: 51.54999923706055\n",
            "Epoch: 34 Loss: 1.2091333866119385. Train Accuracy: 52.91999816894531, Test Accuracy: 50.7599983215332\n",
            "Epoch: 35 Loss: 1.2031805515289307. Train Accuracy: 53.78199768066406, Test Accuracy: 51.56999969482422\n",
            "Epoch: 36 Loss: 1.4149175882339478. Train Accuracy: 54.711997985839844, Test Accuracy: 52.0099983215332\n",
            "Epoch: 37 Loss: 1.050527811050415. Train Accuracy: 54.402000427246094, Test Accuracy: 51.77000045776367\n",
            "Epoch: 38 Loss: 1.2224115133285522. Train Accuracy: 54.53799819946289, Test Accuracy: 51.88999938964844\n",
            "Epoch: 39 Loss: 1.051326036453247. Train Accuracy: 55.26599884033203, Test Accuracy: 52.29999923706055\n",
            "Epoch: 40 Loss: 1.3032759428024292. Train Accuracy: 54.88999938964844, Test Accuracy: 52.29999923706055\n",
            "Epoch: 41 Loss: 1.1335194110870361. Train Accuracy: 55.44199752807617, Test Accuracy: 52.62999725341797\n",
            "Epoch: 42 Loss: 1.326210856437683. Train Accuracy: 55.97200012207031, Test Accuracy: 52.8599967956543\n",
            "Epoch: 43 Loss: 1.1832683086395264. Train Accuracy: 54.709999084472656, Test Accuracy: 51.88999938964844\n",
            "Epoch: 44 Loss: 1.204858422279358. Train Accuracy: 55.91600036621094, Test Accuracy: 52.68000030517578\n",
            "Epoch: 45 Loss: 1.2249720096588135. Train Accuracy: 56.13999938964844, Test Accuracy: 53.1099967956543\n",
            "Epoch: 46 Loss: 1.2451961040496826. Train Accuracy: 56.59599685668945, Test Accuracy: 53.5099983215332\n",
            "Epoch: 47 Loss: 1.3219823837280273. Train Accuracy: 56.77199935913086, Test Accuracy: 53.31999969482422\n",
            "Epoch: 48 Loss: 1.3017327785491943. Train Accuracy: 56.61800003051758, Test Accuracy: 53.619998931884766\n",
            "Epoch: 49 Loss: 1.3481215238571167. Train Accuracy: 56.49799728393555, Test Accuracy: 53.14999771118164\n",
            "Epoch: 50 Loss: 1.1533758640289307. Train Accuracy: 57.215999603271484, Test Accuracy: 53.849998474121094\n",
            "Training for 51 epochs\n",
            "Epoch: 0 Loss: 2.298962116241455. Train Accuracy: 10.0, Test Accuracy: 10.0\n",
            "Epoch: 1 Loss: 2.303330659866333. Train Accuracy: 10.0, Test Accuracy: 10.0\n",
            "Epoch: 2 Loss: 2.3033831119537354. Train Accuracy: 10.0, Test Accuracy: 10.0\n",
            "Epoch: 3 Loss: 2.3001532554626465. Train Accuracy: 10.0, Test Accuracy: 10.0\n",
            "Epoch: 4 Loss: 2.3028221130371094. Train Accuracy: 10.0, Test Accuracy: 10.0\n",
            "Epoch: 5 Loss: 2.301323652267456. Train Accuracy: 10.0, Test Accuracy: 10.0\n",
            "Epoch: 6 Loss: 2.302982807159424. Train Accuracy: 10.0, Test Accuracy: 10.0\n",
            "Epoch: 7 Loss: 2.3031928539276123. Train Accuracy: 10.0, Test Accuracy: 10.0\n",
            "Epoch: 8 Loss: 2.303178071975708. Train Accuracy: 10.001999855041504, Test Accuracy: 10.0\n",
            "Epoch: 9 Loss: 2.3022818565368652. Train Accuracy: 10.0, Test Accuracy: 10.0\n",
            "Epoch: 10 Loss: 2.302551031112671. Train Accuracy: 10.055999755859375, Test Accuracy: 10.050000190734863\n",
            "Epoch: 11 Loss: 2.302372455596924. Train Accuracy: 10.015999794006348, Test Accuracy: 10.00999927520752\n",
            "Epoch: 12 Loss: 2.302955150604248. Train Accuracy: 10.489999771118164, Test Accuracy: 10.469999313354492\n",
            "Epoch: 13 Loss: 2.3020830154418945. Train Accuracy: 14.503999710083008, Test Accuracy: 15.089999198913574\n",
            "Epoch: 14 Loss: 2.302793502807617. Train Accuracy: 12.637999534606934, Test Accuracy: 12.960000038146973\n",
            "Epoch: 15 Loss: 2.302607297897339. Train Accuracy: 12.934000015258789, Test Accuracy: 13.109999656677246\n",
            "Epoch: 16 Loss: 2.3022727966308594. Train Accuracy: 13.003999710083008, Test Accuracy: 13.229999542236328\n",
            "Epoch: 17 Loss: 2.3024346828460693. Train Accuracy: 12.187999725341797, Test Accuracy: 11.920000076293945\n",
            "Epoch: 18 Loss: 2.301940679550171. Train Accuracy: 12.555999755859375, Test Accuracy: 12.359999656677246\n",
            "Epoch: 19 Loss: 2.3017659187316895. Train Accuracy: 12.5339994430542, Test Accuracy: 12.34999942779541\n",
            "Epoch: 20 Loss: 2.301372528076172. Train Accuracy: 12.729999542236328, Test Accuracy: 12.59999942779541\n",
            "Epoch: 21 Loss: 2.2995965480804443. Train Accuracy: 14.604000091552734, Test Accuracy: 14.739999771118164\n",
            "Epoch: 22 Loss: 2.2969970703125. Train Accuracy: 16.104000091552734, Test Accuracy: 16.329999923706055\n",
            "Epoch: 23 Loss: 2.2826216220855713. Train Accuracy: 17.18199920654297, Test Accuracy: 17.34000015258789\n",
            "Epoch: 24 Loss: 2.1836228370666504. Train Accuracy: 20.194000244140625, Test Accuracy: 20.139999389648438\n",
            "Epoch: 25 Loss: 2.095080614089966. Train Accuracy: 23.142000198364258, Test Accuracy: 23.68000030517578\n",
            "Epoch: 26 Loss: 2.0811257362365723. Train Accuracy: 26.209999084472656, Test Accuracy: 26.42999839782715\n",
            "Epoch: 27 Loss: 1.785750150680542. Train Accuracy: 28.191999435424805, Test Accuracy: 28.709999084472656\n",
            "Epoch: 28 Loss: 2.048691511154175. Train Accuracy: 28.142000198364258, Test Accuracy: 28.42999839782715\n",
            "Epoch: 29 Loss: 1.9063018560409546. Train Accuracy: 29.217998504638672, Test Accuracy: 28.85999870300293\n",
            "Epoch: 30 Loss: 1.6750768423080444. Train Accuracy: 32.09199905395508, Test Accuracy: 31.029998779296875\n",
            "Epoch: 31 Loss: 1.8726234436035156. Train Accuracy: 34.902000427246094, Test Accuracy: 34.15999984741211\n",
            "Epoch: 32 Loss: 1.8697608709335327. Train Accuracy: 34.849998474121094, Test Accuracy: 34.119998931884766\n",
            "Epoch: 33 Loss: 1.6440309286117554. Train Accuracy: 36.417999267578125, Test Accuracy: 36.39999771118164\n",
            "Epoch: 34 Loss: 1.578580617904663. Train Accuracy: 35.947998046875, Test Accuracy: 35.64999771118164\n",
            "Epoch: 35 Loss: 1.691536545753479. Train Accuracy: 38.97999954223633, Test Accuracy: 38.30999755859375\n",
            "Epoch: 36 Loss: 1.7078301906585693. Train Accuracy: 38.26199722290039, Test Accuracy: 37.619998931884766\n",
            "Epoch: 37 Loss: 1.440841794013977. Train Accuracy: 40.13399887084961, Test Accuracy: 39.54999923706055\n",
            "Epoch: 38 Loss: 1.555130958557129. Train Accuracy: 38.624000549316406, Test Accuracy: 38.349998474121094\n",
            "Epoch: 39 Loss: 1.5812268257141113. Train Accuracy: 41.6359977722168, Test Accuracy: 40.709999084472656\n",
            "Epoch: 40 Loss: 1.572622537612915. Train Accuracy: 41.413997650146484, Test Accuracy: 40.71999740600586\n",
            "Epoch: 41 Loss: 1.6755192279815674. Train Accuracy: 42.305999755859375, Test Accuracy: 41.619998931884766\n",
            "Epoch: 42 Loss: 1.5657470226287842. Train Accuracy: 43.06599807739258, Test Accuracy: 42.78999710083008\n",
            "Epoch: 43 Loss: 1.386283040046692. Train Accuracy: 43.624000549316406, Test Accuracy: 42.779998779296875\n",
            "Epoch: 44 Loss: 1.6263138055801392. Train Accuracy: 43.70800018310547, Test Accuracy: 42.98999786376953\n",
            "Epoch: 45 Loss: 1.485608696937561. Train Accuracy: 43.152000427246094, Test Accuracy: 42.849998474121094\n",
            "Epoch: 46 Loss: 1.2524166107177734. Train Accuracy: 45.28999710083008, Test Accuracy: 44.48999786376953\n",
            "Epoch: 47 Loss: 1.5787873268127441. Train Accuracy: 44.49799728393555, Test Accuracy: 43.90999984741211\n",
            "Epoch: 48 Loss: 1.5621172189712524. Train Accuracy: 45.145999908447266, Test Accuracy: 44.70000076293945\n",
            "Epoch: 49 Loss: 1.4391618967056274. Train Accuracy: 46.263999938964844, Test Accuracy: 45.04999923706055\n",
            "Epoch: 50 Loss: 1.4935661554336548. Train Accuracy: 44.913997650146484, Test Accuracy: 44.03999710083008\n",
            "Training for 51 epochs\n",
            "Epoch: 0 Loss: 2.299844741821289. Train Accuracy: 10.0, Test Accuracy: 10.0\n",
            "Epoch: 1 Loss: 2.3037679195404053. Train Accuracy: 10.0, Test Accuracy: 10.0\n",
            "Epoch: 2 Loss: 2.302757740020752. Train Accuracy: 10.0, Test Accuracy: 10.0\n",
            "Epoch: 3 Loss: 2.303771734237671. Train Accuracy: 10.0, Test Accuracy: 10.0\n",
            "Epoch: 4 Loss: 2.3037095069885254. Train Accuracy: 10.0, Test Accuracy: 10.0\n",
            "Epoch: 5 Loss: 2.3022170066833496. Train Accuracy: 10.0, Test Accuracy: 10.0\n",
            "Epoch: 6 Loss: 2.302462100982666. Train Accuracy: 10.0, Test Accuracy: 10.0\n",
            "Epoch: 7 Loss: 2.3021225929260254. Train Accuracy: 10.0, Test Accuracy: 10.0\n",
            "Epoch: 8 Loss: 2.302424192428589. Train Accuracy: 10.0, Test Accuracy: 10.0\n",
            "Epoch: 9 Loss: 2.3024823665618896. Train Accuracy: 10.0, Test Accuracy: 10.0\n",
            "Epoch: 10 Loss: 2.3026750087738037. Train Accuracy: 10.0, Test Accuracy: 10.0\n",
            "Epoch: 11 Loss: 2.302889585494995. Train Accuracy: 10.0, Test Accuracy: 10.0\n",
            "Epoch: 12 Loss: 2.302616596221924. Train Accuracy: 10.0, Test Accuracy: 10.0\n",
            "Epoch: 13 Loss: 2.302645206451416. Train Accuracy: 10.003999710083008, Test Accuracy: 10.0\n",
            "Epoch: 14 Loss: 2.3026115894317627. Train Accuracy: 10.0, Test Accuracy: 10.0\n",
            "Epoch: 15 Loss: 2.3026998043060303. Train Accuracy: 10.0, Test Accuracy: 10.0\n",
            "Epoch: 16 Loss: 2.3027005195617676. Train Accuracy: 10.026000022888184, Test Accuracy: 10.00999927520752\n",
            "Epoch: 17 Loss: 2.3025832176208496. Train Accuracy: 13.751999855041504, Test Accuracy: 13.920000076293945\n",
            "Epoch: 18 Loss: 2.302766799926758. Train Accuracy: 10.0, Test Accuracy: 10.0\n",
            "Epoch: 19 Loss: 2.302690029144287. Train Accuracy: 10.061999320983887, Test Accuracy: 10.109999656677246\n",
            "Epoch: 20 Loss: 2.3027126789093018. Train Accuracy: 10.0, Test Accuracy: 10.0\n",
            "Epoch: 21 Loss: 2.3026602268218994. Train Accuracy: 11.541999816894531, Test Accuracy: 11.699999809265137\n",
            "Epoch: 22 Loss: 2.3026394844055176. Train Accuracy: 10.001999855041504, Test Accuracy: 10.0\n",
            "Epoch: 23 Loss: 2.3025906085968018. Train Accuracy: 9.969999313354492, Test Accuracy: 9.979999542236328\n",
            "Epoch: 24 Loss: 2.302612781524658. Train Accuracy: 10.001999855041504, Test Accuracy: 10.0\n",
            "Epoch: 25 Loss: 2.302633762359619. Train Accuracy: 10.0, Test Accuracy: 10.0\n",
            "Epoch: 26 Loss: 2.302665948867798. Train Accuracy: 10.007999420166016, Test Accuracy: 9.979999542236328\n",
            "Epoch: 27 Loss: 2.302597761154175. Train Accuracy: 10.699999809265137, Test Accuracy: 10.789999961853027\n",
            "Epoch: 28 Loss: 2.302598476409912. Train Accuracy: 12.637999534606934, Test Accuracy: 13.039999961853027\n",
            "Epoch: 29 Loss: 2.3026890754699707. Train Accuracy: 10.001999855041504, Test Accuracy: 10.0\n",
            "Epoch: 30 Loss: 2.3025920391082764. Train Accuracy: 10.0, Test Accuracy: 10.0\n",
            "Epoch: 31 Loss: 2.302578926086426. Train Accuracy: 10.052000045776367, Test Accuracy: 9.969999313354492\n",
            "Epoch: 32 Loss: 2.3026022911071777. Train Accuracy: 10.0, Test Accuracy: 10.0\n",
            "Epoch: 33 Loss: 2.3026204109191895. Train Accuracy: 10.0, Test Accuracy: 10.00999927520752\n",
            "Epoch: 34 Loss: 2.30267333984375. Train Accuracy: 10.0, Test Accuracy: 10.0\n",
            "Epoch: 35 Loss: 2.3025355339050293. Train Accuracy: 12.503999710083008, Test Accuracy: 12.380000114440918\n",
            "Epoch: 36 Loss: 2.302638530731201. Train Accuracy: 10.22599983215332, Test Accuracy: 10.219999313354492\n",
            "Epoch: 37 Loss: 2.3026487827301025. Train Accuracy: 10.302000045776367, Test Accuracy: 10.1899995803833\n",
            "Epoch: 38 Loss: 2.302614688873291. Train Accuracy: 11.4399995803833, Test Accuracy: 11.369999885559082\n",
            "Epoch: 39 Loss: 2.3026070594787598. Train Accuracy: 10.015999794006348, Test Accuracy: 9.979999542236328\n",
            "Epoch: 40 Loss: 2.302586078643799. Train Accuracy: 10.0, Test Accuracy: 10.0\n",
            "Epoch: 41 Loss: 2.3027007579803467. Train Accuracy: 10.817999839782715, Test Accuracy: 10.880000114440918\n",
            "Epoch: 42 Loss: 2.302651882171631. Train Accuracy: 10.071999549865723, Test Accuracy: 10.09999942779541\n",
            "Epoch: 43 Loss: 2.302595376968384. Train Accuracy: 10.901999473571777, Test Accuracy: 10.979999542236328\n",
            "Epoch: 44 Loss: 2.3026628494262695. Train Accuracy: 10.0, Test Accuracy: 10.0\n",
            "Epoch: 45 Loss: 2.3026247024536133. Train Accuracy: 10.0, Test Accuracy: 10.0\n",
            "Epoch: 46 Loss: 2.3025126457214355. Train Accuracy: 10.0, Test Accuracy: 10.0\n",
            "Epoch: 47 Loss: 2.3025691509246826. Train Accuracy: 10.0, Test Accuracy: 10.0\n",
            "Epoch: 48 Loss: 2.3025546073913574. Train Accuracy: 10.013999938964844, Test Accuracy: 9.989999771118164\n",
            "Epoch: 49 Loss: 2.302584171295166. Train Accuracy: 10.0, Test Accuracy: 10.0\n",
            "Epoch: 50 Loss: 2.3025832176208496. Train Accuracy: 10.079999923706055, Test Accuracy: 10.029999732971191\n",
            "Training for 51 epochs\n",
            "Epoch: 0 Loss: 2.301138401031494. Train Accuracy: 10.0, Test Accuracy: 10.0\n",
            "Epoch: 1 Loss: 2.303593635559082. Train Accuracy: 10.0, Test Accuracy: 10.0\n",
            "Epoch: 2 Loss: 2.302870035171509. Train Accuracy: 10.0, Test Accuracy: 10.0\n",
            "Epoch: 3 Loss: 2.301820993423462. Train Accuracy: 10.0, Test Accuracy: 10.0\n",
            "Epoch: 4 Loss: 2.3022007942199707. Train Accuracy: 10.0, Test Accuracy: 10.0\n",
            "Epoch: 5 Loss: 2.301811695098877. Train Accuracy: 10.0, Test Accuracy: 10.0\n",
            "Epoch: 6 Loss: 2.3013081550598145. Train Accuracy: 10.0, Test Accuracy: 10.0\n",
            "Epoch: 7 Loss: 2.303110122680664. Train Accuracy: 10.0, Test Accuracy: 10.0\n",
            "Epoch: 8 Loss: 2.302278757095337. Train Accuracy: 10.0, Test Accuracy: 10.0\n",
            "Epoch: 9 Loss: 2.303091526031494. Train Accuracy: 10.0, Test Accuracy: 10.0\n",
            "Epoch: 10 Loss: 2.3025553226470947. Train Accuracy: 10.0, Test Accuracy: 10.0\n",
            "Epoch: 11 Loss: 2.3034141063690186. Train Accuracy: 10.0, Test Accuracy: 10.0\n",
            "Epoch: 12 Loss: 2.3025941848754883. Train Accuracy: 10.0, Test Accuracy: 10.0\n",
            "Epoch: 13 Loss: 2.302706241607666. Train Accuracy: 10.0, Test Accuracy: 10.0\n",
            "Epoch: 14 Loss: 2.302717924118042. Train Accuracy: 10.0, Test Accuracy: 10.0\n",
            "Epoch: 15 Loss: 2.302504301071167. Train Accuracy: 10.0, Test Accuracy: 10.0\n",
            "Epoch: 16 Loss: 2.302490711212158. Train Accuracy: 10.0, Test Accuracy: 10.0\n",
            "Epoch: 17 Loss: 2.302492141723633. Train Accuracy: 10.0, Test Accuracy: 10.0\n",
            "Epoch: 18 Loss: 2.302651882171631. Train Accuracy: 10.0, Test Accuracy: 10.0\n",
            "Epoch: 19 Loss: 2.3027148246765137. Train Accuracy: 10.0, Test Accuracy: 10.0\n",
            "Epoch: 20 Loss: 2.3026156425476074. Train Accuracy: 10.0, Test Accuracy: 10.0\n",
            "Epoch: 21 Loss: 2.302516460418701. Train Accuracy: 10.0, Test Accuracy: 10.0\n",
            "Epoch: 22 Loss: 2.30265474319458. Train Accuracy: 10.0, Test Accuracy: 10.0\n",
            "Epoch: 23 Loss: 2.302591562271118. Train Accuracy: 10.0, Test Accuracy: 10.0\n",
            "Epoch: 24 Loss: 2.302577495574951. Train Accuracy: 10.0, Test Accuracy: 10.0\n",
            "Epoch: 25 Loss: 2.302548885345459. Train Accuracy: 10.0, Test Accuracy: 10.0\n",
            "Epoch: 26 Loss: 2.3027265071868896. Train Accuracy: 10.0, Test Accuracy: 10.0\n",
            "Epoch: 27 Loss: 2.302542209625244. Train Accuracy: 10.0, Test Accuracy: 10.0\n",
            "Epoch: 28 Loss: 2.3026461601257324. Train Accuracy: 10.0, Test Accuracy: 10.0\n",
            "Epoch: 29 Loss: 2.302598714828491. Train Accuracy: 10.0, Test Accuracy: 10.0\n",
            "Epoch: 30 Loss: 2.302675724029541. Train Accuracy: 10.0, Test Accuracy: 10.0\n",
            "Epoch: 31 Loss: 2.3025801181793213. Train Accuracy: 10.0, Test Accuracy: 10.0\n",
            "Epoch: 32 Loss: 2.3026089668273926. Train Accuracy: 10.0, Test Accuracy: 10.0\n",
            "Epoch: 33 Loss: 2.302654266357422. Train Accuracy: 10.0, Test Accuracy: 10.0\n",
            "Epoch: 34 Loss: 2.3025965690612793. Train Accuracy: 10.0, Test Accuracy: 10.0\n",
            "Epoch: 35 Loss: 2.3025858402252197. Train Accuracy: 10.0, Test Accuracy: 10.0\n",
            "Epoch: 36 Loss: 2.3026514053344727. Train Accuracy: 10.0, Test Accuracy: 10.0\n",
            "Epoch: 37 Loss: 2.302633285522461. Train Accuracy: 9.552000045776367, Test Accuracy: 9.609999656677246\n",
            "Epoch: 38 Loss: 2.3026068210601807. Train Accuracy: 10.0, Test Accuracy: 10.0\n",
            "Epoch: 39 Loss: 2.3026649951934814. Train Accuracy: 10.0, Test Accuracy: 10.0\n",
            "Epoch: 40 Loss: 2.3026397228240967. Train Accuracy: 10.0, Test Accuracy: 10.0\n",
            "Epoch: 41 Loss: 2.302591323852539. Train Accuracy: 10.0, Test Accuracy: 10.0\n",
            "Epoch: 42 Loss: 2.302579164505005. Train Accuracy: 10.0, Test Accuracy: 10.0\n",
            "Epoch: 43 Loss: 2.3027102947235107. Train Accuracy: 10.0, Test Accuracy: 10.0\n",
            "Epoch: 44 Loss: 2.302582263946533. Train Accuracy: 10.0, Test Accuracy: 10.0\n",
            "Epoch: 45 Loss: 2.3025739192962646. Train Accuracy: 10.0, Test Accuracy: 10.0\n",
            "Epoch: 46 Loss: 2.3025784492492676. Train Accuracy: 10.121999740600586, Test Accuracy: 9.949999809265137\n",
            "Epoch: 47 Loss: 2.302675485610962. Train Accuracy: 10.0, Test Accuracy: 10.0\n",
            "Epoch: 48 Loss: 2.302611827850342. Train Accuracy: 10.0, Test Accuracy: 10.0\n",
            "Epoch: 49 Loss: 2.302644968032837. Train Accuracy: 10.0, Test Accuracy: 10.0\n",
            "Epoch: 50 Loss: 2.3025732040405273. Train Accuracy: 10.333999633789062, Test Accuracy: 10.380000114440918\n"
          ],
          "name": "stdout"
        },
        {
          "output_type": "display_data",
          "data": {
            "image/png": "[encoded data removed]",
            "text/plain": [
              "<Figure size 432x288 with 1 Axes>"
            ]
          },
          "metadata": {
            "tags": [],
            "needs_background": "light"
          }
        },
        {
          "output_type": "display_data",
          "data": {
            "image/png": "[encoded data removed]",
            "text/plain": [
              "<Figure size 432x288 with 1 Axes>"
            ]
          },
          "metadata": {
            "tags": [],
            "needs_background": "light"
          }
        },
        {
          "output_type": "display_data",
          "data": {
            "image/png": "[encoded data removed]",
            "text/plain": [
              "<Figure size 432x288 with 1 Axes>"
            ]
          },
          "metadata": {
            "tags": [],
            "needs_background": "light"
          }
        },
        {
          "output_type": "display_data",
          "data": {
            "image/png": "[encoded data removed]",
            "text/plain": [
              "<Figure size 432x288 with 1 Axes>"
            ]
          },
          "metadata": {
            "tags": [],
            "needs_background": "light"
          }
        }
      ]
    },
    {
      "cell_type": "markdown",
      "metadata": {
        "id": "kKWBQvET77aB"
      },
      "source": [
        "### Analysis\n",
        "\n",
        "From these experiments, we can see that _ is the optimal number of blocks when using a CNN without batch normalization. This was a little surprising to me, as I thought that increasing the depth of the model would directly correlate to better performance. However, we see that this isn't really the case."
      ]
    },
    {
      "cell_type": "markdown",
      "metadata": {
        "id": "68PZWicD77aB"
      },
      "source": [
        "## c) Plot 2 misclassified and 2 correctly classified samples for each class"
      ]
    },
    {
      "cell_type": "code",
      "metadata": {
        "id": "yKfknVr177aB"
      },
      "source": [
        ""
      ],
      "execution_count": 8,
      "outputs": []
    }
  ]
}