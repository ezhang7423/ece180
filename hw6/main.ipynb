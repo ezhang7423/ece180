{
  "nbformat": 4,
  "nbformat_minor": 0,
  "metadata": {
    "orig_nbformat": 2,
    "kernelspec": {
      "name": "python3",
      "display_name": "Python 3",
      "language": "python"
    },
    "metadata": {
      "interpreter": {
        "hash": "31f2aee4e71d21fbe5cf8b01ff0e069b9275f58929596ceb00d14d90e3e16cd6"
      }
    },
    "colab": {
      "name": "main.ipynb",
      "provenance": [],
      "collapsed_sections": []
    },
    "language_info": {
      "name": "python",
      "version": "3.8.6"
    },
    "accelerator": "GPU",
    "widgets": {
      "application/vnd.jupyter.widget-state+json": {
        "6721d6d4b4334f27a77ec64de6386ad6": {
          "model_module": "@jupyter-widgets/controls",
          "model_name": "HBoxModel",
          "state": {
            "_view_name": "HBoxView",
            "_dom_classes": [],
            "_model_name": "HBoxModel",
            "_view_module": "@jupyter-widgets/controls",
            "_model_module_version": "1.5.0",
            "_view_count": null,
            "_view_module_version": "1.5.0",
            "box_style": "",
            "layout": "IPY_MODEL_5caf5b538e90496983208c4726fb75b9",
            "_model_module": "@jupyter-widgets/controls",
            "children": [
              "IPY_MODEL_e4132fdf13924c4491f9862b7b2465bb",
              "IPY_MODEL_b15ff9f7a14f47a1a497b6028ce05ef4"
            ]
          }
        },
        "5caf5b538e90496983208c4726fb75b9": {
          "model_module": "@jupyter-widgets/base",
          "model_name": "LayoutModel",
          "state": {
            "_view_name": "LayoutView",
            "grid_template_rows": null,
            "right": null,
            "justify_content": null,
            "_view_module": "@jupyter-widgets/base",
            "overflow": null,
            "_model_module_version": "1.2.0",
            "_view_count": null,
            "flex_flow": null,
            "width": null,
            "min_width": null,
            "border": null,
            "align_items": null,
            "bottom": null,
            "_model_module": "@jupyter-widgets/base",
            "top": null,
            "grid_column": null,
            "overflow_y": null,
            "overflow_x": null,
            "grid_auto_flow": null,
            "grid_area": null,
            "grid_template_columns": null,
            "flex": null,
            "_model_name": "LayoutModel",
            "justify_items": null,
            "grid_row": null,
            "max_height": null,
            "align_content": null,
            "visibility": null,
            "align_self": null,
            "height": null,
            "min_height": null,
            "padding": null,
            "grid_auto_rows": null,
            "grid_gap": null,
            "max_width": null,
            "order": null,
            "_view_module_version": "1.2.0",
            "grid_template_areas": null,
            "object_position": null,
            "object_fit": null,
            "grid_auto_columns": null,
            "margin": null,
            "display": null,
            "left": null
          }
        },
        "e4132fdf13924c4491f9862b7b2465bb": {
          "model_module": "@jupyter-widgets/controls",
          "model_name": "FloatProgressModel",
          "state": {
            "_view_name": "ProgressView",
            "style": "IPY_MODEL_f1629da05ce04dbfba5cd68c4e338119",
            "_dom_classes": [],
            "description": "",
            "_model_name": "FloatProgressModel",
            "bar_style": "success",
            "max": 170498071,
            "_view_module": "@jupyter-widgets/controls",
            "_model_module_version": "1.5.0",
            "value": 170498071,
            "_view_count": null,
            "_view_module_version": "1.5.0",
            "orientation": "horizontal",
            "min": 0,
            "description_tooltip": null,
            "_model_module": "@jupyter-widgets/controls",
            "layout": "IPY_MODEL_7889c2f597b4460f96b1ec9fb57710d2"
          }
        },
        "b15ff9f7a14f47a1a497b6028ce05ef4": {
          "model_module": "@jupyter-widgets/controls",
          "model_name": "HTMLModel",
          "state": {
            "_view_name": "HTMLView",
            "style": "IPY_MODEL_1b7d214fa10949ec867b066d9a80d869",
            "_dom_classes": [],
            "description": "",
            "_model_name": "HTMLModel",
            "placeholder": "​",
            "_view_module": "@jupyter-widgets/controls",
            "_model_module_version": "1.5.0",
            "value": " 170499072/? [09:22&lt;00:00, 303170.68it/s]",
            "_view_count": null,
            "_view_module_version": "1.5.0",
            "description_tooltip": null,
            "_model_module": "@jupyter-widgets/controls",
            "layout": "IPY_MODEL_cad98cd2a23347eba209b270dab0b4a8"
          }
        },
        "f1629da05ce04dbfba5cd68c4e338119": {
          "model_module": "@jupyter-widgets/controls",
          "model_name": "ProgressStyleModel",
          "state": {
            "_view_name": "StyleView",
            "_model_name": "ProgressStyleModel",
            "description_width": "initial",
            "_view_module": "@jupyter-widgets/base",
            "_model_module_version": "1.5.0",
            "_view_count": null,
            "_view_module_version": "1.2.0",
            "bar_color": null,
            "_model_module": "@jupyter-widgets/controls"
          }
        },
        "7889c2f597b4460f96b1ec9fb57710d2": {
          "model_module": "@jupyter-widgets/base",
          "model_name": "LayoutModel",
          "state": {
            "_view_name": "LayoutView",
            "grid_template_rows": null,
            "right": null,
            "justify_content": null,
            "_view_module": "@jupyter-widgets/base",
            "overflow": null,
            "_model_module_version": "1.2.0",
            "_view_count": null,
            "flex_flow": null,
            "width": null,
            "min_width": null,
            "border": null,
            "align_items": null,
            "bottom": null,
            "_model_module": "@jupyter-widgets/base",
            "top": null,
            "grid_column": null,
            "overflow_y": null,
            "overflow_x": null,
            "grid_auto_flow": null,
            "grid_area": null,
            "grid_template_columns": null,
            "flex": null,
            "_model_name": "LayoutModel",
            "justify_items": null,
            "grid_row": null,
            "max_height": null,
            "align_content": null,
            "visibility": null,
            "align_self": null,
            "height": null,
            "min_height": null,
            "padding": null,
            "grid_auto_rows": null,
            "grid_gap": null,
            "max_width": null,
            "order": null,
            "_view_module_version": "1.2.0",
            "grid_template_areas": null,
            "object_position": null,
            "object_fit": null,
            "grid_auto_columns": null,
            "margin": null,
            "display": null,
            "left": null
          }
        },
        "1b7d214fa10949ec867b066d9a80d869": {
          "model_module": "@jupyter-widgets/controls",
          "model_name": "DescriptionStyleModel",
          "state": {
            "_view_name": "StyleView",
            "_model_name": "DescriptionStyleModel",
            "description_width": "",
            "_view_module": "@jupyter-widgets/base",
            "_model_module_version": "1.5.0",
            "_view_count": null,
            "_view_module_version": "1.2.0",
            "_model_module": "@jupyter-widgets/controls"
          }
        },
        "cad98cd2a23347eba209b270dab0b4a8": {
          "model_module": "@jupyter-widgets/base",
          "model_name": "LayoutModel",
          "state": {
            "_view_name": "LayoutView",
            "grid_template_rows": null,
            "right": null,
            "justify_content": null,
            "_view_module": "@jupyter-widgets/base",
            "overflow": null,
            "_model_module_version": "1.2.0",
            "_view_count": null,
            "flex_flow": null,
            "width": null,
            "min_width": null,
            "border": null,
            "align_items": null,
            "bottom": null,
            "_model_module": "@jupyter-widgets/base",
            "top": null,
            "grid_column": null,
            "overflow_y": null,
            "overflow_x": null,
            "grid_auto_flow": null,
            "grid_area": null,
            "grid_template_columns": null,
            "flex": null,
            "_model_name": "LayoutModel",
            "justify_items": null,
            "grid_row": null,
            "max_height": null,
            "align_content": null,
            "visibility": null,
            "align_self": null,
            "height": null,
            "min_height": null,
            "padding": null,
            "grid_auto_rows": null,
            "grid_gap": null,
            "max_width": null,
            "order": null,
            "_view_module_version": "1.2.0",
            "grid_template_areas": null,
            "object_position": null,
            "object_fit": null,
            "grid_auto_columns": null,
            "margin": null,
            "display": null,
            "left": null
          }
        }
      }
    }
  },
  "cells": [
    {
      "cell_type": "code",
      "metadata": {
        "id": "Go1vxz_oxqZ9"
      },
      "source": [
        "import torch\n",
        "import torchvision\n",
        "import torch.nn as nn\n",
        "import torchvision.transforms as transforms\n",
        "import numpy as np\n",
        "import pandas as pd\n",
        "import matplotlib.pyplot as plt\n",
        "torch.manual_seed(4)\n",
        "np.random.seed(4)"
      ],
      "execution_count": 2,
      "outputs": []
    },
    {
      "cell_type": "code",
      "metadata": {
        "id": "lxQYAYqhxqaD"
      },
      "source": [
        "BATCH_SIZE = 128\n",
        "NUM_ITERS = int(2e4)\n",
        "CRITERION = nn.CrossEntropyLoss()  \n"
      ],
      "execution_count": 3,
      "outputs": []
    },
    {
      "cell_type": "code",
      "metadata": {
        "colab": {
          "base_uri": "https://localhost:8080/",
          "height": 134,
          "referenced_widgets": [
            "6721d6d4b4334f27a77ec64de6386ad6",
            "5caf5b538e90496983208c4726fb75b9",
            "e4132fdf13924c4491f9862b7b2465bb",
            "b15ff9f7a14f47a1a497b6028ce05ef4",
            "f1629da05ce04dbfba5cd68c4e338119",
            "7889c2f597b4460f96b1ec9fb57710d2",
            "1b7d214fa10949ec867b066d9a80d869",
            "cad98cd2a23347eba209b270dab0b4a8"
          ]
        },
        "id": "oyArAn3SxqaD",
        "outputId": "7e3a8371-7cc5-488e-b410-0fee950634b6"
      },
      "source": [
        "\n",
        "transform = transforms.Compose(\n",
        "    [transforms.ToTensor(),\n",
        "     transforms.Normalize((0.5, 0.5, 0.5), (0.5, 0.5, 0.5))])\n",
        "\n",
        "\n",
        "trainset = torchvision.datasets.CIFAR10(root='./data', train=True,\n",
        "                                        download=True, transform=transform)\n",
        "\n",
        "\n",
        "testset = torchvision.datasets.CIFAR10(root='./data', train=False,\n",
        "                                       download=True,  transform=transform)\n",
        "\n",
        "\n",
        "train_loader = torch.utils.data.DataLoader(trainset, batch_size=BATCH_SIZE,\n",
        "                                        shuffle=True, num_workers=2)\n",
        "\n",
        "test_loader = torch.utils.data.DataLoader(testset, batch_size=BATCH_SIZE,\n",
        "                                        shuffle=False, num_workers=2)\n",
        "\n",
        "EPOCHS = int(NUM_ITERS / (len(trainset) / BATCH_SIZE))\n",
        "\n",
        "DEVICE = 'cuda' if torch.cuda.is_available() else 'cpu'\n",
        "print(DEVICE)"
      ],
      "execution_count": 4,
      "outputs": [
        {
          "output_type": "stream",
          "text": [
            "Downloading https://www.cs.toronto.edu/~kriz/cifar-10-python.tar.gz to ./data/cifar-10-python.tar.gz\n"
          ],
          "name": "stdout"
        },
        {
          "output_type": "display_data",
          "data": {
            "application/vnd.jupyter.widget-view+json": {
              "model_id": "6721d6d4b4334f27a77ec64de6386ad6",
              "version_minor": 0,
              "version_major": 2
            },
            "text/plain": [
              "HBox(children=(FloatProgress(value=0.0, max=170498071.0), HTML(value='')))"
            ]
          },
          "metadata": {
            "tags": []
          }
        },
        {
          "output_type": "stream",
          "text": [
            "\n",
            "Extracting ./data/cifar-10-python.tar.gz to ./data\n",
            "Files already downloaded and verified\n",
            "cuda\n"
          ],
          "name": "stdout"
        }
      ]
    },
    {
      "cell_type": "code",
      "metadata": {
        "id": "JKd7Cc0JxqaE"
      },
      "source": [
        "\n",
        "# Block\n",
        "\n",
        "class ConvBlock(nn.Module):\n",
        "\n",
        "    def __init__(self, stride=1, padding=1, batch_norm=False):\n",
        "        super().__init__()\n",
        "        self.batch_norm = batch_norm\n",
        "        \n",
        "        self.conv1 = nn.Conv2d(in_channels=8, out_channels=8, kernel_size=3, stride=stride, padding=padding)\n",
        "\n",
        "        if batch_norm:\n",
        "            self.bn1 = nn.BatchNorm2d(8)\n",
        "\n",
        "        self.relu1 = nn.ReLU()        \n",
        "\n",
        "        self.conv2 = nn.Conv2d(in_channels=8, out_channels=8, kernel_size=3, stride=stride, padding=padding)\n",
        "\n",
        "        if batch_norm:\n",
        "            self.bn2 = nn.BatchNorm2d(8)\n",
        "\n",
        "        self.relu2 = nn.ReLU()       \n",
        "\n",
        "         \n",
        "\n",
        "\n",
        "    def forward(self, x):\n",
        "\n",
        "        out = self.conv1(x)\n",
        "\n",
        "        if self.batch_norm:\n",
        "            out = self.bn1(out)\n",
        "\n",
        "        out = self.relu1(out)\n",
        "\n",
        "        out = self.conv2(x)\n",
        "\n",
        "        if self.batch_norm:\n",
        "            out = self.bn2(out)\n",
        "\n",
        "        out = self.relu2(out)\n",
        "\n",
        "        return out\n",
        "\n",
        "# Model\n",
        "class CNNModel(nn.Module):\n",
        "    def __init__(self, batch_norm=False, N=10):\n",
        "\n",
        "        super().__init__()\n",
        "\n",
        "        self.conv1 = nn.Conv2d(in_channels=3, out_channels=8, kernel_size=5, stride=1, padding=0)\n",
        "        # Size: 28 x 28\n",
        "\n",
        "        self.conv2 = nn.Conv2d(in_channels=8, out_channels=8, kernel_size=5, stride=1, padding=0)\n",
        "        # Size: 24 x 24\n",
        "\n",
        "        # Dynamic block num\n",
        "        # self.blocks = nn.Sequential(*[ConvBlock(batch_norm=batch_norm) for _ in range(N)])\n",
        "        # Size: 24 x 24\n",
        "\n",
        "        self.conv3 = nn.Conv2d(in_channels=8, out_channels=4, kernel_size=3, stride=2, padding=0)                    \n",
        "        # Size: 11 X 11\n",
        "\n",
        "        self.fc1 = nn.Linear(11 * 11 * 4, 100, bias=True) \n",
        "        self.relu1 = nn.ReLU()\n",
        "        self.fc2 = nn.Linear(100, 10) \n",
        "\n",
        "\n",
        "    def forward(self, x):\n",
        "\n",
        "        out = self.conv1(x)\n",
        "        out = self.conv2(out)\n",
        "        \n",
        "        # out = self.blocks(out)         # How is the shape the same after this???\n",
        "        out = self.conv3(out)\n",
        "        out = out.view(out.size(0), -1)\n",
        "        out = self.fc1(out)\n",
        "        out = self.relu1(out)\n",
        "        out = self.fc2(out)\n",
        "\n",
        "        return out"
      ],
      "execution_count": 5,
      "outputs": []
    },
    {
      "cell_type": "code",
      "metadata": {
        "id": "h4_F9ETdxqaF"
      },
      "source": [
        "\n",
        "def calc_accuracy(model, train=False): # add train param to calculate accuracy on both train and test\n",
        "    # Calculate Accuracy         \n",
        "    correct = 0\n",
        "    total = 0\n",
        "    \n",
        "    d_loader = train_loader if train else test_loader\n",
        "    # Iterate through test dataset\n",
        "    for images, labels in d_loader:\n",
        "        # Load images\n",
        "        images, labels = images.to(DEVICE), labels.to(DEVICE)        \n",
        "\n",
        "        # Forward pass only to get logits/output\n",
        "        outputs = model(images)\n",
        "\n",
        "        # Get predictions from the maximum value\n",
        "        _, predicted = torch.max(outputs.data, 1)\n",
        "\n",
        "        # Total number of labels\n",
        "        total += labels.size(0)\n",
        "\n",
        "        # Total correct predictions\n",
        "        correct += (predicted == labels).sum()\n",
        "\n",
        "    return 100 * correct / total\n",
        "\n",
        "def train(model): \n",
        "    print(f'Training for {EPOCHS} epochs')\n",
        "    optimizer = torch.optim.SGD(model.parameters(), lr=.01)  \n",
        "    accuracy = {'train': [], 'test': []}\n",
        "\n",
        "    for epoch in range(EPOCHS):    \n",
        "        for i, (images, labels) in enumerate(train_loader): \n",
        "            # This will load batch_size amount of samples\n",
        "            images, labels = images.to(DEVICE), labels.to(DEVICE)         \n",
        "            \n",
        "\n",
        "            # Clear gradients w.r.t. parameters\n",
        "            optimizer.zero_grad()\n",
        "\n",
        "            # Forward pass to get output/logits\n",
        "            outputs = model(images)\n",
        "\n",
        "            # Calculate Loss: softmax --> cross entropy loss\n",
        "            loss = CRITERION(outputs, labels)\n",
        "\n",
        "            # Getting gradients w.r.t. parameters\n",
        "            loss.backward()\n",
        "\n",
        "            # Updating parameters\n",
        "            optimizer.step()\n",
        "\n",
        "        train_accuracy = calc_accuracy(model, train=True) # abstract accuracy function away\n",
        "        test_accuracy = calc_accuracy(model) # abstract accuracy function away\n",
        "        # Print Loss\n",
        "        print('Epoch: {} Loss: {}. Train Accuracy: {}, Test Accuracy: {}'.format(epoch, loss.item(), train_accuracy, test_accuracy))\n",
        "\n",
        "        accuracy['train'].append(train_accuracy.item())\n",
        "        accuracy['test'].append(test_accuracy.item())\n",
        "        \n",
        "    return pd.DataFrame(accuracy)"
      ],
      "execution_count": 6,
      "outputs": []
    },
    {
      "cell_type": "markdown",
      "metadata": {
        "id": "5tDL5Ega77Z_"
      },
      "source": [
        "## a) Plot Train and Test accuracy"
      ]
    },
    {
      "cell_type": "code",
      "metadata": {
        "colab": {
          "base_uri": "https://localhost:8080/",
          "height": 1000
        },
        "id": "H41-2RjcxqaF",
        "outputId": "2bc7552b-31fe-4bb1-9231-fadcfb164ceb"
      },
      "source": [
        "\n",
        "no_batch_norm = CNNModel().to(DEVICE)\n",
        "nbn_history = train(no_batch_norm)\n",
        "nbn_history.plot(y=['train', 'test'], use_index=True, xlabel='Epoch no.', ylabel='Accuracy (%)')    "
      ],
      "execution_count": 7,
      "outputs": [
        {
          "output_type": "stream",
          "text": [
            "Training for 51 epochs\n",
            "Epoch: 0 Loss: 2.019934892654419. Train Accuracy: 28.833999633789062, Test Accuracy: 28.69999885559082\n",
            "Epoch: 1 Loss: 1.8260810375213623. Train Accuracy: 33.2599983215332, Test Accuracy: 33.689998626708984\n",
            "Epoch: 2 Loss: 1.9509941339492798. Train Accuracy: 39.28999710083008, Test Accuracy: 39.15999984741211\n",
            "Epoch: 3 Loss: 1.686316728591919. Train Accuracy: 42.65599822998047, Test Accuracy: 42.18000030517578\n",
            "Epoch: 4 Loss: 1.4639712572097778. Train Accuracy: 43.753997802734375, Test Accuracy: 42.939998626708984\n",
            "Epoch: 5 Loss: 1.8029649257659912. Train Accuracy: 46.06399917602539, Test Accuracy: 44.34000015258789\n",
            "Epoch: 6 Loss: 1.5325977802276611. Train Accuracy: 47.90599822998047, Test Accuracy: 46.46999740600586\n",
            "Epoch: 7 Loss: 1.7043771743774414. Train Accuracy: 49.08799743652344, Test Accuracy: 47.209999084472656\n",
            "Epoch: 8 Loss: 1.291228175163269. Train Accuracy: 50.39999771118164, Test Accuracy: 48.61000061035156\n",
            "Epoch: 9 Loss: 1.3053247928619385. Train Accuracy: 49.38199996948242, Test Accuracy: 47.03999710083008\n",
            "Epoch: 10 Loss: 1.4476605653762817. Train Accuracy: 51.40399932861328, Test Accuracy: 48.869998931884766\n",
            "Epoch: 11 Loss: 1.3691275119781494. Train Accuracy: 51.3599967956543, Test Accuracy: 48.41999816894531\n",
            "Epoch: 12 Loss: 1.1632713079452515. Train Accuracy: 51.145999908447266, Test Accuracy: 48.46999740600586\n",
            "Epoch: 13 Loss: 1.5674762725830078. Train Accuracy: 52.81999969482422, Test Accuracy: 49.94999694824219\n",
            "Epoch: 14 Loss: 1.3195240497589111. Train Accuracy: 52.77799987792969, Test Accuracy: 50.05999755859375\n",
            "Epoch: 15 Loss: 1.430698037147522. Train Accuracy: 52.65399932861328, Test Accuracy: 49.77000045776367\n",
            "Epoch: 16 Loss: 1.5363070964813232. Train Accuracy: 53.35199737548828, Test Accuracy: 49.66999816894531\n",
            "Epoch: 17 Loss: 1.4456045627593994. Train Accuracy: 53.763999938964844, Test Accuracy: 49.849998474121094\n",
            "Epoch: 18 Loss: 1.2761791944503784. Train Accuracy: 54.667999267578125, Test Accuracy: 50.68000030517578\n",
            "Epoch: 19 Loss: 1.3592475652694702. Train Accuracy: 54.194000244140625, Test Accuracy: 50.64999771118164\n",
            "Epoch: 20 Loss: 1.2048782110214233. Train Accuracy: 55.029998779296875, Test Accuracy: 50.849998474121094\n",
            "Epoch: 21 Loss: 1.08791184425354. Train Accuracy: 54.694000244140625, Test Accuracy: 50.39999771118164\n",
            "Epoch: 22 Loss: 1.2356969118118286. Train Accuracy: 55.76199722290039, Test Accuracy: 52.07999801635742\n",
            "Epoch: 23 Loss: 1.2506288290023804. Train Accuracy: 55.5, Test Accuracy: 51.099998474121094\n",
            "Epoch: 24 Loss: 1.3185230493545532. Train Accuracy: 55.27399826049805, Test Accuracy: 50.75\n",
            "Epoch: 25 Loss: 1.275214433670044. Train Accuracy: 56.354000091552734, Test Accuracy: 51.5\n",
            "Epoch: 26 Loss: 1.4542365074157715. Train Accuracy: 54.555999755859375, Test Accuracy: 50.39999771118164\n",
            "Epoch: 27 Loss: 1.4323468208312988. Train Accuracy: 55.13800048828125, Test Accuracy: 50.869998931884766\n",
            "Epoch: 28 Loss: 0.9926605224609375. Train Accuracy: 56.14799880981445, Test Accuracy: 50.65999984741211\n",
            "Epoch: 29 Loss: 1.3359805345535278. Train Accuracy: 56.76799774169922, Test Accuracy: 51.5099983215332\n",
            "Epoch: 30 Loss: 1.441819429397583. Train Accuracy: 56.9119987487793, Test Accuracy: 52.02000045776367\n",
            "Epoch: 31 Loss: 1.141352891921997. Train Accuracy: 57.25, Test Accuracy: 52.30999755859375\n",
            "Epoch: 32 Loss: 1.0663021802902222. Train Accuracy: 57.43199920654297, Test Accuracy: 51.689998626708984\n",
            "Epoch: 33 Loss: 1.3054916858673096. Train Accuracy: 57.694000244140625, Test Accuracy: 52.349998474121094\n",
            "Epoch: 34 Loss: 1.2125236988067627. Train Accuracy: 57.657997131347656, Test Accuracy: 52.18000030517578\n",
            "Epoch: 35 Loss: 1.2348923683166504. Train Accuracy: 57.83199691772461, Test Accuracy: 51.90999984741211\n",
            "Epoch: 36 Loss: 1.0360630750656128. Train Accuracy: 57.571998596191406, Test Accuracy: 52.02000045776367\n",
            "Epoch: 37 Loss: 1.185943603515625. Train Accuracy: 58.12799835205078, Test Accuracy: 52.849998474121094\n",
            "Epoch: 38 Loss: 1.2469044923782349. Train Accuracy: 58.7599983215332, Test Accuracy: 52.619998931884766\n",
            "Epoch: 39 Loss: 1.098752498626709. Train Accuracy: 58.76599884033203, Test Accuracy: 52.3599967956543\n",
            "Epoch: 40 Loss: 1.3944709300994873. Train Accuracy: 58.189998626708984, Test Accuracy: 52.28999710083008\n",
            "Epoch: 41 Loss: 1.18580162525177. Train Accuracy: 58.99799728393555, Test Accuracy: 52.349998474121094\n",
            "Epoch: 42 Loss: 1.1622388362884521. Train Accuracy: 58.534000396728516, Test Accuracy: 52.23999786376953\n",
            "Epoch: 43 Loss: 1.05805242061615. Train Accuracy: 59.57600021362305, Test Accuracy: 52.57999801635742\n",
            "Epoch: 44 Loss: 1.5141750574111938. Train Accuracy: 59.323997497558594, Test Accuracy: 52.959999084472656\n",
            "Epoch: 45 Loss: 1.1578195095062256. Train Accuracy: 59.68000030517578, Test Accuracy: 53.23999786376953\n",
            "Epoch: 46 Loss: 1.2769052982330322. Train Accuracy: 59.21999740600586, Test Accuracy: 52.09000015258789\n",
            "Epoch: 47 Loss: 1.0414260625839233. Train Accuracy: 60.09199905395508, Test Accuracy: 53.02000045776367\n",
            "Epoch: 48 Loss: 1.2741950750350952. Train Accuracy: 59.05999755859375, Test Accuracy: 52.04999923706055\n",
            "Epoch: 49 Loss: 1.2187198400497437. Train Accuracy: 59.49399948120117, Test Accuracy: 52.7599983215332\n",
            "Epoch: 50 Loss: 1.1432268619537354. Train Accuracy: 59.685997009277344, Test Accuracy: 52.97999954223633\n"
          ],
          "name": "stdout"
        },
        {
          "output_type": "execute_result",
          "data": {
            "text/plain": [
              "<matplotlib.axes._subplots.AxesSubplot at 0x7f920259ac50>"
            ]
          },
          "metadata": {
            "tags": []
          },
          "execution_count": 7
        },
        {
          "output_type": "display_data",
          "data": {
            "image/png": "[encoded data removed]",
            "text/plain": [
              "<Figure size 432x288 with 1 Axes>"
            ]
          },
          "metadata": {
            "tags": [],
            "needs_background": "light"
          }
        }
      ]
    },
    {
      "cell_type": "code",
      "metadata": {
        "id": "CXtUVBUFy1ga",
        "colab": {
          "base_uri": "https://localhost:8080/",
          "height": 1000
        },
        "outputId": "cdf56d54-4479-4507-a493-ec926c75bf3d"
      },
      "source": [
        "batch_norm = CNNModel(batch_norm=True).to(DEVICE)\n",
        "bn_history = train(batch_norm)\n",
        "bn_history.plot(y=['train', 'test'], use_index=True, xlabel='Epoch no.', ylabel='Accuracy (%)')    "
      ],
      "execution_count": 8,
      "outputs": [
        {
          "output_type": "stream",
          "text": [
            "Training for 51 epochs\n",
            "Epoch: 0 Loss: 1.9546476602554321. Train Accuracy: 28.347999572753906, Test Accuracy: 28.94999885559082\n",
            "Epoch: 1 Loss: 1.9081859588623047. Train Accuracy: 33.11000061035156, Test Accuracy: 33.099998474121094\n",
            "Epoch: 2 Loss: 1.6827449798583984. Train Accuracy: 36.694000244140625, Test Accuracy: 36.64999771118164\n",
            "Epoch: 3 Loss: 1.5484501123428345. Train Accuracy: 41.907997131347656, Test Accuracy: 41.709999084472656\n",
            "Epoch: 4 Loss: 1.5767314434051514. Train Accuracy: 44.323997497558594, Test Accuracy: 43.30999755859375\n",
            "Epoch: 5 Loss: 1.4895048141479492. Train Accuracy: 46.18199920654297, Test Accuracy: 45.209999084472656\n",
            "Epoch: 6 Loss: 1.4594752788543701. Train Accuracy: 47.02000045776367, Test Accuracy: 45.53999710083008\n",
            "Epoch: 7 Loss: 1.527565360069275. Train Accuracy: 48.652000427246094, Test Accuracy: 46.89999771118164\n",
            "Epoch: 8 Loss: 1.2248858213424683. Train Accuracy: 49.104000091552734, Test Accuracy: 47.94999694824219\n",
            "Epoch: 9 Loss: 1.402923345565796. Train Accuracy: 50.15399932861328, Test Accuracy: 48.37999725341797\n",
            "Epoch: 10 Loss: 1.5204218626022339. Train Accuracy: 50.89799880981445, Test Accuracy: 48.94999694824219\n",
            "Epoch: 11 Loss: 1.2975518703460693. Train Accuracy: 51.38399887084961, Test Accuracy: 49.529998779296875\n",
            "Epoch: 12 Loss: 1.3883651494979858. Train Accuracy: 51.76599884033203, Test Accuracy: 49.63999938964844\n",
            "Epoch: 13 Loss: 1.6005398035049438. Train Accuracy: 51.49399948120117, Test Accuracy: 49.38999938964844\n",
            "Epoch: 14 Loss: 1.3479747772216797. Train Accuracy: 52.54199981689453, Test Accuracy: 50.23999786376953\n",
            "Epoch: 15 Loss: 1.5124661922454834. Train Accuracy: 52.54199981689453, Test Accuracy: 50.09000015258789\n",
            "Epoch: 16 Loss: 1.301317572593689. Train Accuracy: 52.52199935913086, Test Accuracy: 50.65999984741211\n",
            "Epoch: 17 Loss: 1.406266450881958. Train Accuracy: 52.981998443603516, Test Accuracy: 50.09000015258789\n",
            "Epoch: 18 Loss: 1.3625956773757935. Train Accuracy: 53.55799865722656, Test Accuracy: 50.84000015258789\n",
            "Epoch: 19 Loss: 1.4057835340499878. Train Accuracy: 52.7599983215332, Test Accuracy: 49.77000045776367\n",
            "Epoch: 20 Loss: 1.5159355401992798. Train Accuracy: 54.555999755859375, Test Accuracy: 51.25\n",
            "Epoch: 21 Loss: 1.4318602085113525. Train Accuracy: 55.01599884033203, Test Accuracy: 51.709999084472656\n",
            "Epoch: 22 Loss: 1.2587196826934814. Train Accuracy: 54.27000045776367, Test Accuracy: 50.71999740600586\n",
            "Epoch: 23 Loss: 1.3211967945098877. Train Accuracy: 54.167999267578125, Test Accuracy: 50.55999755859375\n",
            "Epoch: 24 Loss: 1.3493598699569702. Train Accuracy: 55.86399841308594, Test Accuracy: 52.119998931884766\n",
            "Epoch: 25 Loss: 1.1247414350509644. Train Accuracy: 56.045997619628906, Test Accuracy: 52.15999984741211\n",
            "Epoch: 26 Loss: 1.1205679178237915. Train Accuracy: 55.87999725341797, Test Accuracy: 52.23999786376953\n",
            "Epoch: 27 Loss: 1.3077446222305298. Train Accuracy: 56.125999450683594, Test Accuracy: 51.599998474121094\n",
            "Epoch: 28 Loss: 1.469292163848877. Train Accuracy: 56.317996978759766, Test Accuracy: 51.81999969482422\n",
            "Epoch: 29 Loss: 0.9629911184310913. Train Accuracy: 56.85799789428711, Test Accuracy: 52.68000030517578\n",
            "Epoch: 30 Loss: 1.2335675954818726. Train Accuracy: 57.47599792480469, Test Accuracy: 52.54999923706055\n",
            "Epoch: 31 Loss: 1.2957921028137207. Train Accuracy: 57.10199737548828, Test Accuracy: 52.5099983215332\n",
            "Epoch: 32 Loss: 1.1678845882415771. Train Accuracy: 57.465999603271484, Test Accuracy: 52.47999954223633\n",
            "Epoch: 33 Loss: 1.0310437679290771. Train Accuracy: 57.641998291015625, Test Accuracy: 52.439998626708984\n",
            "Epoch: 34 Loss: 1.3859078884124756. Train Accuracy: 57.88399887084961, Test Accuracy: 52.939998626708984\n",
            "Epoch: 35 Loss: 1.2203452587127686. Train Accuracy: 57.435997009277344, Test Accuracy: 52.2599983215332\n",
            "Epoch: 36 Loss: 1.300667643547058. Train Accuracy: 58.21799850463867, Test Accuracy: 53.119998931884766\n",
            "Epoch: 37 Loss: 1.182815432548523. Train Accuracy: 58.003997802734375, Test Accuracy: 52.689998626708984\n",
            "Epoch: 38 Loss: 1.0994336605072021. Train Accuracy: 58.29999923706055, Test Accuracy: 52.87999725341797\n",
            "Epoch: 39 Loss: 1.1727079153060913. Train Accuracy: 58.65599822998047, Test Accuracy: 53.07999801635742\n",
            "Epoch: 40 Loss: 1.2716120481491089. Train Accuracy: 57.981998443603516, Test Accuracy: 52.64999771118164\n",
            "Epoch: 41 Loss: 1.192503571510315. Train Accuracy: 58.944000244140625, Test Accuracy: 52.869998931884766\n",
            "Epoch: 42 Loss: 1.2729731798171997. Train Accuracy: 58.757999420166016, Test Accuracy: 52.28999710083008\n",
            "Epoch: 43 Loss: 1.0319087505340576. Train Accuracy: 58.81399917602539, Test Accuracy: 52.78999710083008\n",
            "Epoch: 44 Loss: 1.104264497756958. Train Accuracy: 59.09199905395508, Test Accuracy: 52.87999725341797\n",
            "Epoch: 45 Loss: 1.4405434131622314. Train Accuracy: 59.28799819946289, Test Accuracy: 52.75\n",
            "Epoch: 46 Loss: 0.988928496837616. Train Accuracy: 59.257999420166016, Test Accuracy: 52.709999084472656\n",
            "Epoch: 47 Loss: 1.1505507230758667. Train Accuracy: 59.51199722290039, Test Accuracy: 52.88999938964844\n",
            "Epoch: 48 Loss: 1.0172423124313354. Train Accuracy: 59.70199966430664, Test Accuracy: 53.23999786376953\n",
            "Epoch: 49 Loss: 1.0535134077072144. Train Accuracy: 60.20399856567383, Test Accuracy: 53.16999816894531\n",
            "Epoch: 50 Loss: 1.2335249185562134. Train Accuracy: 59.52799987792969, Test Accuracy: 53.30999755859375\n"
          ],
          "name": "stdout"
        },
        {
          "output_type": "execute_result",
          "data": {
            "text/plain": [
              "<matplotlib.axes._subplots.AxesSubplot at 0x7f91fa266290>"
            ]
          },
          "metadata": {
            "tags": []
          },
          "execution_count": 8
        },
        {
          "output_type": "display_data",
          "data": {
            "image/png": "[encoded data removed]",
            "text/plain": [
              "<Figure size 432x288 with 1 Axes>"
            ]
          },
          "metadata": {
            "tags": [],
            "needs_background": "light"
          }
        }
      ]
    },
    {
      "cell_type": "markdown",
      "metadata": {
        "id": "M8YJLQAD77aA"
      },
      "source": [
        "## b) Optimal value of N w/o batch normalization"
      ]
    },
    {
      "cell_type": "code",
      "metadata": {
        "colab": {
          "base_uri": "https://localhost:8080/",
          "height": 1000
        },
        "id": "hZ7tXBl577aB",
        "outputId": "153ba61e-5bc8-42da-80ed-02a1c6f139bc"
      },
      "source": [
        "nbn_models = []\n",
        "nbn_histories = []\n",
        "for test_n in range(2, 10):\n",
        "    if test_n % 2 == 0: # if it's even\n",
        "        model = CNNModel(N=test_n).to(DEVICE)\n",
        "        nbn_models.append(model)\n",
        "        history = train(model)\n",
        "        nbn_histories.append(history)\n",
        "        history.plot(y=['train', 'test'], use_index=True, xlabel='Epoch no.', ylabel='Accuracy (%)')    \n",
        "        plt.title(f'Accuracy plot with {test_n} blocks')\n",
        "    \n"
      ],
      "execution_count": 9,
      "outputs": [
        {
          "output_type": "stream",
          "text": [
            "Training for 51 epochs\n",
            "Epoch: 0 Loss: 2.022226572036743. Train Accuracy: 29.685998916625977, Test Accuracy: 30.229999542236328\n",
            "Epoch: 1 Loss: 1.8274691104888916. Train Accuracy: 33.55400085449219, Test Accuracy: 33.939998626708984\n",
            "Epoch: 2 Loss: 1.9232969284057617. Train Accuracy: 38.152000427246094, Test Accuracy: 38.21999740600586\n",
            "Epoch: 3 Loss: 1.7162954807281494. Train Accuracy: 42.354000091552734, Test Accuracy: 42.189998626708984\n",
            "Epoch: 4 Loss: 1.3811721801757812. Train Accuracy: 43.157997131347656, Test Accuracy: 42.53999710083008\n",
            "Epoch: 5 Loss: 1.7078440189361572. Train Accuracy: 44.05799865722656, Test Accuracy: 43.78999710083008\n",
            "Epoch: 6 Loss: 1.7117490768432617. Train Accuracy: 45.9739990234375, Test Accuracy: 44.62999725341797\n",
            "Epoch: 7 Loss: 1.4642541408538818. Train Accuracy: 48.003997802734375, Test Accuracy: 46.34000015258789\n",
            "Epoch: 8 Loss: 1.725035309791565. Train Accuracy: 47.9839973449707, Test Accuracy: 46.44999694824219\n",
            "Epoch: 9 Loss: 1.5221139192581177. Train Accuracy: 48.84000015258789, Test Accuracy: 46.80999755859375\n",
            "Epoch: 10 Loss: 1.2310593128204346. Train Accuracy: 49.92599868774414, Test Accuracy: 47.75\n",
            "Epoch: 11 Loss: 1.420207142829895. Train Accuracy: 50.72599792480469, Test Accuracy: 48.36000061035156\n",
            "Epoch: 12 Loss: 1.2748364210128784. Train Accuracy: 50.959999084472656, Test Accuracy: 47.81999969482422\n",
            "Epoch: 13 Loss: 1.5251705646514893. Train Accuracy: 50.55799865722656, Test Accuracy: 48.47999954223633\n",
            "Epoch: 14 Loss: 1.506617546081543. Train Accuracy: 51.705997467041016, Test Accuracy: 48.869998931884766\n",
            "Epoch: 15 Loss: 1.3472806215286255. Train Accuracy: 53.38399887084961, Test Accuracy: 50.5\n",
            "Epoch: 16 Loss: 1.3285048007965088. Train Accuracy: 53.40599822998047, Test Accuracy: 50.2599983215332\n",
            "Epoch: 17 Loss: 1.0524351596832275. Train Accuracy: 52.99799728393555, Test Accuracy: 49.90999984741211\n",
            "Epoch: 18 Loss: 1.125826358795166. Train Accuracy: 54.183998107910156, Test Accuracy: 50.849998474121094\n",
            "Epoch: 19 Loss: 1.3037419319152832. Train Accuracy: 54.097999572753906, Test Accuracy: 50.72999954223633\n",
            "Epoch: 20 Loss: 1.462086796760559. Train Accuracy: 55.14999771118164, Test Accuracy: 51.69999694824219\n",
            "Epoch: 21 Loss: 1.2279059886932373. Train Accuracy: 53.81599807739258, Test Accuracy: 50.099998474121094\n",
            "Epoch: 22 Loss: 1.3545643091201782. Train Accuracy: 55.185997009277344, Test Accuracy: 51.14999771118164\n",
            "Epoch: 23 Loss: 1.501624584197998. Train Accuracy: 54.3120002746582, Test Accuracy: 50.54999923706055\n",
            "Epoch: 24 Loss: 1.3063877820968628. Train Accuracy: 55.03199768066406, Test Accuracy: 50.709999084472656\n",
            "Epoch: 25 Loss: 1.2527472972869873. Train Accuracy: 56.13399887084961, Test Accuracy: 51.6099967956543\n",
            "Epoch: 26 Loss: 1.4097267389297485. Train Accuracy: 55.902000427246094, Test Accuracy: 51.189998626708984\n",
            "Epoch: 27 Loss: 1.1640825271606445. Train Accuracy: 56.827999114990234, Test Accuracy: 52.59000015258789\n",
            "Epoch: 28 Loss: 1.2660539150238037. Train Accuracy: 56.5, Test Accuracy: 51.82999801635742\n",
            "Epoch: 29 Loss: 1.4048309326171875. Train Accuracy: 56.279998779296875, Test Accuracy: 51.68000030517578\n",
            "Epoch: 30 Loss: 1.4936879873275757. Train Accuracy: 56.52199935913086, Test Accuracy: 51.75\n",
            "Epoch: 31 Loss: 1.278645634651184. Train Accuracy: 56.95800018310547, Test Accuracy: 52.27000045776367\n",
            "Epoch: 32 Loss: 1.3999857902526855. Train Accuracy: 57.02399826049805, Test Accuracy: 51.69999694824219\n",
            "Epoch: 33 Loss: 1.374060869216919. Train Accuracy: 57.555999755859375, Test Accuracy: 52.53999710083008\n",
            "Epoch: 34 Loss: 1.1495915651321411. Train Accuracy: 57.317996978759766, Test Accuracy: 52.369998931884766\n",
            "Epoch: 35 Loss: 1.1982266902923584. Train Accuracy: 57.87199783325195, Test Accuracy: 52.459999084472656\n",
            "Epoch: 36 Loss: 1.174465537071228. Train Accuracy: 58.11399841308594, Test Accuracy: 52.68000030517578\n",
            "Epoch: 37 Loss: 1.2344342470169067. Train Accuracy: 57.69599914550781, Test Accuracy: 51.88999938964844\n",
            "Epoch: 38 Loss: 1.238396167755127. Train Accuracy: 57.22599792480469, Test Accuracy: 51.68000030517578\n",
            "Epoch: 39 Loss: 1.5148001909255981. Train Accuracy: 58.25599670410156, Test Accuracy: 52.0\n",
            "Epoch: 40 Loss: 1.0780647993087769. Train Accuracy: 58.38399887084961, Test Accuracy: 52.22999954223633\n",
            "Epoch: 41 Loss: 1.2633674144744873. Train Accuracy: 58.439998626708984, Test Accuracy: 51.8599967956543\n",
            "Epoch: 42 Loss: 1.1695194244384766. Train Accuracy: 58.17799758911133, Test Accuracy: 51.84000015258789\n",
            "Epoch: 43 Loss: 1.032555103302002. Train Accuracy: 59.205997467041016, Test Accuracy: 52.91999816894531\n",
            "Epoch: 44 Loss: 1.373831868171692. Train Accuracy: 58.97999954223633, Test Accuracy: 52.16999816894531\n",
            "Epoch: 45 Loss: 1.03579843044281. Train Accuracy: 59.47999954223633, Test Accuracy: 52.65999984741211\n",
            "Epoch: 46 Loss: 1.2262414693832397. Train Accuracy: 58.85799789428711, Test Accuracy: 52.77000045776367\n",
            "Epoch: 47 Loss: 1.3725942373275757. Train Accuracy: 59.209999084472656, Test Accuracy: 52.12999725341797\n",
            "Epoch: 48 Loss: 1.3350690603256226. Train Accuracy: 59.817996978759766, Test Accuracy: 52.80999755859375\n",
            "Epoch: 49 Loss: 1.2216626405715942. Train Accuracy: 59.619998931884766, Test Accuracy: 51.98999786376953\n",
            "Epoch: 50 Loss: 1.0965688228607178. Train Accuracy: 59.8859977722168, Test Accuracy: 52.47999954223633\n",
            "Training for 51 epochs\n",
            "Epoch: 0 Loss: 1.9255282878875732. Train Accuracy: 30.363998413085938, Test Accuracy: 31.06999969482422\n",
            "Epoch: 1 Loss: 1.8304249048233032. Train Accuracy: 37.33799743652344, Test Accuracy: 37.59000015258789\n",
            "Epoch: 2 Loss: 1.4792134761810303. Train Accuracy: 41.17799758911133, Test Accuracy: 41.459999084472656\n",
            "Epoch: 3 Loss: 1.4703304767608643. Train Accuracy: 43.20800018310547, Test Accuracy: 42.84000015258789\n",
            "Epoch: 4 Loss: 1.4394006729125977. Train Accuracy: 45.332000732421875, Test Accuracy: 44.31999969482422\n",
            "Epoch: 5 Loss: 1.5988550186157227. Train Accuracy: 46.6719970703125, Test Accuracy: 45.32999801635742\n",
            "Epoch: 6 Loss: 1.5220896005630493. Train Accuracy: 47.74399948120117, Test Accuracy: 46.09000015258789\n",
            "Epoch: 7 Loss: 1.3401601314544678. Train Accuracy: 48.51799774169922, Test Accuracy: 47.40999984741211\n",
            "Epoch: 8 Loss: 1.5828492641448975. Train Accuracy: 49.215999603271484, Test Accuracy: 47.55999755859375\n",
            "Epoch: 9 Loss: 1.5819710493087769. Train Accuracy: 50.17399978637695, Test Accuracy: 48.21999740600586\n",
            "Epoch: 10 Loss: 1.4494231939315796. Train Accuracy: 50.194000244140625, Test Accuracy: 48.13999938964844\n",
            "Epoch: 11 Loss: 1.4553635120391846. Train Accuracy: 52.17399978637695, Test Accuracy: 50.119998931884766\n",
            "Epoch: 12 Loss: 1.3671019077301025. Train Accuracy: 51.33199691772461, Test Accuracy: 48.98999786376953\n",
            "Epoch: 13 Loss: 1.357512354850769. Train Accuracy: 52.683998107910156, Test Accuracy: 50.119998931884766\n",
            "Epoch: 14 Loss: 1.5064321756362915. Train Accuracy: 53.14799880981445, Test Accuracy: 50.279998779296875\n",
            "Epoch: 15 Loss: 1.2940689325332642. Train Accuracy: 53.61199951171875, Test Accuracy: 50.75\n",
            "Epoch: 16 Loss: 1.5022039413452148. Train Accuracy: 52.37199783325195, Test Accuracy: 49.11000061035156\n",
            "Epoch: 17 Loss: 1.4408096075057983. Train Accuracy: 54.52399826049805, Test Accuracy: 51.11000061035156\n",
            "Epoch: 18 Loss: 1.3109804391860962. Train Accuracy: 54.67399978637695, Test Accuracy: 51.279998779296875\n",
            "Epoch: 19 Loss: 1.217185139656067. Train Accuracy: 54.53799819946289, Test Accuracy: 51.23999786376953\n",
            "Epoch: 20 Loss: 1.3859422206878662. Train Accuracy: 55.211997985839844, Test Accuracy: 51.78999710083008\n",
            "Epoch: 21 Loss: 1.3245108127593994. Train Accuracy: 55.88800048828125, Test Accuracy: 51.54999923706055\n",
            "Epoch: 22 Loss: 1.1239089965820312. Train Accuracy: 55.63199996948242, Test Accuracy: 52.05999755859375\n",
            "Epoch: 23 Loss: 1.3532993793487549. Train Accuracy: 55.67799758911133, Test Accuracy: 51.59000015258789\n",
            "Epoch: 24 Loss: 1.3347570896148682. Train Accuracy: 56.30999755859375, Test Accuracy: 51.8599967956543\n",
            "Epoch: 25 Loss: 1.2312289476394653. Train Accuracy: 55.85199737548828, Test Accuracy: 52.18000030517578\n",
            "Epoch: 26 Loss: 1.2620620727539062. Train Accuracy: 55.46999740600586, Test Accuracy: 51.689998626708984\n",
            "Epoch: 27 Loss: 1.1173930168151855. Train Accuracy: 56.21399688720703, Test Accuracy: 52.39999771118164\n",
            "Epoch: 28 Loss: 1.1608285903930664. Train Accuracy: 56.987998962402344, Test Accuracy: 52.099998474121094\n",
            "Epoch: 29 Loss: 1.0655343532562256. Train Accuracy: 57.003997802734375, Test Accuracy: 51.97999954223633\n",
            "Epoch: 30 Loss: 1.1784179210662842. Train Accuracy: 56.513999938964844, Test Accuracy: 52.27000045776367\n",
            "Epoch: 31 Loss: 1.4631996154785156. Train Accuracy: 57.55999755859375, Test Accuracy: 53.1099967956543\n",
            "Epoch: 32 Loss: 1.1209043264389038. Train Accuracy: 57.74799728393555, Test Accuracy: 53.34000015258789\n",
            "Epoch: 33 Loss: 1.2260053157806396. Train Accuracy: 58.24599838256836, Test Accuracy: 53.21999740600586\n",
            "Epoch: 34 Loss: 1.3769266605377197. Train Accuracy: 55.683998107910156, Test Accuracy: 50.55999755859375\n",
            "Epoch: 35 Loss: 1.0722113847732544. Train Accuracy: 58.46799850463867, Test Accuracy: 53.189998626708984\n",
            "Epoch: 36 Loss: 1.127992868423462. Train Accuracy: 58.13999938964844, Test Accuracy: 52.709999084472656\n",
            "Epoch: 37 Loss: 0.9626476168632507. Train Accuracy: 58.10199737548828, Test Accuracy: 52.46999740600586\n",
            "Epoch: 38 Loss: 0.9767987132072449. Train Accuracy: 59.24799728393555, Test Accuracy: 53.23999786376953\n",
            "Epoch: 39 Loss: 1.2160346508026123. Train Accuracy: 58.99599838256836, Test Accuracy: 53.34000015258789\n",
            "Epoch: 40 Loss: 1.1156492233276367. Train Accuracy: 58.779998779296875, Test Accuracy: 52.6099967956543\n",
            "Epoch: 41 Loss: 1.1322481632232666. Train Accuracy: 59.99199676513672, Test Accuracy: 53.619998931884766\n",
            "Epoch: 42 Loss: 1.1848371028900146. Train Accuracy: 59.41600036621094, Test Accuracy: 53.16999816894531\n",
            "Epoch: 43 Loss: 1.0713516473770142. Train Accuracy: 60.02399826049805, Test Accuracy: 53.75\n",
            "Epoch: 44 Loss: 1.0336123704910278. Train Accuracy: 59.01799774169922, Test Accuracy: 52.22999954223633\n",
            "Epoch: 45 Loss: 1.0504567623138428. Train Accuracy: 60.13999938964844, Test Accuracy: 53.39999771118164\n",
            "Epoch: 46 Loss: 1.1550161838531494. Train Accuracy: 59.47999954223633, Test Accuracy: 52.80999755859375\n",
            "Epoch: 47 Loss: 1.1565663814544678. Train Accuracy: 59.891998291015625, Test Accuracy: 52.96999740600586\n",
            "Epoch: 48 Loss: 1.1461513042449951. Train Accuracy: 59.93199920654297, Test Accuracy: 52.65999984741211\n",
            "Epoch: 49 Loss: 1.1908663511276245. Train Accuracy: 60.80399703979492, Test Accuracy: 53.599998474121094\n",
            "Epoch: 50 Loss: 0.9816235303878784. Train Accuracy: 60.529998779296875, Test Accuracy: 53.209999084472656\n",
            "Training for 51 epochs\n",
            "Epoch: 0 Loss: 1.7634804248809814. Train Accuracy: 29.911998748779297, Test Accuracy: 30.649999618530273\n",
            "Epoch: 1 Loss: 1.9105554819107056. Train Accuracy: 32.5260009765625, Test Accuracy: 32.369998931884766\n",
            "Epoch: 2 Loss: 1.908355951309204. Train Accuracy: 35.20000076293945, Test Accuracy: 34.87999725341797\n",
            "Epoch: 3 Loss: 1.6240533590316772. Train Accuracy: 37.5620002746582, Test Accuracy: 36.77000045776367\n",
            "Epoch: 4 Loss: 1.7462379932403564. Train Accuracy: 39.16600036621094, Test Accuracy: 38.689998626708984\n",
            "Epoch: 5 Loss: 1.9238479137420654. Train Accuracy: 40.88800048828125, Test Accuracy: 40.619998931884766\n",
            "Epoch: 6 Loss: 1.5635812282562256. Train Accuracy: 45.61199951171875, Test Accuracy: 44.91999816894531\n",
            "Epoch: 7 Loss: 1.4923328161239624. Train Accuracy: 46.211997985839844, Test Accuracy: 45.209999084472656\n",
            "Epoch: 8 Loss: 1.3486907482147217. Train Accuracy: 48.045997619628906, Test Accuracy: 46.73999786376953\n",
            "Epoch: 9 Loss: 1.2771233320236206. Train Accuracy: 48.34199905395508, Test Accuracy: 47.11000061035156\n",
            "Epoch: 10 Loss: 1.8204634189605713. Train Accuracy: 48.279998779296875, Test Accuracy: 47.09000015258789\n",
            "Epoch: 11 Loss: 1.3118716478347778. Train Accuracy: 49.69599914550781, Test Accuracy: 48.52000045776367\n",
            "Epoch: 12 Loss: 1.6414533853530884. Train Accuracy: 49.89999771118164, Test Accuracy: 48.09000015258789\n",
            "Epoch: 13 Loss: 1.2754114866256714. Train Accuracy: 50.64799880981445, Test Accuracy: 48.46999740600586\n",
            "Epoch: 14 Loss: 1.302659034729004. Train Accuracy: 51.8120002746582, Test Accuracy: 49.29999923706055\n",
            "Epoch: 15 Loss: 1.4429782629013062. Train Accuracy: 50.817996978759766, Test Accuracy: 48.29999923706055\n",
            "Epoch: 16 Loss: 1.5103113651275635. Train Accuracy: 50.242000579833984, Test Accuracy: 47.91999816894531\n",
            "Epoch: 17 Loss: 1.299163579940796. Train Accuracy: 52.05399703979492, Test Accuracy: 49.28999710083008\n",
            "Epoch: 18 Loss: 1.0545775890350342. Train Accuracy: 52.917999267578125, Test Accuracy: 50.23999786376953\n",
            "Epoch: 19 Loss: 1.4979121685028076. Train Accuracy: 54.04399871826172, Test Accuracy: 51.05999755859375\n",
            "Epoch: 20 Loss: 1.3762215375900269. Train Accuracy: 53.025997161865234, Test Accuracy: 50.12999725341797\n",
            "Epoch: 21 Loss: 1.398625135421753. Train Accuracy: 53.31599807739258, Test Accuracy: 50.529998779296875\n",
            "Epoch: 22 Loss: 1.422419548034668. Train Accuracy: 54.2239990234375, Test Accuracy: 50.84000015258789\n",
            "Epoch: 23 Loss: 1.1753581762313843. Train Accuracy: 54.83799743652344, Test Accuracy: 51.46999740600586\n",
            "Epoch: 24 Loss: 1.2729642391204834. Train Accuracy: 54.94599914550781, Test Accuracy: 51.79999923706055\n",
            "Epoch: 25 Loss: 1.3785325288772583. Train Accuracy: 54.69599914550781, Test Accuracy: 51.6099967956543\n",
            "Epoch: 26 Loss: 1.3771083354949951. Train Accuracy: 55.33599853515625, Test Accuracy: 51.64999771118164\n",
            "Epoch: 27 Loss: 1.181746006011963. Train Accuracy: 55.97200012207031, Test Accuracy: 52.91999816894531\n",
            "Epoch: 28 Loss: 1.1413203477859497. Train Accuracy: 56.3599967956543, Test Accuracy: 52.30999755859375\n",
            "Epoch: 29 Loss: 1.2406471967697144. Train Accuracy: 56.40399932861328, Test Accuracy: 52.349998474121094\n",
            "Epoch: 30 Loss: 1.258844017982483. Train Accuracy: 56.895999908447266, Test Accuracy: 52.779998779296875\n",
            "Epoch: 31 Loss: 0.9711352586746216. Train Accuracy: 56.70800018310547, Test Accuracy: 52.81999969482422\n",
            "Epoch: 32 Loss: 1.2304576635360718. Train Accuracy: 56.64999771118164, Test Accuracy: 52.12999725341797\n",
            "Epoch: 33 Loss: 1.4455770254135132. Train Accuracy: 57.284000396728516, Test Accuracy: 53.5099983215332\n",
            "Epoch: 34 Loss: 1.4362142086029053. Train Accuracy: 57.34599685668945, Test Accuracy: 53.09000015258789\n",
            "Epoch: 35 Loss: 1.144812822341919. Train Accuracy: 57.534000396728516, Test Accuracy: 52.98999786376953\n",
            "Epoch: 36 Loss: 1.200642466545105. Train Accuracy: 56.89799880981445, Test Accuracy: 52.37999725341797\n",
            "Epoch: 37 Loss: 1.172224760055542. Train Accuracy: 57.85799789428711, Test Accuracy: 52.80999755859375\n",
            "Epoch: 38 Loss: 1.2741527557373047. Train Accuracy: 57.00599670410156, Test Accuracy: 52.06999969482422\n",
            "Epoch: 39 Loss: 1.2712291479110718. Train Accuracy: 58.099998474121094, Test Accuracy: 52.88999938964844\n",
            "Epoch: 40 Loss: 1.1174782514572144. Train Accuracy: 58.56999969482422, Test Accuracy: 53.439998626708984\n",
            "Epoch: 41 Loss: 1.363295316696167. Train Accuracy: 58.30999755859375, Test Accuracy: 53.12999725341797\n",
            "Epoch: 42 Loss: 1.0636107921600342. Train Accuracy: 58.20199966430664, Test Accuracy: 53.6099967956543\n",
            "Epoch: 43 Loss: 1.2634024620056152. Train Accuracy: 59.093997955322266, Test Accuracy: 53.54999923706055\n",
            "Epoch: 44 Loss: 1.4689977169036865. Train Accuracy: 58.667999267578125, Test Accuracy: 53.2599983215332\n",
            "Epoch: 45 Loss: 1.1187760829925537. Train Accuracy: 58.59599685668945, Test Accuracy: 53.04999923706055\n",
            "Epoch: 46 Loss: 1.1874916553497314. Train Accuracy: 59.04399871826172, Test Accuracy: 53.849998474121094\n",
            "Epoch: 47 Loss: 1.4092646837234497. Train Accuracy: 59.5620002746582, Test Accuracy: 53.29999923706055\n",
            "Epoch: 48 Loss: 1.2540675401687622. Train Accuracy: 58.80799865722656, Test Accuracy: 52.65999984741211\n",
            "Epoch: 49 Loss: 1.5347527265548706. Train Accuracy: 59.275997161865234, Test Accuracy: 53.13999938964844\n",
            "Epoch: 50 Loss: 1.0769246816635132. Train Accuracy: 59.07600021362305, Test Accuracy: 53.349998474121094\n",
            "Training for 51 epochs\n",
            "Epoch: 0 Loss: 2.0583343505859375. Train Accuracy: 26.3799991607666, Test Accuracy: 26.959999084472656\n",
            "Epoch: 1 Loss: 1.8351091146469116. Train Accuracy: 35.08799743652344, Test Accuracy: 35.439998626708984\n",
            "Epoch: 2 Loss: 1.6345065832138062. Train Accuracy: 40.04199981689453, Test Accuracy: 40.21999740600586\n",
            "Epoch: 3 Loss: 1.484352469444275. Train Accuracy: 42.11199951171875, Test Accuracy: 42.54999923706055\n",
            "Epoch: 4 Loss: 1.418727159500122. Train Accuracy: 44.051998138427734, Test Accuracy: 43.05999755859375\n",
            "Epoch: 5 Loss: 1.7082719802856445. Train Accuracy: 46.683998107910156, Test Accuracy: 45.209999084472656\n",
            "Epoch: 6 Loss: 1.5592305660247803. Train Accuracy: 46.57600021362305, Test Accuracy: 44.84000015258789\n",
            "Epoch: 7 Loss: 1.3346425294876099. Train Accuracy: 48.465999603271484, Test Accuracy: 46.55999755859375\n",
            "Epoch: 8 Loss: 1.4202831983566284. Train Accuracy: 49.53799819946289, Test Accuracy: 48.32999801635742\n",
            "Epoch: 9 Loss: 1.344746470451355. Train Accuracy: 50.58799743652344, Test Accuracy: 48.69999694824219\n",
            "Epoch: 10 Loss: 1.4329652786254883. Train Accuracy: 51.45199966430664, Test Accuracy: 49.279998779296875\n",
            "Epoch: 11 Loss: 1.333785891532898. Train Accuracy: 49.74399948120117, Test Accuracy: 47.65999984741211\n",
            "Epoch: 12 Loss: 1.146082878112793. Train Accuracy: 52.98999786376953, Test Accuracy: 50.36000061035156\n",
            "Epoch: 13 Loss: 1.2890270948410034. Train Accuracy: 53.284000396728516, Test Accuracy: 50.82999801635742\n",
            "Epoch: 14 Loss: 1.3093725442886353. Train Accuracy: 53.60199737548828, Test Accuracy: 51.099998474121094\n",
            "Epoch: 15 Loss: 1.4073965549468994. Train Accuracy: 53.39799880981445, Test Accuracy: 50.779998779296875\n",
            "Epoch: 16 Loss: 1.3855711221694946. Train Accuracy: 53.88399887084961, Test Accuracy: 50.73999786376953\n",
            "Epoch: 17 Loss: 1.5208104848861694. Train Accuracy: 53.80999755859375, Test Accuracy: 50.68000030517578\n",
            "Epoch: 18 Loss: 1.2602401971817017. Train Accuracy: 54.65399932861328, Test Accuracy: 51.2599983215332\n",
            "Epoch: 19 Loss: 1.3016270399093628. Train Accuracy: 55.60599899291992, Test Accuracy: 52.15999984741211\n",
            "Epoch: 20 Loss: 1.4282195568084717. Train Accuracy: 55.3599967956543, Test Accuracy: 51.63999938964844\n",
            "Epoch: 21 Loss: 1.4240888357162476. Train Accuracy: 54.486000061035156, Test Accuracy: 50.28999710083008\n",
            "Epoch: 22 Loss: 1.3052222728729248. Train Accuracy: 56.571998596191406, Test Accuracy: 52.5099983215332\n",
            "Epoch: 23 Loss: 1.2852637767791748. Train Accuracy: 56.63199996948242, Test Accuracy: 52.619998931884766\n",
            "Epoch: 24 Loss: 1.482776403427124. Train Accuracy: 56.93199920654297, Test Accuracy: 52.66999816894531\n",
            "Epoch: 25 Loss: 1.4657783508300781. Train Accuracy: 56.95399856567383, Test Accuracy: 52.15999984741211\n",
            "Epoch: 26 Loss: 1.0844669342041016. Train Accuracy: 57.599998474121094, Test Accuracy: 52.90999984741211\n",
            "Epoch: 27 Loss: 1.2006995677947998. Train Accuracy: 57.917999267578125, Test Accuracy: 53.39999771118164\n",
            "Epoch: 28 Loss: 1.0514960289001465. Train Accuracy: 56.641998291015625, Test Accuracy: 52.05999755859375\n",
            "Epoch: 29 Loss: 1.2474123239517212. Train Accuracy: 58.07999801635742, Test Accuracy: 53.21999740600586\n",
            "Epoch: 30 Loss: 1.1579005718231201. Train Accuracy: 57.917999267578125, Test Accuracy: 52.30999755859375\n",
            "Epoch: 31 Loss: 1.0720053911209106. Train Accuracy: 57.891998291015625, Test Accuracy: 52.709999084472656\n",
            "Epoch: 32 Loss: 1.1610212326049805. Train Accuracy: 58.821998596191406, Test Accuracy: 53.369998931884766\n",
            "Epoch: 33 Loss: 1.1569364070892334. Train Accuracy: 57.89399719238281, Test Accuracy: 52.619998931884766\n",
            "Epoch: 34 Loss: 1.2314410209655762. Train Accuracy: 58.843997955322266, Test Accuracy: 53.279998779296875\n",
            "Epoch: 35 Loss: 1.5524693727493286. Train Accuracy: 58.7239990234375, Test Accuracy: 52.59000015258789\n",
            "Epoch: 36 Loss: 1.2257071733474731. Train Accuracy: 58.95800018310547, Test Accuracy: 53.06999969482422\n",
            "Epoch: 37 Loss: 1.1373417377471924. Train Accuracy: 58.35599899291992, Test Accuracy: 52.459999084472656\n",
            "Epoch: 38 Loss: 1.346439003944397. Train Accuracy: 58.85199737548828, Test Accuracy: 52.15999984741211\n",
            "Epoch: 39 Loss: 1.1032387018203735. Train Accuracy: 58.981998443603516, Test Accuracy: 52.88999938964844\n",
            "Epoch: 40 Loss: 1.2362492084503174. Train Accuracy: 59.49599838256836, Test Accuracy: 52.87999725341797\n",
            "Epoch: 41 Loss: 1.3147311210632324. Train Accuracy: 59.49399948120117, Test Accuracy: 52.94999694824219\n",
            "Epoch: 42 Loss: 1.3337342739105225. Train Accuracy: 59.619998931884766, Test Accuracy: 53.52000045776367\n",
            "Epoch: 43 Loss: 1.055769681930542. Train Accuracy: 58.93000030517578, Test Accuracy: 52.37999725341797\n",
            "Epoch: 44 Loss: 1.3657952547073364. Train Accuracy: 60.42599868774414, Test Accuracy: 53.40999984741211\n",
            "Epoch: 45 Loss: 1.0396368503570557. Train Accuracy: 60.197998046875, Test Accuracy: 53.27000045776367\n",
            "Epoch: 46 Loss: 1.2193326950073242. Train Accuracy: 60.39799880981445, Test Accuracy: 53.37999725341797\n",
            "Epoch: 47 Loss: 1.071921944618225. Train Accuracy: 60.21399688720703, Test Accuracy: 53.14999771118164\n",
            "Epoch: 48 Loss: 1.4402703046798706. Train Accuracy: 60.12199783325195, Test Accuracy: 52.8599967956543\n",
            "Epoch: 49 Loss: 1.2430713176727295. Train Accuracy: 60.869998931884766, Test Accuracy: 53.48999786376953\n",
            "Epoch: 50 Loss: 0.9326011538505554. Train Accuracy: 61.093997955322266, Test Accuracy: 53.37999725341797\n"
          ],
          "name": "stdout"
        },
        {
          "output_type": "display_data",
          "data": {
            "image/png": "[encoded data removed]",
            "text/plain": [
              "<Figure size 432x288 with 1 Axes>"
            ]
          },
          "metadata": {
            "tags": [],
            "needs_background": "light"
          }
        },
        {
          "output_type": "display_data",
          "data": {
            "image/png": "[encoded data removed]",
            "text/plain": [
              "<Figure size 432x288 with 1 Axes>"
            ]
          },
          "metadata": {
            "tags": [],
            "needs_background": "light"
          }
        },
        {
          "output_type": "display_data",
          "data": {
            "image/png": "[encoded data removed]",
            "text/plain": [
              "<Figure size 432x288 with 1 Axes>"
            ]
          },
          "metadata": {
            "tags": [],
            "needs_background": "light"
          }
        },
        {
          "output_type": "display_data",
          "data": {
            "image/png": "[encoded data removed]",
            "text/plain": [
              "<Figure size 432x288 with 1 Axes>"
            ]
          },
          "metadata": {
            "tags": [],
            "needs_background": "light"
          }
        }
      ]
    },
    {
      "cell_type": "markdown",
      "metadata": {
        "id": "kKWBQvET77aB"
      },
      "source": [
        "### Analysis\n",
        "\n",
        "From these experiments, we can see that _ is the optimal number of blocks when using a CNN without batch normalization. This was a little surprising to me, as I thought that increasing the depth of the model would directly correlate to better performance. However, we see that this isn't really the case."
      ]
    },
    {
      "cell_type": "markdown",
      "metadata": {
        "id": "68PZWicD77aB"
      },
      "source": [
        "## c) Plot 2 misclassified and 2 correctly classified samples for each class"
      ]
    },
    {
      "cell_type": "code",
      "metadata": {
        "id": "yKfknVr177aB"
      },
      "source": [
        ""
      ],
      "execution_count": 9,
      "outputs": []
    }
  ]
}