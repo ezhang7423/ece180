{
  "nbformat": 4,
  "nbformat_minor": 0,
  "metadata": {
    "orig_nbformat": 2,
    "kernelspec": {
      "name": "python3",
      "display_name": "Python 3",
      "language": "python"
    },
    "metadata": {
      "interpreter": {
        "hash": "31f2aee4e71d21fbe5cf8b01ff0e069b9275f58929596ceb00d14d90e3e16cd6"
      }
    },
    "colab": {
      "name": "main.ipynb",
      "provenance": [],
      "collapsed_sections": []
    },
    "language_info": {
      "name": "python",
      "version": "3.8.6"
    },
    "accelerator": "GPU"
  },
  "cells": [
    {
      "cell_type": "code",
      "metadata": {
        "id": "Go1vxz_oxqZ9"
      },
      "source": [
        "import torch\n",
        "import torchvision\n",
        "import torch.nn as nn\n",
        "import torchvision.transforms as transforms\n",
        "import numpy as np\n",
        "import pandas as pd\n",
        "import matplotlib.pyplot as plt\n",
        "torch.manual_seed(4)\n",
        "np.random.seed(4)"
      ],
      "execution_count": 1,
      "outputs": []
    },
    {
      "cell_type": "code",
      "metadata": {
        "id": "lxQYAYqhxqaD"
      },
      "source": [
        "BATCH_SIZE = 128\n",
        "NUM_ITERS = int(2e4)\n",
        "CRITERION = nn.CrossEntropyLoss()  \n"
      ],
      "execution_count": 2,
      "outputs": []
    },
    {
      "cell_type": "code",
      "metadata": {
        "colab": {
          "base_uri": "https://localhost:8080/"
        },
        "id": "oyArAn3SxqaD",
        "outputId": "35caadb6-c28d-4acd-93d5-bd99e7291122"
      },
      "source": [
        "\n",
        "transform = transforms.Compose(\n",
        "    [transforms.ToTensor(),\n",
        "     transforms.Normalize((0.5, 0.5, 0.5), (0.5, 0.5, 0.5))])\n",
        "\n",
        "\n",
        "trainset = torchvision.datasets.CIFAR10(root='./data', train=True,\n",
        "                                        download=True, transform=transform)\n",
        "\n",
        "\n",
        "testset = torchvision.datasets.CIFAR10(root='./data', train=False,\n",
        "                                       download=True,  transform=transform)\n",
        "\n",
        "\n",
        "train_loader = torch.utils.data.DataLoader(trainset, batch_size=BATCH_SIZE,\n",
        "                                        shuffle=True, num_workers=2)\n",
        "\n",
        "test_loader = torch.utils.data.DataLoader(testset, batch_size=BATCH_SIZE,\n",
        "                                        shuffle=False, num_workers=2)\n",
        "\n",
        "EPOCHS = int(NUM_ITERS / (len(trainset) / BATCH_SIZE))\n",
        "\n",
        "DEVICE = 'cuda' if torch.cuda.is_available() else 'cpu'\n",
        "\n",
        "classes = ('plane', 'car', 'bird', 'cat',\n",
        "'deer', 'dog', 'frog', 'horse', 'ship', 'truck')\n",
        "\n",
        "print(DEVICE)"
      ],
      "execution_count": 37,
      "outputs": [
        {
          "output_type": "stream",
          "text": [
            "Files already downloaded and verified\n",
            "Files already downloaded and verified\n",
            "cuda\n"
          ],
          "name": "stdout"
        }
      ]
    },
    {
      "cell_type": "code",
      "metadata": {
        "id": "JKd7Cc0JxqaE"
      },
      "source": [
        "\n",
        "# Block\n",
        "\n",
        "class ResidualBlock(nn.Module):\n",
        "\n",
        "    def __init__(self, stride=1, padding=1, batch_norm=False):\n",
        "        super().__init__()\n",
        "        self.batch_norm = batch_norm\n",
        "        \n",
        "        self.conv1 = nn.Conv2d(in_channels=8, out_channels=8, kernel_size=3, stride=stride, padding=padding)\n",
        "\n",
        "        if batch_norm:\n",
        "            self.bn1 = nn.BatchNorm2d(8)\n",
        "\n",
        "        self.relu1 = nn.ReLU()        \n",
        "\n",
        "        self.conv2 = nn.Conv2d(in_channels=8, out_channels=8, kernel_size=3, stride=stride, padding=padding)\n",
        "\n",
        "        if batch_norm:\n",
        "            self.bn2 = nn.BatchNorm2d(8)\n",
        "\n",
        "        self.relu2 = nn.ReLU()       \n",
        "\n",
        "         \n",
        "\n",
        "\n",
        "    def forward(self, x):\n",
        "\n",
        "        out = self.conv1(x)\n",
        "\n",
        "        if self.batch_norm:\n",
        "            out = self.bn1(out)\n",
        "\n",
        "        out = self.relu1(out)\n",
        "\n",
        "        out = self.conv2(x)\n",
        "\n",
        "        if self.batch_norm:\n",
        "            out = self.bn2(out)\n",
        "\n",
        "        out = self.relu2(out + x)\n",
        "\n",
        "        return out\n",
        "\n",
        "# Model\n",
        "class CNNModel(nn.Module):\n",
        "    def __init__(self, batch_norm=False, N=10):\n",
        "\n",
        "        super().__init__()\n",
        "\n",
        "        self.conv1 = nn.Conv2d(in_channels=3, out_channels=8, kernel_size=5, stride=1, padding=0)\n",
        "        # Size: 28 x 28\n",
        "\n",
        "        self.conv2 = nn.Conv2d(in_channels=8, out_channels=8, kernel_size=5, stride=2, padding=0)\n",
        "        # Size: 12 x 12\n",
        "\n",
        "        # Dynamic block num\n",
        "        self.blocks = nn.Sequential(*[ResidualBlock(batch_norm=batch_norm) for _ in range(N)])\n",
        "        # Size: 12 x 12\n",
        "\n",
        "        self.conv3 = nn.Conv2d(in_channels=8, out_channels=4, kernel_size=3, stride=2, padding=0)                    \n",
        "        # Size: 5 X 5\n",
        "\n",
        "        self.fc1 = nn.Linear(5 * 5 * 4, 100, bias=True) \n",
        "        self.relu1 = nn.ReLU()\n",
        "        self.fc2 = nn.Linear(100, 10, bias=False) \n",
        "\n",
        "\n",
        "    def forward(self, x):\n",
        "\n",
        "        out = self.conv1(x)\n",
        "        out = self.conv2(out)\n",
        "        \n",
        "        out = self.blocks(out)         # How is the shape the same after this???\n",
        "        out = self.conv3(out)\n",
        "        out = out.view(out.size(0), -1)\n",
        "        out = self.fc1(out)\n",
        "        out = self.relu1(out)\n",
        "        out = self.fc2(out)\n",
        "\n",
        "        return out"
      ],
      "execution_count": 4,
      "outputs": []
    },
    {
      "cell_type": "code",
      "metadata": {
        "id": "h4_F9ETdxqaF"
      },
      "source": [
        "\n",
        "def calc_accuracy(model, train=False): # add train param to calculate accuracy on both train and test\n",
        "    # Calculate Accuracy         \n",
        "    correct = 0\n",
        "    total = 0\n",
        "    \n",
        "    d_loader = train_loader if train else test_loader\n",
        "    # Iterate through test dataset\n",
        "    for images, labels in d_loader:\n",
        "        # Load images\n",
        "        images, labels = images.to(DEVICE), labels.to(DEVICE)        \n",
        "\n",
        "        # Forward pass only to get logits/output\n",
        "        outputs = model(images)\n",
        "\n",
        "        # Get predictions from the maximum value\n",
        "        _, predicted = torch.max(outputs.data, 1)\n",
        "\n",
        "        # Total number of labels\n",
        "        total += labels.size(0)\n",
        "\n",
        "        # Total correct predictions\n",
        "        correct += (predicted == labels).sum()\n",
        "\n",
        "    return 100 * correct / total\n",
        "\n",
        "def train(model): \n",
        "    print(f'Training for {EPOCHS} epochs')\n",
        "    optimizer = torch.optim.SGD(model.parameters(), lr=.01)  \n",
        "    accuracy = {'train': [], 'test': []}\n",
        "\n",
        "    for epoch in range(EPOCHS):    \n",
        "        for i, (images, labels) in enumerate(train_loader): \n",
        "            # This will load batch_size amount of samples\n",
        "            images, labels = images.requires_grad_().to(DEVICE), labels.to(DEVICE)                     \n",
        "\n",
        "            # Clear gradients w.r.t. parameters\n",
        "            optimizer.zero_grad()\n",
        "\n",
        "            # Forward pass to get output/logits\n",
        "            outputs = model(images)\n",
        "\n",
        "            # Calculate Loss: softmax --> cross entropy loss\n",
        "            loss = CRITERION(outputs, labels)\n",
        "\n",
        "            # Getting gradients w.r.t. parameters\n",
        "            loss.backward()\n",
        "\n",
        "            # Updating parameters\n",
        "            optimizer.step()\n",
        "\n",
        "        train_accuracy = calc_accuracy(model, train=True) # abstract accuracy function away\n",
        "        test_accuracy = calc_accuracy(model) # abstract accuracy function away\n",
        "        # Print Loss\n",
        "        print('Epoch: {} Loss: {}. Train Accuracy: {}, Test Accuracy: {}'.format(epoch, loss.item(), train_accuracy, test_accuracy))\n",
        "\n",
        "        accuracy['train'].append(train_accuracy.item())\n",
        "        accuracy['test'].append(test_accuracy.item())\n",
        "        \n",
        "    return pd.DataFrame(accuracy)"
      ],
      "execution_count": 5,
      "outputs": []
    },
    {
      "cell_type": "markdown",
      "metadata": {
        "id": "5tDL5Ega77Z_"
      },
      "source": [
        "## a) Plot Train and Test accuracy"
      ]
    },
    {
      "cell_type": "code",
      "metadata": {
        "colab": {
          "base_uri": "https://localhost:8080/",
          "height": 1000
        },
        "id": "H41-2RjcxqaF",
        "outputId": "7b8e5b44-db05-45d5-ae0e-2a92322fd242"
      },
      "source": [
        "\n",
        "no_batch_norm = CNNModel().to(DEVICE)\n",
        "nbn_history = train(no_batch_norm)\n",
        "nbn_history.plot(y=['train', 'test'], use_index=True, xlabel='Epoch no.', ylabel='Accuracy (%)')"
      ],
      "execution_count": 6,
      "outputs": [
        {
          "output_type": "stream",
          "text": [
            "Training for 51 epochs\n",
            "Epoch: 0 Loss: 2.3027138710021973. Train Accuracy: 10.0, Test Accuracy: 10.0\n",
            "Epoch: 1 Loss: 2.3021628856658936. Train Accuracy: 10.0, Test Accuracy: 10.0\n",
            "Epoch: 2 Loss: 2.302372455596924. Train Accuracy: 10.0, Test Accuracy: 10.0\n",
            "Epoch: 3 Loss: 2.3020453453063965. Train Accuracy: 10.0, Test Accuracy: 10.0\n",
            "Epoch: 4 Loss: 2.302574634552002. Train Accuracy: 10.0, Test Accuracy: 10.0\n",
            "Epoch: 5 Loss: 2.30250883102417. Train Accuracy: 10.0, Test Accuracy: 10.0\n",
            "Epoch: 6 Loss: 2.3025784492492676. Train Accuracy: 10.0, Test Accuracy: 10.0\n",
            "Epoch: 7 Loss: 2.3028244972229004. Train Accuracy: 10.0, Test Accuracy: 10.0\n",
            "Epoch: 8 Loss: 2.3024027347564697. Train Accuracy: 10.0, Test Accuracy: 10.0\n",
            "Epoch: 9 Loss: 2.3030056953430176. Train Accuracy: 10.0, Test Accuracy: 10.0\n",
            "Epoch: 10 Loss: 2.3030290603637695. Train Accuracy: 10.0, Test Accuracy: 10.0\n",
            "Epoch: 11 Loss: 2.3028054237365723. Train Accuracy: 10.0, Test Accuracy: 10.0\n",
            "Epoch: 12 Loss: 2.302643299102783. Train Accuracy: 10.0, Test Accuracy: 10.0\n",
            "Epoch: 13 Loss: 2.3026976585388184. Train Accuracy: 10.0, Test Accuracy: 10.0\n",
            "Epoch: 14 Loss: 2.3025741577148438. Train Accuracy: 10.0, Test Accuracy: 10.0\n",
            "Epoch: 15 Loss: 2.3025989532470703. Train Accuracy: 10.0, Test Accuracy: 10.0\n",
            "Epoch: 16 Loss: 2.302600383758545. Train Accuracy: 10.0, Test Accuracy: 10.0\n",
            "Epoch: 17 Loss: 2.302710771560669. Train Accuracy: 10.0, Test Accuracy: 10.0\n",
            "Epoch: 18 Loss: 2.302713394165039. Train Accuracy: 10.0, Test Accuracy: 10.0\n",
            "Epoch: 19 Loss: 2.3025708198547363. Train Accuracy: 10.0, Test Accuracy: 10.0\n",
            "Epoch: 20 Loss: 2.302690029144287. Train Accuracy: 10.0, Test Accuracy: 10.0\n",
            "Epoch: 21 Loss: 2.3026790618896484. Train Accuracy: 10.0, Test Accuracy: 10.0\n",
            "Epoch: 22 Loss: 2.3026633262634277. Train Accuracy: 10.0, Test Accuracy: 10.0\n",
            "Epoch: 23 Loss: 2.302595615386963. Train Accuracy: 10.0, Test Accuracy: 10.0\n",
            "Epoch: 24 Loss: 2.3026137351989746. Train Accuracy: 10.0, Test Accuracy: 10.0\n",
            "Epoch: 25 Loss: 2.302618980407715. Train Accuracy: 10.0, Test Accuracy: 10.0\n",
            "Epoch: 26 Loss: 2.3026578426361084. Train Accuracy: 10.0, Test Accuracy: 10.0\n",
            "Epoch: 27 Loss: 2.3026373386383057. Train Accuracy: 10.0, Test Accuracy: 10.0\n",
            "Epoch: 28 Loss: 2.302682876586914. Train Accuracy: 10.0, Test Accuracy: 10.0\n",
            "Epoch: 29 Loss: 2.302621364593506. Train Accuracy: 10.0, Test Accuracy: 10.0\n",
            "Epoch: 30 Loss: 2.3026227951049805. Train Accuracy: 10.0, Test Accuracy: 10.0\n",
            "Epoch: 31 Loss: 2.302603006362915. Train Accuracy: 10.0, Test Accuracy: 10.0\n",
            "Epoch: 32 Loss: 2.3025662899017334. Train Accuracy: 10.0, Test Accuracy: 10.0\n",
            "Epoch: 33 Loss: 2.3026013374328613. Train Accuracy: 10.0, Test Accuracy: 10.0\n",
            "Epoch: 34 Loss: 2.302619218826294. Train Accuracy: 10.0, Test Accuracy: 10.0\n",
            "Epoch: 35 Loss: 2.3025660514831543. Train Accuracy: 10.0, Test Accuracy: 10.0\n",
            "Epoch: 36 Loss: 2.3026490211486816. Train Accuracy: 10.0, Test Accuracy: 10.0\n",
            "Epoch: 37 Loss: 2.302577257156372. Train Accuracy: 10.0, Test Accuracy: 10.0\n",
            "Epoch: 38 Loss: 2.302602529525757. Train Accuracy: 10.0, Test Accuracy: 10.0\n",
            "Epoch: 39 Loss: 2.302590847015381. Train Accuracy: 10.0, Test Accuracy: 10.0\n",
            "Epoch: 40 Loss: 2.3026604652404785. Train Accuracy: 10.0, Test Accuracy: 10.0\n",
            "Epoch: 41 Loss: 2.302598714828491. Train Accuracy: 10.0, Test Accuracy: 10.0\n",
            "Epoch: 42 Loss: 2.3026556968688965. Train Accuracy: 10.0, Test Accuracy: 10.0\n",
            "Epoch: 43 Loss: 2.3026108741760254. Train Accuracy: 9.776000022888184, Test Accuracy: 9.989999771118164\n",
            "Epoch: 44 Loss: 2.3026251792907715. Train Accuracy: 10.0, Test Accuracy: 10.0\n",
            "Epoch: 45 Loss: 2.3025920391082764. Train Accuracy: 10.0, Test Accuracy: 10.0\n",
            "Epoch: 46 Loss: 2.3026022911071777. Train Accuracy: 10.0, Test Accuracy: 10.0\n",
            "Epoch: 47 Loss: 2.302647113800049. Train Accuracy: 10.0, Test Accuracy: 10.0\n",
            "Epoch: 48 Loss: 2.3026561737060547. Train Accuracy: 10.0, Test Accuracy: 10.0\n",
            "Epoch: 49 Loss: 2.302588939666748. Train Accuracy: 10.0, Test Accuracy: 10.0\n",
            "Epoch: 50 Loss: 2.302631378173828. Train Accuracy: 10.0, Test Accuracy: 10.0\n"
          ],
          "name": "stdout"
        },
        {
          "output_type": "execute_result",
          "data": {
            "text/plain": [
              "<matplotlib.axes._subplots.AxesSubplot at 0x7f24680b0c90>"
            ]
          },
          "metadata": {
            "tags": []
          },
          "execution_count": 6
        },
        {
          "output_type": "display_data",
          "data": {
            "image/png": "[encoded data removed]",
            "text/plain": [
              "<Figure size 432x288 with 1 Axes>"
            ]
          },
          "metadata": {
            "tags": [],
            "needs_background": "light"
          }
        }
      ]
    },
    {
      "cell_type": "markdown",
      "metadata": {
        "id": "M8YJLQAD77aA"
      },
      "source": [
        "## b) Accuracy and convergence comparison to ConvBlock with Batch Norm"
      ]
    },
    {
      "cell_type": "markdown",
      "metadata": {
        "id": "kKWBQvET77aB"
      },
      "source": [
        "From these experiments, we can see that 2 is the optimal number of blocks with our CNN model without batch normalization. This was a little surprising to me, as I thought that increasing the depth of the model would directly correlate to better performance. However, we see that this really isn't the case because without batch normalization it will take many many more epocsh to converge."
      ]
    },
    {
      "cell_type": "code",
      "execution_count": null,
      "metadata": {},
      "outputs": [],
      "source": []
    }
  ]
}