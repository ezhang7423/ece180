{
  "nbformat": 4,
  "nbformat_minor": 0,
  "metadata": {
    "orig_nbformat": 2,
    "kernelspec": {
      "name": "python3",
      "display_name": "Python 3",
      "language": "python"
    },
    "metadata": {
      "interpreter": {
        "hash": "31f2aee4e71d21fbe5cf8b01ff0e069b9275f58929596ceb00d14d90e3e16cd6"
      }
    },
    "colab": {
      "name": "hw7.ipynb",
      "provenance": [],
      "collapsed_sections": []
    },
    "language_info": {
      "name": "python",
      "version": "3.8.6"
    },
    "accelerator": "GPU",
    "widgets": {
      "application/vnd.jupyter.widget-state+json": {
        "58091f75ee034ab7868d85227dbc2467": {
          "model_module": "@jupyter-widgets/controls",
          "model_name": "HBoxModel",
          "state": {
            "_view_name": "HBoxView",
            "_dom_classes": [],
            "_model_name": "HBoxModel",
            "_view_module": "@jupyter-widgets/controls",
            "_model_module_version": "1.5.0",
            "_view_count": null,
            "_view_module_version": "1.5.0",
            "box_style": "",
            "layout": "IPY_MODEL_6e3778024e1541feaf4cc21cce7fd8ac",
            "_model_module": "@jupyter-widgets/controls",
            "children": [
              "IPY_MODEL_0eb9e65eed1746f4a91616315c827392",
              "IPY_MODEL_40d2fd03ed634fb88ea3cb5ffa9c551e"
            ]
          }
        },
        "6e3778024e1541feaf4cc21cce7fd8ac": {
          "model_module": "@jupyter-widgets/base",
          "model_name": "LayoutModel",
          "state": {
            "_view_name": "LayoutView",
            "grid_template_rows": null,
            "right": null,
            "justify_content": null,
            "_view_module": "@jupyter-widgets/base",
            "overflow": null,
            "_model_module_version": "1.2.0",
            "_view_count": null,
            "flex_flow": null,
            "width": null,
            "min_width": null,
            "border": null,
            "align_items": null,
            "bottom": null,
            "_model_module": "@jupyter-widgets/base",
            "top": null,
            "grid_column": null,
            "overflow_y": null,
            "overflow_x": null,
            "grid_auto_flow": null,
            "grid_area": null,
            "grid_template_columns": null,
            "flex": null,
            "_model_name": "LayoutModel",
            "justify_items": null,
            "grid_row": null,
            "max_height": null,
            "align_content": null,
            "visibility": null,
            "align_self": null,
            "height": null,
            "min_height": null,
            "padding": null,
            "grid_auto_rows": null,
            "grid_gap": null,
            "max_width": null,
            "order": null,
            "_view_module_version": "1.2.0",
            "grid_template_areas": null,
            "object_position": null,
            "object_fit": null,
            "grid_auto_columns": null,
            "margin": null,
            "display": null,
            "left": null
          }
        },
        "0eb9e65eed1746f4a91616315c827392": {
          "model_module": "@jupyter-widgets/controls",
          "model_name": "FloatProgressModel",
          "state": {
            "_view_name": "ProgressView",
            "style": "IPY_MODEL_2e245f8592184e308d49d6b85be71278",
            "_dom_classes": [],
            "description": "",
            "_model_name": "FloatProgressModel",
            "bar_style": "success",
            "max": 170498071,
            "_view_module": "@jupyter-widgets/controls",
            "_model_module_version": "1.5.0",
            "value": 170498071,
            "_view_count": null,
            "_view_module_version": "1.5.0",
            "orientation": "horizontal",
            "min": 0,
            "description_tooltip": null,
            "_model_module": "@jupyter-widgets/controls",
            "layout": "IPY_MODEL_52f000a6384d40b59a281e396c8324a4"
          }
        },
        "40d2fd03ed634fb88ea3cb5ffa9c551e": {
          "model_module": "@jupyter-widgets/controls",
          "model_name": "HTMLModel",
          "state": {
            "_view_name": "HTMLView",
            "style": "IPY_MODEL_098d620587f24773b2e5284545f7c526",
            "_dom_classes": [],
            "description": "",
            "_model_name": "HTMLModel",
            "placeholder": "​",
            "_view_module": "@jupyter-widgets/controls",
            "_model_module_version": "1.5.0",
            "value": " 170499072/? [06:09&lt;00:00, 461533.80it/s]",
            "_view_count": null,
            "_view_module_version": "1.5.0",
            "description_tooltip": null,
            "_model_module": "@jupyter-widgets/controls",
            "layout": "IPY_MODEL_d1f6e765ac5e4ee49e2d595cb6b137a2"
          }
        },
        "2e245f8592184e308d49d6b85be71278": {
          "model_module": "@jupyter-widgets/controls",
          "model_name": "ProgressStyleModel",
          "state": {
            "_view_name": "StyleView",
            "_model_name": "ProgressStyleModel",
            "description_width": "initial",
            "_view_module": "@jupyter-widgets/base",
            "_model_module_version": "1.5.0",
            "_view_count": null,
            "_view_module_version": "1.2.0",
            "bar_color": null,
            "_model_module": "@jupyter-widgets/controls"
          }
        },
        "52f000a6384d40b59a281e396c8324a4": {
          "model_module": "@jupyter-widgets/base",
          "model_name": "LayoutModel",
          "state": {
            "_view_name": "LayoutView",
            "grid_template_rows": null,
            "right": null,
            "justify_content": null,
            "_view_module": "@jupyter-widgets/base",
            "overflow": null,
            "_model_module_version": "1.2.0",
            "_view_count": null,
            "flex_flow": null,
            "width": null,
            "min_width": null,
            "border": null,
            "align_items": null,
            "bottom": null,
            "_model_module": "@jupyter-widgets/base",
            "top": null,
            "grid_column": null,
            "overflow_y": null,
            "overflow_x": null,
            "grid_auto_flow": null,
            "grid_area": null,
            "grid_template_columns": null,
            "flex": null,
            "_model_name": "LayoutModel",
            "justify_items": null,
            "grid_row": null,
            "max_height": null,
            "align_content": null,
            "visibility": null,
            "align_self": null,
            "height": null,
            "min_height": null,
            "padding": null,
            "grid_auto_rows": null,
            "grid_gap": null,
            "max_width": null,
            "order": null,
            "_view_module_version": "1.2.0",
            "grid_template_areas": null,
            "object_position": null,
            "object_fit": null,
            "grid_auto_columns": null,
            "margin": null,
            "display": null,
            "left": null
          }
        },
        "098d620587f24773b2e5284545f7c526": {
          "model_module": "@jupyter-widgets/controls",
          "model_name": "DescriptionStyleModel",
          "state": {
            "_view_name": "StyleView",
            "_model_name": "DescriptionStyleModel",
            "description_width": "",
            "_view_module": "@jupyter-widgets/base",
            "_model_module_version": "1.5.0",
            "_view_count": null,
            "_view_module_version": "1.2.0",
            "_model_module": "@jupyter-widgets/controls"
          }
        },
        "d1f6e765ac5e4ee49e2d595cb6b137a2": {
          "model_module": "@jupyter-widgets/base",
          "model_name": "LayoutModel",
          "state": {
            "_view_name": "LayoutView",
            "grid_template_rows": null,
            "right": null,
            "justify_content": null,
            "_view_module": "@jupyter-widgets/base",
            "overflow": null,
            "_model_module_version": "1.2.0",
            "_view_count": null,
            "flex_flow": null,
            "width": null,
            "min_width": null,
            "border": null,
            "align_items": null,
            "bottom": null,
            "_model_module": "@jupyter-widgets/base",
            "top": null,
            "grid_column": null,
            "overflow_y": null,
            "overflow_x": null,
            "grid_auto_flow": null,
            "grid_area": null,
            "grid_template_columns": null,
            "flex": null,
            "_model_name": "LayoutModel",
            "justify_items": null,
            "grid_row": null,
            "max_height": null,
            "align_content": null,
            "visibility": null,
            "align_self": null,
            "height": null,
            "min_height": null,
            "padding": null,
            "grid_auto_rows": null,
            "grid_gap": null,
            "max_width": null,
            "order": null,
            "_view_module_version": "1.2.0",
            "grid_template_areas": null,
            "object_position": null,
            "object_fit": null,
            "grid_auto_columns": null,
            "margin": null,
            "display": null,
            "left": null
          }
        }
      }
    }
  },
  "cells": [
    {
      "cell_type": "code",
      "metadata": {
        "id": "Go1vxz_oxqZ9"
      },
      "source": [
        "import torch\n",
        "import torchvision\n",
        "import torch.nn as nn\n",
        "import torchvision.transforms as transforms\n",
        "import numpy as np\n",
        "import pandas as pd\n",
        "import matplotlib.pyplot as plt\n",
        "torch.manual_seed(4)\n",
        "np.random.seed(4)"
      ],
      "execution_count": 1,
      "outputs": []
    },
    {
      "cell_type": "code",
      "metadata": {
        "id": "lxQYAYqhxqaD"
      },
      "source": [
        "BATCH_SIZE = 128\n",
        "NUM_ITERS = int(1e4)\n",
        "CRITERION = nn.CrossEntropyLoss()  \n"
      ],
      "execution_count": 2,
      "outputs": []
    },
    {
      "cell_type": "code",
      "metadata": {
        "colab": {
          "base_uri": "https://localhost:8080/",
          "height": 133,
          "referenced_widgets": [
            "58091f75ee034ab7868d85227dbc2467",
            "6e3778024e1541feaf4cc21cce7fd8ac",
            "0eb9e65eed1746f4a91616315c827392",
            "40d2fd03ed634fb88ea3cb5ffa9c551e",
            "2e245f8592184e308d49d6b85be71278",
            "52f000a6384d40b59a281e396c8324a4",
            "098d620587f24773b2e5284545f7c526",
            "d1f6e765ac5e4ee49e2d595cb6b137a2"
          ]
        },
        "id": "oyArAn3SxqaD",
        "outputId": "eeca3c84-7918-4449-c159-a2b9f328e676"
      },
      "source": [
        "\n",
        "transform = transforms.Compose(\n",
        "    [transforms.ToTensor(),\n",
        "     transforms.Normalize((0.5, 0.5, 0.5), (0.5, 0.5, 0.5))])\n",
        "\n",
        "\n",
        "trainset = torchvision.datasets.CIFAR10(root='./data', train=True,\n",
        "                                        download=True, transform=transform)\n",
        "\n",
        "\n",
        "testset = torchvision.datasets.CIFAR10(root='./data', train=False,\n",
        "                                       download=True,  transform=transform)\n",
        "\n",
        "\n",
        "train_loader = torch.utils.data.DataLoader(trainset, batch_size=BATCH_SIZE,\n",
        "                                        shuffle=True, num_workers=2)\n",
        "\n",
        "test_loader = torch.utils.data.DataLoader(testset, batch_size=BATCH_SIZE,\n",
        "                                        shuffle=False, num_workers=2)\n",
        "\n",
        "EPOCHS = int(NUM_ITERS / (len(trainset) / BATCH_SIZE))\n",
        "\n",
        "DEVICE = 'cuda' if torch.cuda.is_available() else 'cpu'\n",
        "\n",
        "classes = ('plane', 'car', 'bird', 'cat',\n",
        "'deer', 'dog', 'frog', 'horse', 'ship', 'truck')\n",
        "\n",
        "print(DEVICE)"
      ],
      "execution_count": 3,
      "outputs": [
        {
          "output_type": "stream",
          "text": [
            "Downloading https://www.cs.toronto.edu/~kriz/cifar-10-python.tar.gz to ./data/cifar-10-python.tar.gz\n"
          ],
          "name": "stdout"
        },
        {
          "output_type": "display_data",
          "data": {
            "application/vnd.jupyter.widget-view+json": {
              "model_id": "58091f75ee034ab7868d85227dbc2467",
              "version_minor": 0,
              "version_major": 2
            },
            "text/plain": [
              "HBox(children=(FloatProgress(value=0.0, max=170498071.0), HTML(value='')))"
            ]
          },
          "metadata": {
            "tags": []
          }
        },
        {
          "output_type": "stream",
          "text": [
            "\n",
            "Extracting ./data/cifar-10-python.tar.gz to ./data\n",
            "Files already downloaded and verified\n",
            "cuda\n"
          ],
          "name": "stdout"
        }
      ]
    },
    {
      "cell_type": "code",
      "metadata": {
        "id": "JKd7Cc0JxqaE"
      },
      "source": [
        "\n",
        "# Block\n",
        "\n",
        "class ResidualBlock(nn.Module):\n",
        "\n",
        "    def __init__(self, stride=1, padding=1, batch_norm=False):\n",
        "        super().__init__()\n",
        "        self.batch_norm = batch_norm\n",
        "        \n",
        "        self.conv1 = nn.Conv2d(in_channels=8, out_channels=8, kernel_size=3, stride=stride, padding=padding)\n",
        "\n",
        "        if batch_norm:\n",
        "            self.bn1 = nn.BatchNorm2d(8)\n",
        "\n",
        "        self.relu1 = nn.ReLU()        \n",
        "\n",
        "        self.conv2 = nn.Conv2d(in_channels=8, out_channels=8, kernel_size=3, stride=stride, padding=padding)\n",
        "\n",
        "        if batch_norm:\n",
        "            self.bn2 = nn.BatchNorm2d(8)\n",
        "\n",
        "        self.relu2 = nn.ReLU()       \n",
        "\n",
        "         \n",
        "\n",
        "\n",
        "    def forward(self, x):\n",
        "\n",
        "        residual = x\n",
        "\n",
        "        out = self.conv1(x)\n",
        "\n",
        "        if self.batch_norm:\n",
        "            out = self.bn1(out)\n",
        "\n",
        "        out = self.relu1(out)\n",
        "\n",
        "        out = self.conv2(out)\n",
        "\n",
        "        if self.batch_norm:\n",
        "            out = self.bn2(out)\n",
        "\n",
        "        out += residual\n",
        "\n",
        "        out = self.relu2(out)\n",
        "\n",
        "        return out\n",
        "\n",
        "# Model\n",
        "class CNNModel(nn.Module):\n",
        "    def __init__(self, batch_norm=False, N=10):\n",
        "\n",
        "        super().__init__()\n",
        "\n",
        "        self.conv1 = nn.Conv2d(in_channels=3, out_channels=8, kernel_size=5, stride=1, padding=0)\n",
        "        # Size: 28 x 28\n",
        "\n",
        "        self.conv2 = nn.Conv2d(in_channels=8, out_channels=8, kernel_size=5, stride=2, padding=0)\n",
        "        # Size: 12 x 12\n",
        "\n",
        "        # Dynamic block num\n",
        "        self.blocks = nn.Sequential(*[ResidualBlock(batch_norm=batch_norm) for _ in range(N)])\n",
        "        # Size: 12 x 12\n",
        "\n",
        "        self.conv3 = nn.Conv2d(in_channels=8, out_channels=4, kernel_size=3, stride=2, padding=0)                    \n",
        "        # Size: 5 X 5\n",
        "\n",
        "        self.fc1 = nn.Linear(5 * 5 * 4, 100, bias=True) \n",
        "        self.relu1 = nn.ReLU()\n",
        "        self.fc2 = nn.Linear(100, 10, bias=False) \n",
        "\n",
        "\n",
        "    def forward(self, x):\n",
        "\n",
        "        out = self.conv1(x)\n",
        "        out = self.conv2(out)\n",
        "        \n",
        "        out = self.blocks(out)         # How is the shape the same after this???\n",
        "        out = self.conv3(out)\n",
        "        out = out.view(out.size(0), -1)\n",
        "        out = self.fc1(out)\n",
        "        out = self.relu1(out)\n",
        "        out = self.fc2(out)\n",
        "\n",
        "        return out"
      ],
      "execution_count": 4,
      "outputs": []
    },
    {
      "cell_type": "code",
      "metadata": {
        "id": "h4_F9ETdxqaF"
      },
      "source": [
        "\n",
        "def calc_accuracy(model, train=False): # add train param to calculate accuracy on both train and test\n",
        "    # Calculate Accuracy         \n",
        "    correct = 0\n",
        "    total = 0\n",
        "    \n",
        "    d_loader = train_loader if train else test_loader\n",
        "    # Iterate through test dataset\n",
        "    for images, labels in d_loader:\n",
        "        # Load images\n",
        "        images, labels = images.to(DEVICE), labels.to(DEVICE)        \n",
        "\n",
        "        # Forward pass only to get logits/output\n",
        "        outputs = model(images)\n",
        "\n",
        "        # Get predictions from the maximum value\n",
        "        _, predicted = torch.max(outputs.data, 1)\n",
        "\n",
        "        # Total number of labels\n",
        "        total += labels.size(0)\n",
        "\n",
        "        # Total correct predictions\n",
        "        correct += (predicted == labels).sum()\n",
        "\n",
        "    return 100 * correct / total\n",
        "\n",
        "def train(model): \n",
        "    print(f'Training for {EPOCHS} epochs')\n",
        "    optimizer = torch.optim.SGD(model.parameters(), lr=.01)  \n",
        "    accuracy = {'train': [], 'test': []}\n",
        "\n",
        "    for epoch in range(EPOCHS):    \n",
        "        for i, (images, labels) in enumerate(train_loader): \n",
        "            # This will load batch_size amount of samples\n",
        "            images, labels = images.requires_grad_().to(DEVICE), labels.to(DEVICE)                     \n",
        "\n",
        "            # Clear gradients w.r.t. parameters\n",
        "            optimizer.zero_grad()\n",
        "\n",
        "            # Forward pass to get output/logits\n",
        "            outputs = model(images)\n",
        "\n",
        "            # Calculate Loss: softmax --> cross entropy loss\n",
        "            loss = CRITERION(outputs, labels)\n",
        "\n",
        "            # Getting gradients w.r.t. parameters\n",
        "            loss.backward()\n",
        "\n",
        "            # Updating parameters\n",
        "            optimizer.step()\n",
        "\n",
        "        train_accuracy = calc_accuracy(model, train=True) # abstract accuracy function away\n",
        "        test_accuracy = calc_accuracy(model) # abstract accuracy function away\n",
        "        # Print Loss\n",
        "        print('Epoch: {} Loss: {}. Train Accuracy: {}, Test Accuracy: {}'.format(epoch, loss.item(), train_accuracy, test_accuracy))\n",
        "\n",
        "        accuracy['train'].append(train_accuracy.item())\n",
        "        accuracy['test'].append(test_accuracy.item())\n",
        "        \n",
        "    return pd.DataFrame(accuracy)"
      ],
      "execution_count": 5,
      "outputs": []
    },
    {
      "cell_type": "markdown",
      "metadata": {
        "id": "5tDL5Ega77Z_"
      },
      "source": [
        "## a) Plot Train and Test accuracy"
      ]
    },
    {
      "cell_type": "code",
      "metadata": {
        "colab": {
          "base_uri": "https://localhost:8080/",
          "height": 733
        },
        "id": "H41-2RjcxqaF",
        "outputId": "8fca06fd-1cf0-4a31-e294-268a4336ddc2"
      },
      "source": [
        "\n",
        "resdiual_network = CNNModel().to(DEVICE)\n",
        "resdiual_network_history = train(resdiual_network)\n",
        "resdiual_network_history.plot(y=['train', 'test'], use_index=True, xlabel='Epoch no.', ylabel='Accuracy (%)')"
      ],
      "execution_count": 6,
      "outputs": [
        {
          "output_type": "stream",
          "text": [
            "Training for 25 epochs\n",
            "Epoch: 0 Loss: 2.2685112953186035. Train Accuracy: 13.191999435424805, Test Accuracy: 13.239999771118164\n",
            "Epoch: 1 Loss: 2.0367963314056396. Train Accuracy: 26.0679988861084, Test Accuracy: 26.809999465942383\n",
            "Epoch: 2 Loss: 1.990281343460083. Train Accuracy: 27.983999252319336, Test Accuracy: 29.049999237060547\n",
            "Epoch: 3 Loss: 1.8291699886322021. Train Accuracy: 30.673999786376953, Test Accuracy: 31.479999542236328\n",
            "Epoch: 4 Loss: 1.9209339618682861. Train Accuracy: 33.49599838256836, Test Accuracy: 33.86000061035156\n",
            "Epoch: 5 Loss: 1.7385276556015015. Train Accuracy: 36.84199905395508, Test Accuracy: 37.439998626708984\n",
            "Epoch: 6 Loss: 1.7754242420196533. Train Accuracy: 38.947998046875, Test Accuracy: 38.96999740600586\n",
            "Epoch: 7 Loss: 1.5626598596572876. Train Accuracy: 34.369998931884766, Test Accuracy: 34.20000076293945\n",
            "Epoch: 8 Loss: 1.592860460281372. Train Accuracy: 42.657997131347656, Test Accuracy: 42.5\n",
            "Epoch: 9 Loss: 1.654094934463501. Train Accuracy: 43.93199920654297, Test Accuracy: 43.2599983215332\n",
            "Epoch: 10 Loss: 1.6850175857543945. Train Accuracy: 45.025997161865234, Test Accuracy: 44.40999984741211\n",
            "Epoch: 11 Loss: 1.3844594955444336. Train Accuracy: 46.46999740600586, Test Accuracy: 45.7599983215332\n",
            "Epoch: 12 Loss: 1.5455591678619385. Train Accuracy: 46.27199935913086, Test Accuracy: 45.78999710083008\n",
            "Epoch: 13 Loss: 1.5366289615631104. Train Accuracy: 47.145999908447266, Test Accuracy: 45.97999954223633\n",
            "Epoch: 14 Loss: 1.4361560344696045. Train Accuracy: 49.51799774169922, Test Accuracy: 48.21999740600586\n",
            "Epoch: 15 Loss: 1.4035873413085938. Train Accuracy: 50.24599838256836, Test Accuracy: 49.14999771118164\n",
            "Epoch: 16 Loss: 1.440170407295227. Train Accuracy: 51.54199981689453, Test Accuracy: 49.64999771118164\n",
            "Epoch: 17 Loss: 1.485811471939087. Train Accuracy: 52.56999969482422, Test Accuracy: 50.71999740600586\n",
            "Epoch: 18 Loss: 1.4248459339141846. Train Accuracy: 53.8120002746582, Test Accuracy: 51.349998474121094\n",
            "Epoch: 19 Loss: 1.3520452976226807. Train Accuracy: 52.17599868774414, Test Accuracy: 50.5099983215332\n",
            "Epoch: 20 Loss: 1.233424425125122. Train Accuracy: 54.21799850463867, Test Accuracy: 51.64999771118164\n",
            "Epoch: 21 Loss: 1.1922738552093506. Train Accuracy: 55.284000396728516, Test Accuracy: 52.38999938964844\n",
            "Epoch: 22 Loss: 1.3271561861038208. Train Accuracy: 56.25599670410156, Test Accuracy: 53.689998626708984\n",
            "Epoch: 23 Loss: 1.1563096046447754. Train Accuracy: 56.22200012207031, Test Accuracy: 53.39999771118164\n",
            "Epoch: 24 Loss: 1.2647123336791992. Train Accuracy: 56.02799987792969, Test Accuracy: 53.12999725341797\n"
          ],
          "name": "stdout"
        },
        {
          "output_type": "execute_result",
          "data": {
            "text/plain": [
              "<matplotlib.axes._subplots.AxesSubplot at 0x7f439255aa50>"
            ]
          },
          "metadata": {
            "tags": []
          },
          "execution_count": 6
        },
        {
          "output_type": "display_data",
          "data": {
            "image/png": "[encoded data removed]",
            "text/plain": [
              "<Figure size 432x288 with 1 Axes>"
            ]
          },
          "metadata": {
            "tags": [],
            "needs_background": "light"
          }
        }
      ]
    },
    {
      "cell_type": "code",
      "metadata": {
        "colab": {
          "base_uri": "https://localhost:8080/",
          "height": 1000
        },
        "id": "-TkgHkKvdNLa",
        "outputId": "a273abb7-8835-4f15-e704-fff3370aceed"
      },
      "source": [
        "# Just for fun, as a straight comparison to last week\n",
        "EPOCHS = 51\n",
        "resdiual_network = CNNModel().to(DEVICE)\n",
        "resdiual_network_history = train(resdiual_network)\n",
        "resdiual_network_history.plot(y=['train', 'test'], use_index=True, xlabel='Epoch no.', ylabel='Accuracy (%)')"
      ],
      "execution_count": 7,
      "outputs": [
        {
          "output_type": "stream",
          "text": [
            "Training for 51 epochs\n",
            "Epoch: 0 Loss: 2.184399127960205. Train Accuracy: 18.091999053955078, Test Accuracy: 17.579999923706055\n",
            "Epoch: 1 Loss: 1.9781843423843384. Train Accuracy: 28.599998474121094, Test Accuracy: 29.219999313354492\n",
            "Epoch: 2 Loss: 2.1509909629821777. Train Accuracy: 34.64999771118164, Test Accuracy: 35.52000045776367\n",
            "Epoch: 3 Loss: 1.7879705429077148. Train Accuracy: 35.22800064086914, Test Accuracy: 35.90999984741211\n",
            "Epoch: 4 Loss: 1.6254431009292603. Train Accuracy: 33.83799743652344, Test Accuracy: 34.029998779296875\n",
            "Epoch: 5 Loss: 1.4392951726913452. Train Accuracy: 41.06599807739258, Test Accuracy: 40.80999755859375\n",
            "Epoch: 6 Loss: 1.7015838623046875. Train Accuracy: 41.055999755859375, Test Accuracy: 40.959999084472656\n",
            "Epoch: 7 Loss: 1.6818602085113525. Train Accuracy: 39.641998291015625, Test Accuracy: 39.40999984741211\n",
            "Epoch: 8 Loss: 1.6117048263549805. Train Accuracy: 42.53999710083008, Test Accuracy: 42.03999710083008\n",
            "Epoch: 9 Loss: 1.4976998567581177. Train Accuracy: 44.06999969482422, Test Accuracy: 42.89999771118164\n",
            "Epoch: 10 Loss: 1.4641451835632324. Train Accuracy: 45.47200012207031, Test Accuracy: 44.79999923706055\n",
            "Epoch: 11 Loss: 1.328886866569519. Train Accuracy: 46.50199890136719, Test Accuracy: 45.64999771118164\n",
            "Epoch: 12 Loss: 1.471566915512085. Train Accuracy: 45.65599822998047, Test Accuracy: 44.689998626708984\n",
            "Epoch: 13 Loss: 1.3035829067230225. Train Accuracy: 44.70800018310547, Test Accuracy: 44.30999755859375\n",
            "Epoch: 14 Loss: 1.3868215084075928. Train Accuracy: 49.74599838256836, Test Accuracy: 48.77000045776367\n",
            "Epoch: 15 Loss: 1.1341962814331055. Train Accuracy: 49.90599822998047, Test Accuracy: 48.099998474121094\n",
            "Epoch: 16 Loss: 1.5288037061691284. Train Accuracy: 45.67399978637695, Test Accuracy: 44.39999771118164\n",
            "Epoch: 17 Loss: 1.5743404626846313. Train Accuracy: 52.06399917602539, Test Accuracy: 50.12999725341797\n",
            "Epoch: 18 Loss: 1.5153672695159912. Train Accuracy: 49.80399703979492, Test Accuracy: 48.23999786376953\n",
            "Epoch: 19 Loss: 1.272467851638794. Train Accuracy: 53.21999740600586, Test Accuracy: 51.19999694824219\n",
            "Epoch: 20 Loss: 1.197765827178955. Train Accuracy: 53.067996978759766, Test Accuracy: 50.69999694824219\n",
            "Epoch: 21 Loss: 1.2486612796783447. Train Accuracy: 53.51799774169922, Test Accuracy: 51.75\n",
            "Epoch: 22 Loss: 1.304996132850647. Train Accuracy: 52.843997955322266, Test Accuracy: 50.709999084472656\n",
            "Epoch: 23 Loss: 1.0269992351531982. Train Accuracy: 56.6099967956543, Test Accuracy: 53.97999954223633\n",
            "Epoch: 24 Loss: 1.36045241355896. Train Accuracy: 57.30999755859375, Test Accuracy: 54.54999923706055\n",
            "Epoch: 25 Loss: 1.4575788974761963. Train Accuracy: 54.38999938964844, Test Accuracy: 51.459999084472656\n",
            "Epoch: 26 Loss: 1.1424319744110107. Train Accuracy: 58.28999710083008, Test Accuracy: 55.189998626708984\n",
            "Epoch: 27 Loss: 1.1043063402175903. Train Accuracy: 57.21999740600586, Test Accuracy: 54.209999084472656\n",
            "Epoch: 28 Loss: 1.2542470693588257. Train Accuracy: 54.9219970703125, Test Accuracy: 51.88999938964844\n",
            "Epoch: 29 Loss: 1.1667451858520508. Train Accuracy: 58.321998596191406, Test Accuracy: 55.47999954223633\n",
            "Epoch: 30 Loss: 1.0937412977218628. Train Accuracy: 59.99199676513672, Test Accuracy: 56.69999694824219\n",
            "Epoch: 31 Loss: 1.1019313335418701. Train Accuracy: 60.45399856567383, Test Accuracy: 57.16999816894531\n",
            "Epoch: 32 Loss: 1.0874099731445312. Train Accuracy: 59.805999755859375, Test Accuracy: 56.40999984741211\n",
            "Epoch: 33 Loss: 1.173365831375122. Train Accuracy: 58.5359992980957, Test Accuracy: 55.46999740600586\n",
            "Epoch: 34 Loss: 1.118118405342102. Train Accuracy: 59.49199676513672, Test Accuracy: 55.46999740600586\n",
            "Epoch: 35 Loss: 0.9556946754455566. Train Accuracy: 62.227996826171875, Test Accuracy: 58.019996643066406\n",
            "Epoch: 36 Loss: 0.9454149007797241. Train Accuracy: 62.09599685668945, Test Accuracy: 58.68000030517578\n",
            "Epoch: 37 Loss: 1.088111162185669. Train Accuracy: 61.96399688720703, Test Accuracy: 58.209999084472656\n",
            "Epoch: 38 Loss: 1.1753406524658203. Train Accuracy: 62.4119987487793, Test Accuracy: 58.73999786376953\n",
            "Epoch: 39 Loss: 1.1861950159072876. Train Accuracy: 62.637996673583984, Test Accuracy: 58.64999771118164\n",
            "Epoch: 40 Loss: 1.1898328065872192. Train Accuracy: 62.53999710083008, Test Accuracy: 58.269996643066406\n",
            "Epoch: 41 Loss: 0.9710673093795776. Train Accuracy: 61.961997985839844, Test Accuracy: 57.55999755859375\n",
            "Epoch: 42 Loss: 1.1339343786239624. Train Accuracy: 62.06399917602539, Test Accuracy: 57.79999923706055\n",
            "Epoch: 43 Loss: 0.8726213574409485. Train Accuracy: 63.5359992980957, Test Accuracy: 59.019996643066406\n",
            "Epoch: 44 Loss: 1.1357409954071045. Train Accuracy: 63.28799819946289, Test Accuracy: 59.25\n",
            "Epoch: 45 Loss: 0.9507195353507996. Train Accuracy: 63.87999725341797, Test Accuracy: 59.599998474121094\n",
            "Epoch: 46 Loss: 0.9577592611312866. Train Accuracy: 64.19999694824219, Test Accuracy: 59.13999938964844\n",
            "Epoch: 47 Loss: 0.85992830991745. Train Accuracy: 64.18799591064453, Test Accuracy: 59.279998779296875\n",
            "Epoch: 48 Loss: 0.9802007675170898. Train Accuracy: 65.51200103759766, Test Accuracy: 60.529998779296875\n",
            "Epoch: 49 Loss: 1.0233908891677856. Train Accuracy: 65.57799530029297, Test Accuracy: 60.7599983215332\n",
            "Epoch: 50 Loss: 0.8567731976509094. Train Accuracy: 65.80799865722656, Test Accuracy: 60.3599967956543\n"
          ],
          "name": "stdout"
        },
        {
          "output_type": "execute_result",
          "data": {
            "text/plain": [
              "<matplotlib.axes._subplots.AxesSubplot at 0x7f4391448410>"
            ]
          },
          "metadata": {
            "tags": []
          },
          "execution_count": 7
        },
        {
          "output_type": "display_data",
          "data": {
            "image/png": "[encoded data removed]",
            "text/plain": [
              "<Figure size 432x288 with 1 Axes>"
            ]
          },
          "metadata": {
            "tags": [],
            "needs_background": "light"
          }
        }
      ]
    },
    {
      "cell_type": "markdown",
      "metadata": {
        "id": "M8YJLQAD77aA"
      },
      "source": [
        "## b) Accuracy and convergence comparison to ConvBlock with Batch Norm"
      ]
    },
    {
      "cell_type": "markdown",
      "metadata": {
        "id": "kKWBQvET77aB"
      },
      "source": [
        "From these experiments, we can see that the residual network is able to outperform last week's model by a significant margin. The CNN with batch normalization was only able to achieve 55.6% train accuracy, 52.5% test accuracy and a loss of 1.36 by epoch 25, or around 10k iterations (these are numbers are from my pdf last week). This is in comparison to the residual network which achieved 56% train accuracy, 53% test, and a loss of 1.26. However, one could still say that this was just due to the randomness inherent in the initialization. So I decided to train for 51 epochs or around 20k iterations to have a one to one comparison with last week. Here we see a drastic difference; the residual network performs around 5% better on both train and test, as well as a loss that is almost 15% lower (.85 vs .99)."
      ]
    }
  ]
}