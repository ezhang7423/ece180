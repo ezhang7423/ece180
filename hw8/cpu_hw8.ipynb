{
  "nbformat": 4,
  "nbformat_minor": 0,
  "metadata": {
    "colab": {
      "name": "cpu hw8.ipynb",
      "provenance": [],
      "collapsed_sections": []
    },
    "kernelspec": {
      "name": "python3",
      "display_name": "Python 3"
    },
    "language_info": {
      "name": "python"
    }
  },
  "cells": [
    {
      "cell_type": "code",
      "metadata": {
        "id": "j9qo5sr-Mdv5"
      },
      "source": [
        "#https://pytorch.org/tutorials/intermediate/char_rnn_generation_tutorial.html"
      ],
      "execution_count": 1,
      "outputs": []
    },
    {
      "cell_type": "code",
      "metadata": {
        "colab": {
          "base_uri": "https://localhost:8080/"
        },
        "id": "yOpQ96bvMgYZ",
        "outputId": "d8ee38dc-6f08-4d77-c4ae-3eb80016d4d9"
      },
      "source": [
        "!wget https://download.pytorch.org/tutorial/data.zip\n",
        "!unzip data.zip -o -d ./"
      ],
      "execution_count": 2,
      "outputs": [
        {
          "output_type": "stream",
          "text": [
            "--2021-06-04 14:27:20--  https://download.pytorch.org/tutorial/data.zip\n",
            "Resolving download.pytorch.org (download.pytorch.org)... 13.226.50.24, 13.226.50.98, 13.226.50.63, ...\n",
            "Connecting to download.pytorch.org (download.pytorch.org)|13.226.50.24|:443... connected.\n",
            "HTTP request sent, awaiting response... 200 OK\n",
            "Length: 2882130 (2.7M) [application/zip]\n",
            "Saving to: ‘data.zip.3’\n",
            "\n",
            "\rdata.zip.3            0%[                    ]       0  --.-KB/s               \rdata.zip.3          100%[===================>]   2.75M  --.-KB/s    in 0.1s    \n",
            "\n",
            "2021-06-04 14:27:20 (21.5 MB/s) - ‘data.zip.3’ saved [2882130/2882130]\n",
            "\n",
            "Archive:  data.zip\n",
            "caution: filename not matched:  -o\n"
          ],
          "name": "stdout"
        }
      ]
    },
    {
      "cell_type": "code",
      "metadata": {
        "colab": {
          "base_uri": "https://localhost:8080/"
        },
        "id": "B1_QvW5lMrv0",
        "outputId": "5ef39f05-566b-4359-8492-d9bb1032003a"
      },
      "source": [
        "from __future__ import unicode_literals, print_function, division\n",
        "from io import open\n",
        "import glob\n",
        "import os\n",
        "import torch\n",
        "import unicodedata\n",
        "import string\n",
        "import random\n",
        "import numpy as np\n",
        "import time\n",
        "import math\n",
        "\n",
        "\n",
        "torch.manual_seed(4)\n",
        "np.random.seed(4)\n",
        "random.seed(4)\n",
        "\n",
        "all_letters = string.ascii_letters + \" .,;'-\"\n",
        "n_letters = len(all_letters) + 1 # Plus EOS marker\n",
        "\n",
        "def findFiles(path): return glob.glob(path)\n",
        "\n",
        "# Turn a Unicode string to plain ASCII, thanks to https://stackoverflow.com/a/518232/2809427\n",
        "def unicodeToAscii(s):\n",
        "    return ''.join(\n",
        "        c for c in unicodedata.normalize('NFD', s)\n",
        "        if unicodedata.category(c) != 'Mn'\n",
        "        and c in all_letters\n",
        "    )\n",
        "\n",
        "# Read a file and split into lines\n",
        "def readLines(filename):\n",
        "    lines = open(filename, encoding='utf-8').read().strip().split('\\n')\n",
        "    return [unicodeToAscii(line) for line in lines]\n",
        "\n",
        "# Build the category_lines and category_lines_val dictionary, a list of lines per category\n",
        "category_lines = {}\n",
        "category_lines_val = {}\n",
        "all_categories = []\n",
        "for filename in findFiles('data/names/*.txt'):\n",
        "    category = os.path.splitext(os.path.basename(filename))[0]\n",
        "    all_categories.append(category)\n",
        "    lines = readLines(filename)\n",
        "    random.shuffle(lines)\n",
        "    eighty_five_pct = int(.85 * len(lines))\n",
        "    category_lines[category] = lines[:eighty_five_pct]\n",
        "    category_lines_val[category] = lines[eighty_five_pct:]\n",
        "\n",
        "n_categories = len(all_categories)\n",
        "\n",
        "if n_categories == 0:\n",
        "    raise RuntimeError('Data not found. Make sure that you downloaded data '\n",
        "        'from https://download.pytorch.org/tutorial/data.zip and extract it to '\n",
        "        'the current directory.')\n",
        "\n",
        "print('# categories:', n_categories, all_categories)\n",
        "print(unicodeToAscii(\"O'Néàl\"))\n",
        "\n",
        "DEVICE = 'cuda' if torch.cuda.is_available() else 'cpu'\n",
        "\n",
        "print(DEVICE)\n",
        "\n",
        "def timeSince(since):\n",
        "    now = time.time()\n",
        "    s = now - since\n",
        "    m = math.floor(s / 60)\n",
        "    s -= m * 60\n",
        "    return '%dm %ds' % (m, s)"
      ],
      "execution_count": 3,
      "outputs": [
        {
          "output_type": "stream",
          "text": [
            "# categories: 18 ['Scottish', 'Czech', 'Greek', 'Italian', 'Korean', 'Chinese', 'Spanish', 'Portuguese', 'English', 'German', 'Vietnamese', 'Russian', 'Polish', 'Arabic', 'Irish', 'Japanese', 'French', 'Dutch']\n",
            "O'Neal\n",
            "cpu\n"
          ],
          "name": "stdout"
        }
      ]
    },
    {
      "cell_type": "code",
      "metadata": {
        "id": "SajvaeksNfA9"
      },
      "source": [
        "import torch.nn as nn\n",
        "\n",
        "class RNN(nn.Module):\n",
        "    def __init__(self, input_size, hidden_size, output_size, dropout=True):\n",
        "        super(RNN, self).__init__()\n",
        "\n",
        "        self.drop_out = dropout\n",
        "        self.hidden_size = hidden_size\n",
        "\n",
        "        self.i2h = nn.Linear(n_categories + input_size + hidden_size, hidden_size)\n",
        "        self.i2o = nn.Linear(n_categories + input_size + hidden_size, output_size)\n",
        "        self.o2o = nn.Linear(hidden_size + output_size, output_size)\n",
        "\n",
        "        if self.drop_out:\n",
        "          self.dropout = nn.Dropout(0.1)\n",
        "\n",
        "        self.softmax = nn.LogSoftmax(dim=1)\n",
        "\n",
        "    def forward(self, category, input, hidden):\n",
        "        input_combined = torch.cat((category, input, hidden), 1)\n",
        "        hidden = self.i2h(input_combined)\n",
        "        output = self.i2o(input_combined)\n",
        "        output_combined = torch.cat((hidden, output), 1)\n",
        "        output = self.o2o(output_combined)\n",
        "        \n",
        "        if self.drop_out:\n",
        "          output = self.dropout(output)\n",
        "          \n",
        "        output = self.softmax(output)\n",
        "        return output, hidden\n",
        "\n",
        "    def initHidden(self):\n",
        "        return torch.zeros(1, self.hidden_size)"
      ],
      "execution_count": 35,
      "outputs": []
    },
    {
      "cell_type": "code",
      "metadata": {
        "id": "fgAzj0SdO8Kr"
      },
      "source": [
        "import random\n",
        "\n",
        "# Random item from a list\n",
        "def randomChoice(l):\n",
        "    return l[random.randint(0, len(l) - 1)]\n",
        "\n",
        "# Get a random category and random line from that category\n",
        "def randomTrainingPair():\n",
        "    category = randomChoice(all_categories)\n",
        "    line = randomChoice(category_lines[category])\n",
        "    return category, line"
      ],
      "execution_count": 36,
      "outputs": []
    },
    {
      "cell_type": "code",
      "metadata": {
        "id": "NHAq5HzdPCgw"
      },
      "source": [
        "# One-hot vector for category\n",
        "def categoryTensor(category):\n",
        "    li = all_categories.index(category)\n",
        "    tensor = torch.zeros(1, n_categories)\n",
        "    tensor[0][li] = 1\n",
        "    return tensor\n",
        "\n",
        "# One-hot matrix of first to last letters (not including EOS) for input\n",
        "def inputTensor(line):\n",
        "    tensor = torch.zeros(len(line), 1, n_letters)\n",
        "    for li in range(len(line)):\n",
        "        letter = line[li]\n",
        "        tensor[li][0][all_letters.find(letter)] = 1\n",
        "    return tensor\n",
        "\n",
        "# LongTensor of second letter to end (EOS) for target\n",
        "def targetTensor(line):\n",
        "    letter_indexes = [all_letters.find(line[li]) for li in range(1, len(line))]\n",
        "    letter_indexes.append(n_letters - 1) # EOS\n",
        "    return torch.LongTensor(letter_indexes)"
      ],
      "execution_count": 37,
      "outputs": []
    },
    {
      "cell_type": "code",
      "metadata": {
        "id": "oaJPhTMwPsvr"
      },
      "source": [
        "# Make category, input, and target tensors from a random category, line pair\n",
        "def randomTrainingExample():\n",
        "    category, line = randomTrainingPair()\n",
        "    category_tensor = categoryTensor(category)\n",
        "    input_line_tensor = inputTensor(line)\n",
        "    target_line_tensor = targetTensor(line)\n",
        "    return category_tensor, input_line_tensor, target_line_tensor"
      ],
      "execution_count": 38,
      "outputs": []
    },
    {
      "cell_type": "code",
      "metadata": {
        "id": "yqV-au5YPuVL"
      },
      "source": [
        "criterion = nn.NLLLoss()\n",
        "\n",
        "learning_rate = 0.0005\n",
        "\n",
        "def test_validation():\n",
        "  total_loss = 0\n",
        "  total_samples = 0\n",
        "\n",
        "  with torch.no_grad():\n",
        "    for cat in category_lines_val:\n",
        "      for sample in category_lines_val[cat]:\n",
        "\n",
        "        loss = 0\n",
        "        category_tensor = categoryTensor(cat)\n",
        "        input_line_tensor = inputTensor(sample)\n",
        "        target_line_tensor = targetTensor(sample)\n",
        "        target_line_tensor.unsqueeze_(-1)\n",
        "        hidden = rnn.initHidden()\n",
        "\n",
        "        for i in range(input_line_tensor.size(0)):\n",
        "          output, hidden = rnn(category_tensor, input_line_tensor[i], hidden)\n",
        "          l = criterion(output, target_line_tensor[i])\n",
        "          loss += l      \n",
        "\n",
        "        total_loss += (loss.item() / input_line_tensor.size(0)) \n",
        "        total_samples += 1\n",
        "  \n",
        "  return total_loss / total_samples\n",
        "\n",
        "\n",
        "def train(category_tensor, input_line_tensor, target_line_tensor, weight_decay = 0):\n",
        "    target_line_tensor.unsqueeze_(-1)\n",
        "    hidden = rnn.initHidden()\n",
        "\n",
        "    rnn.zero_grad()\n",
        "\n",
        "    loss = 0\n",
        "\n",
        "    for i in range(input_line_tensor.size(0)):\n",
        "        output, hidden = rnn(category_tensor, input_line_tensor[i], hidden)\n",
        "        l = criterion(output, target_line_tensor[i])\n",
        "        loss += l\n",
        "\n",
        "    loss.backward()\n",
        "\n",
        "    for p in rnn.parameters():\n",
        "        p.data.add_(p.grad.data, alpha=-learning_rate)\n",
        "        p.data.add_(p.data, alpha=-weight_decay)\n",
        "\n",
        "    return output, loss.item() / input_line_tensor.size(0)"
      ],
      "execution_count": 39,
      "outputs": []
    },
    {
      "cell_type": "code",
      "metadata": {
        "id": "AZXBLlEmP4Kp"
      },
      "source": [
        "import matplotlib.pyplot as plt\n",
        "import matplotlib.ticker as ticker\n",
        "\n",
        "\n",
        "def plot_loss(n_iters, history):\n",
        "  plt.figure()\n",
        "  lal = len(history)\n",
        "  plt.plot([i * n_iters / lal  for i in range(lal)], history)\n",
        "\n",
        "def plot_and_train(dropout=True, l2=False):\n",
        "  if l2:\n",
        "    dropout = False\n",
        "  \n",
        "  l2_optimal_weight = 1e-5\n",
        "\n",
        "  rnn = RNN(n_letters, 128, n_letters, dropout=dropout)\n",
        "\n",
        "  n_iters = 100000\n",
        "  print_every = 5000\n",
        "  plot_every = 50\n",
        "  all_losses = []\n",
        "\n",
        "  start = time.time()\n",
        "\n",
        "  for iter in range(1, n_iters + 1):\n",
        "      output, loss = train(*randomTrainingExample(), weight_decay=l2_optimal_weight)\n",
        "\n",
        "      if iter % print_every == 0:\n",
        "          print('Time: %s Progress: (%d %d%%) Loss: %.4f' % (timeSince(start), iter, iter / n_iters * 100, loss))\n",
        "          val_loss = test_validation()\n",
        "          all_losses.append(val_loss)\n",
        "          print(f'Validation loss: {val_loss}\\n')\n",
        "\n",
        "  plot_loss(n_iters, all_losses)\n",
        "  return rnn"
      ],
      "execution_count": 54,
      "outputs": []
    },
    {
      "cell_type": "code",
      "metadata": {
        "colab": {
          "base_uri": "https://localhost:8080/"
        },
        "id": "fuxum369al2A",
        "outputId": "471a77c8-2301-46c9-ad09-e20bd60fac7c"
      },
      "source": [
        "rnn = plot_and_train()"
      ],
      "execution_count": null,
      "outputs": [
        {
          "output_type": "stream",
          "text": [
            "Time: 0m 13s Progress: (5000 5%) Loss: 2.5955\n",
            "Validation loss: 2.540409423580842\n",
            "\n"
          ],
          "name": "stdout"
        }
      ]
    },
    {
      "cell_type": "code",
      "metadata": {
        "colab": {
          "base_uri": "https://localhost:8080/",
          "height": 466
        },
        "id": "z78PQxNdgYXw",
        "outputId": "94e7ebf8-3660-4b8c-8caa-03189fc9777a"
      },
      "source": [
        "plot_and_train(dropout=False)"
      ],
      "execution_count": 48,
      "outputs": [
        {
          "output_type": "stream",
          "text": [
            "Time: 0m 13s Progress: (5000 25%) Loss: 2.4001\n",
            "Validation loss: 2.5789086166830146\n",
            "\n",
            "Time: 0m 30s Progress: (10000 50%) Loss: 2.5777\n",
            "Validation loss: 2.5666429624155733\n",
            "\n",
            "Time: 0m 47s Progress: (15000 75%) Loss: 2.4861\n",
            "Validation loss: 2.5712892000868\n",
            "\n",
            "Time: 1m 4s Progress: (20000 100%) Loss: 2.2339\n",
            "Validation loss: 2.5427594114556045\n",
            "\n"
          ],
          "name": "stdout"
        },
        {
          "output_type": "display_data",
          "data": {
            "image/png": "[encoded data removed]",
            "text/plain": [
              "<Figure size 432x288 with 1 Axes>"
            ]
          },
          "metadata": {
            "tags": [],
            "needs_background": "light"
          }
        }
      ]
    },
    {
      "cell_type": "code",
      "metadata": {
        "colab": {
          "base_uri": "https://localhost:8080/",
          "height": 469
        },
        "id": "btjPKNDIlMWT",
        "outputId": "741922cb-ca3d-43d6-babc-7c0a7db2f050"
      },
      "source": [
        "plot_and_train(l2=True)"
      ],
      "execution_count": 49,
      "outputs": [
        {
          "output_type": "stream",
          "text": [
            "Time: 0m 13s Progress: (5000 25%) Loss: 2.4176\n",
            "Validation loss: 2.5591960368389888\n",
            "\n",
            "Time: 0m 30s Progress: (10000 50%) Loss: 3.5373\n",
            "Validation loss: 2.544270695872497\n",
            "\n",
            "Time: 0m 47s Progress: (15000 75%) Loss: 2.3743\n",
            "Validation loss: 2.5366601817634917\n",
            "\n",
            "Time: 1m 4s Progress: (20000 100%) Loss: 1.9654\n",
            "Validation loss: 2.543472065304242\n",
            "\n"
          ],
          "name": "stdout"
        },
        {
          "output_type": "display_data",
          "data": {
            "image/png": "[encoded data removed]",
            "text/plain": [
              "<Figure size 432x288 with 1 Axes>"
            ]
          },
          "metadata": {
            "tags": [],
            "needs_background": "light"
          }
        }
      ]
    },
    {
      "cell_type": "code",
      "metadata": {
        "colab": {
          "base_uri": "https://localhost:8080/"
        },
        "id": "1np8xGNrlRiZ",
        "outputId": "77fffebd-7a17-4d98-a791-63b9a104265e"
      },
      "source": [
        "max_length = 20\n",
        "\n",
        "# Sample from a category and starting letter\n",
        "def sample(category, start_letter='A'):\n",
        "    with torch.no_grad():  # no need to track history in sampling\n",
        "        category_tensor = categoryTensor(category)\n",
        "        input = inputTensor(start_letter)\n",
        "        hidden = rnn.initHidden()\n",
        "\n",
        "        output_name = start_letter\n",
        "\n",
        "        for i in range(max_length):\n",
        "            output, hidden = rnn(category_tensor, input[0], hidden)\n",
        "            topv, topi = output.topk(1)\n",
        "            topi = topi[0][0]\n",
        "            if topi == n_letters - 1:\n",
        "                break\n",
        "            else:\n",
        "                letter = all_letters[topi]\n",
        "                output_name += letter\n",
        "            input = inputTensor(letter)\n",
        "\n",
        "        return output_name\n",
        "\n",
        "# Get multiple samples from one category and multiple starting letters\n",
        "langs = ['English', 'Portuguese', 'Russian', 'Greek', 'Chinese', 'Dutch']\n",
        "\n",
        "out = [print(f\"Sample name in {lang}: {sample(lang, 'E')} \\n\") for lang in langs]"
      ],
      "execution_count": 53,
      "outputs": [
        {
          "output_type": "stream",
          "text": [
            "Sample name in English: Eanter \n",
            "\n",
            "Sample name in Portuguese: Eaner \n",
            "\n",
            "Sample name in Russian: Eanton \n",
            "\n",
            "Sample name in Greek: Earousosos \n",
            "\n",
            "Sample name in Chinese: Eon \n",
            "\n",
            "Sample name in Dutch: Earen \n",
            "\n"
          ],
          "name": "stdout"
        }
      ]
    },
    {
      "cell_type": "code",
      "metadata": {
        "id": "7yOqOki7mzIQ"
      },
      "source": [
        ""
      ],
      "execution_count": null,
      "outputs": []
    }
  ]
}